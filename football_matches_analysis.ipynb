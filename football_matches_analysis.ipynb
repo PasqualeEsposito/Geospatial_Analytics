{
 "cells": [
  {
   "cell_type": "markdown",
   "metadata": {},
   "source": [
    "# Project 4: Football matches as mobility networks\n",
    "During a football match, players move on the field to attack and defend. This generates a series of movements that can be analyzed to understand the players behavior.<br><br>\n",
    "The student should use the `Wyscout open dataset`, describing the “events” in all matches of seven competitions (e.g., passes, shots, tackles etc.), to analyze pass chains and the mobility of football players. A player’s movement is defined by consecutive events made by that player in the match.<br><br>\n",
    "- Investigate the distances traveled by players during their matches and their distributions. Discuss about the similarity of these distributions with those about mobility trajectories seen during the course.<br><br>\n",
    "- Relate the pass chains made by teams with the probability of making a shot, a goal, and to win a match. Are long chains more likely to lead to a shot/goal? Are short pass chains more successful?<br><br>\n",
    "- Quantify the predictability of pass chains based on some division of the football field (tessellation). To what extent can we predict the next tile (field zone) where the ball will be? Use a next-location predictor to quantify the accuracy to predict the next zone the ball will be."
   ]
  },
  {
   "cell_type": "code",
   "execution_count": 62,
   "metadata": {},
   "outputs": [],
   "source": [
    "import json\n",
    "import numpy as np\n",
    "import pandas as pd\n",
    "import matplotlib.pyplot as plt\n",
    "from utils import *\n",
    "from collections import Counter\n",
    "import operator"
   ]
  },
  {
   "cell_type": "code",
   "execution_count": 2,
   "metadata": {},
   "outputs": [],
   "source": [
    "# loading the events data\n",
    "events={}\n",
    "nations = ['Italy','England','Germany','France','Spain','European_Championship','World_Cup']\n",
    "for nation in nations:\n",
    "    with open('./data/events/events_%s.json' %nation) as json_data:\n",
    "        events[nation] = json.load(json_data)\n",
    "        \n",
    "# loading the match data\n",
    "matches={}\n",
    "nations = ['Italy','England','Germany','France','Spain','European_Championship','World_Cup']\n",
    "for nation in nations:\n",
    "    with open('./data/matches/matches_%s.json' %nation) as json_data:\n",
    "        matches[nation] = json.load(json_data)\n",
    "\n",
    "# loading the players data\n",
    "players={}\n",
    "with open('./data/players.json') as json_data:\n",
    "    players = json.load(json_data)\n",
    "\n",
    "# loading the competitions data\n",
    "competitions={}\n",
    "with open('./data/competitions.json') as json_data:\n",
    "    competitions = json.load(json_data)"
   ]
  },
  {
   "cell_type": "code",
   "execution_count": 3,
   "metadata": {},
   "outputs": [],
   "source": [
    "teams={}\n",
    "with open('./data/teams.json') as json_data:\n",
    "    teams = json.load(json_data)"
   ]
  },
  {
   "cell_type": "markdown",
   "metadata": {},
   "source": [
    "## Italian division analysis"
   ]
  },
  {
   "cell_type": "code",
   "execution_count": 4,
   "metadata": {},
   "outputs": [
    {
     "data": {
      "text/plain": [
       "list"
      ]
     },
     "execution_count": 4,
     "metadata": {},
     "output_type": "execute_result"
    }
   ],
   "source": [
    "type(teams)"
   ]
  },
  {
   "cell_type": "code",
   "execution_count": 5,
   "metadata": {},
   "outputs": [],
   "source": [
    "italian_teams = []"
   ]
  },
  {
   "cell_type": "code",
   "execution_count": 6,
   "metadata": {},
   "outputs": [],
   "source": [
    "for team in teams:\n",
    "    if team['area']['name'] == 'Italy':\n",
    "        italian_teams.append(team)"
   ]
  },
  {
   "cell_type": "code",
   "execution_count": 7,
   "metadata": {},
   "outputs": [
    {
     "data": {
      "text/plain": [
       "21"
      ]
     },
     "execution_count": 7,
     "metadata": {},
     "output_type": "execute_result"
    }
   ],
   "source": [
    "len(italian_teams)"
   ]
  },
  {
   "cell_type": "code",
   "execution_count": 8,
   "metadata": {},
   "outputs": [],
   "source": [
    "italian_teams.remove(italian_teams[-1])"
   ]
  },
  {
   "cell_type": "code",
   "execution_count": 9,
   "metadata": {},
   "outputs": [
    {
     "name": "stdout",
     "output_type": "stream",
     "text": [
      "SPAL\n",
      "Milan\n",
      "Juventus\n",
      "Roma\n",
      "Sassuolo\n",
      "Bologna\n",
      "Sampdoria\n",
      "Chievo\n",
      "Lazio\n",
      "Udinese\n",
      "Internazionale\n",
      "Benevento\n",
      "Cagliari\n",
      "Atalanta\n",
      "Fiorentina\n",
      "Torino\n",
      "Napoli\n",
      "Crotone\n",
      "Hellas Verona\n",
      "Genoa\n"
     ]
    }
   ],
   "source": [
    "for team in italian_teams:\n",
    "    print(team['name'])"
   ]
  },
  {
   "cell_type": "code",
   "execution_count": 10,
   "metadata": {},
   "outputs": [
    {
     "data": {
      "text/plain": [
       "{'city': 'Ferrara',\n",
       " 'name': 'SPAL',\n",
       " 'wyId': 3204,\n",
       " 'officialName': 'Societ\\\\u00e0 Polisportiva Ars et Labor 2013',\n",
       " 'area': {'name': 'Italy',\n",
       "  'id': '380',\n",
       "  'alpha3code': 'ITA',\n",
       "  'alpha2code': 'IT'},\n",
       " 'type': 'club'}"
      ]
     },
     "execution_count": 10,
     "metadata": {},
     "output_type": "execute_result"
    }
   ],
   "source": [
    "italian_teams[0]"
   ]
  },
  {
   "cell_type": "code",
   "execution_count": 11,
   "metadata": {},
   "outputs": [],
   "source": [
    "italian_teams_codes = []\n",
    "for team in italian_teams:\n",
    "    italian_teams_codes.append([team['name'], str(team['wyId'])])\n",
    "italian_teams = italian_teams_codes"
   ]
  },
  {
   "cell_type": "code",
   "execution_count": 12,
   "metadata": {},
   "outputs": [
    {
     "data": {
      "text/plain": [
       "[['SPAL', '3204'],\n",
       " ['Milan', '3157'],\n",
       " ['Juventus', '3159'],\n",
       " ['Roma', '3158'],\n",
       " ['Sassuolo', '3315'],\n",
       " ['Bologna', '3166'],\n",
       " ['Sampdoria', '3164'],\n",
       " ['Chievo', '3165'],\n",
       " ['Lazio', '3162'],\n",
       " ['Udinese', '3163'],\n",
       " ['Internazionale', '3161'],\n",
       " ['Benevento', '3219'],\n",
       " ['Cagliari', '3173'],\n",
       " ['Atalanta', '3172'],\n",
       " ['Fiorentina', '3176'],\n",
       " ['Torino', '3185'],\n",
       " ['Napoli', '3187'],\n",
       " ['Crotone', '3197'],\n",
       " ['Hellas Verona', '3194'],\n",
       " ['Genoa', '3193']]"
      ]
     },
     "execution_count": 12,
     "metadata": {},
     "output_type": "execute_result"
    }
   ],
   "source": [
    "italian_teams"
   ]
  },
  {
   "cell_type": "code",
   "execution_count": 13,
   "metadata": {},
   "outputs": [],
   "source": [
    "teams_codes = []\n",
    "for team in italian_teams:\n",
    "    teams_codes.append(team[1])"
   ]
  },
  {
   "cell_type": "code",
   "execution_count": 14,
   "metadata": {},
   "outputs": [],
   "source": [
    "italian_matches = matches['Italy']"
   ]
  },
  {
   "cell_type": "code",
   "execution_count": 15,
   "metadata": {},
   "outputs": [],
   "source": [
    "teams_matches = {}\n",
    "for match in italian_matches:\n",
    "    if list(match['teamsData'].keys())[0] not in list(teams_matches.keys()):\n",
    "        teams_matches[list(match['teamsData'].keys())[0]] = [match]\n",
    "    else:\n",
    "        teams_matches[list(match['teamsData'].keys())[0]].append(match)\n",
    "    if list(match['teamsData'].keys())[1] not in list(teams_matches.keys()):\n",
    "        teams_matches[list(match['teamsData'].keys())[1]] = [match]\n",
    "    else:\n",
    "        teams_matches[list(match['teamsData'].keys())[1]].append(match)"
   ]
  },
  {
   "cell_type": "code",
   "execution_count": 16,
   "metadata": {},
   "outputs": [
    {
     "data": {
      "text/plain": [
       "20"
      ]
     },
     "execution_count": 16,
     "metadata": {},
     "output_type": "execute_result"
    }
   ],
   "source": [
    "len(teams_matches)"
   ]
  },
  {
   "cell_type": "code",
   "execution_count": 17,
   "metadata": {},
   "outputs": [
    {
     "name": "stdout",
     "output_type": "stream",
     "text": [
      "38\n",
      "38\n",
      "38\n",
      "38\n",
      "38\n",
      "38\n",
      "38\n",
      "38\n",
      "38\n",
      "38\n",
      "38\n",
      "38\n",
      "38\n",
      "38\n",
      "38\n",
      "38\n",
      "38\n",
      "38\n",
      "38\n",
      "38\n"
     ]
    }
   ],
   "source": [
    "for code in italian_teams:\n",
    "    print(len(teams_matches[code[1]]))"
   ]
  },
  {
   "cell_type": "markdown",
   "metadata": {},
   "source": [
    "### Code 3162 (SS Lazio)"
   ]
  },
  {
   "cell_type": "code",
   "execution_count": 18,
   "metadata": {},
   "outputs": [],
   "source": [
    "lazio_players = []\n",
    "\n",
    "for match in teams_matches['3162']:\n",
    "    for player in match['teamsData']['3162']['formation']['lineup']:\n",
    "        if player['playerId'] not in lazio_players:\n",
    "            lazio_players.append(player['playerId'])"
   ]
  },
  {
   "cell_type": "code",
   "execution_count": 64,
   "metadata": {},
   "outputs": [
    {
     "data": {
      "text/plain": [
       "[21384,\n",
       " 20550,\n",
       " 130,\n",
       " 346908,\n",
       " 376362,\n",
       " 166534,\n",
       " 20561,\n",
       " 40806,\n",
       " 265865,\n",
       " 228928,\n",
       " 7965,\n",
       " 20575,\n",
       " 260250,\n",
       " 101635,\n",
       " 3484,\n",
       " 20460,\n",
       " 21350,\n",
       " 37745,\n",
       " 208865,\n",
       " 4792,\n",
       " 7926,\n",
       " 364640]"
      ]
     },
     "execution_count": 64,
     "metadata": {},
     "output_type": "execute_result"
    }
   ],
   "source": [
    "lazio_players"
   ]
  },
  {
   "cell_type": "code",
   "execution_count": null,
   "metadata": {},
   "outputs": [],
   "source": [
    "average_distance_per_player(21384, teams_matches['3162'])"
   ]
  },
  {
   "cell_type": "code",
   "execution_count": 70,
   "metadata": {},
   "outputs": [
    {
     "data": {
      "text/plain": [
       "{'eventId': 8,\n",
       " 'subEventName': 'Simple pass',\n",
       " 'tags': [{'id': 1801}],\n",
       " 'playerId': 20438,\n",
       " 'positions': [{'y': 44, 'x': 43}, {'y': 17, 'x': 36}],\n",
       " 'matchId': 2575959,\n",
       " 'eventName': 'Pass',\n",
       " 'teamId': 3158,\n",
       " 'matchPeriod': '1H',\n",
       " 'eventSec': 3.768417999999997,\n",
       " 'subEventId': 85,\n",
       " 'id': 180423958}"
      ]
     },
     "execution_count": 70,
     "metadata": {},
     "output_type": "execute_result"
    }
   ],
   "source": [
    "events['Italy'][1]"
   ]
  },
  {
   "cell_type": "code",
   "execution_count": 67,
   "metadata": {},
   "outputs": [
    {
     "name": "stdout",
     "output_type": "stream",
     "text": [
      "Ciro Immobile\n",
      "\\u015etefan Daniel Radu\n",
      "Stefan de Vrij\n",
      "Alessandro Murgia\n",
      "Luiz Felipe Ramos Marchi\n",
      "Thomas Strakosha\n",
      "Senad Luli\\u0107\n",
      "Felipe  Anderson Pereira Gomes\n",
      "Sergej Milinkovi\\u0107-Savi\\u0107\n",
      "Adam Maru\\u0161i\\u0107\n",
      "Lucas  Pezzini Leiva\n",
      "Du\\u0161an Basta\n",
      "Wallace Fortuna dos Santos\n",
      "Felipe Salvador Caicedo Corozo\n",
      "Luis Alberto Romero Alconchel\n",
      "Jos\\u00e9 Mart\\u00edn C\\u00e1ceres Silva\n",
      "Marco Parolo\n",
      "Jordan Zacharie Lukaku Menama Mokelenge\n",
      "Bartolomeu Jacinto Quissanga\n",
      "Patricio Gabarr\\u00f3n Gil\n",
      "Lu\\u00eds Carlos Almeida da Cunha\n",
      "Simone Palombi\n"
     ]
    }
   ],
   "source": [
    "#average distance per player per match, returns an array of average distances\n",
    "def average_distance_per_player(player_id, team_matches):\n",
    "    average_distances = []\n",
    "    for match in team_matches:\n",
    "        distances = []\n",
    "        for player in match['teamsData']['3162']['formation']['lineup']:\n",
    "            if player['playerId'] == player_id:\n",
    "                for event in events['Italy']:\n",
    "                    if event['matchId'] == match['wyId'] and event['playerId'] == player_id:\n",
    "                        distances.append(distance(event['positions'][0]['x'], event['positions'][0]['y'], event['positions'][1]['x'], event['positions'][1]['y']))\n",
    "        average_distances.append(np.mean(distances))\n",
    "    return average_distances"
   ]
  },
  {
   "cell_type": "code",
   "execution_count": null,
   "metadata": {},
   "outputs": [],
   "source": []
  },
  {
   "cell_type": "code",
   "execution_count": null,
   "metadata": {},
   "outputs": [],
   "source": []
  },
  {
   "cell_type": "code",
   "execution_count": null,
   "metadata": {},
   "outputs": [],
   "source": []
  },
  {
   "cell_type": "code",
   "execution_count": null,
   "metadata": {},
   "outputs": [],
   "source": []
  },
  {
   "cell_type": "code",
   "execution_count": 21,
   "metadata": {},
   "outputs": [
    {
     "name": "stdout",
     "output_type": "stream",
     "text": [
      "{'city': 'Castel Volturno', 'name': 'Napoli', 'wyId': 3187, 'officialName': 'SSC Napoli', 'area': {'name': 'Italy', 'id': '380', 'alpha3code': 'ITA', 'alpha2code': 'IT'}, 'type': 'club'}\n"
     ]
    }
   ],
   "source": [
    "for team in teams:\n",
    "    if team['name']=='Napoli':\n",
    "        print(team)"
   ]
  },
  {
   "cell_type": "code",
   "execution_count": 22,
   "metadata": {},
   "outputs": [
    {
     "data": {
      "text/plain": [
       "list"
      ]
     },
     "execution_count": 22,
     "metadata": {},
     "output_type": "execute_result"
    }
   ],
   "source": [
    "type(competitions)"
   ]
  },
  {
   "cell_type": "code",
   "execution_count": 23,
   "metadata": {},
   "outputs": [
    {
     "data": {
      "text/plain": [
       "{'name': 'Italian first division',\n",
       " 'wyId': 524,\n",
       " 'format': 'Domestic league',\n",
       " 'area': {'name': 'Italy',\n",
       "  'id': '380',\n",
       "  'alpha3code': 'ITA',\n",
       "  'alpha2code': 'IT'},\n",
       " 'type': 'club'}"
      ]
     },
     "execution_count": 23,
     "metadata": {},
     "output_type": "execute_result"
    }
   ],
   "source": [
    "competitions[0]"
   ]
  },
  {
   "cell_type": "code",
   "execution_count": 24,
   "metadata": {},
   "outputs": [
    {
     "data": {
      "text/plain": [
       "dict"
      ]
     },
     "execution_count": 24,
     "metadata": {},
     "output_type": "execute_result"
    }
   ],
   "source": [
    "type(matches)"
   ]
  },
  {
   "cell_type": "code",
   "execution_count": 25,
   "metadata": {},
   "outputs": [
    {
     "data": {
      "text/plain": [
       "dict_keys(['Italy', 'England', 'Germany', 'France', 'Spain', 'European_Championship', 'World_Cup'])"
      ]
     },
     "execution_count": 25,
     "metadata": {},
     "output_type": "execute_result"
    }
   ],
   "source": [
    "matches.keys()"
   ]
  },
  {
   "cell_type": "code",
   "execution_count": 26,
   "metadata": {},
   "outputs": [
    {
     "data": {
      "text/plain": [
       "list"
      ]
     },
     "execution_count": 26,
     "metadata": {},
     "output_type": "execute_result"
    }
   ],
   "source": [
    "type(matches['Italy'])"
   ]
  },
  {
   "cell_type": "code",
   "execution_count": 27,
   "metadata": {},
   "outputs": [],
   "source": [
    "matches['Italy'].reverse()"
   ]
  },
  {
   "cell_type": "code",
   "execution_count": 28,
   "metadata": {},
   "outputs": [
    {
     "data": {
      "text/plain": [
       "{'status': 'Played',\n",
       " 'roundId': 4406278,\n",
       " 'gameweek': 1,\n",
       " 'teamsData': {'3159': {'scoreET': 0,\n",
       "   'coachId': 20386,\n",
       "   'side': 'home',\n",
       "   'teamId': 3159,\n",
       "   'score': 3,\n",
       "   'scoreP': 0,\n",
       "   'hasFormation': 1,\n",
       "   'formation': {'bench': [{'playerId': 21128,\n",
       "      'ownGoals': '0',\n",
       "      'redCards': '0',\n",
       "      'goals': '0',\n",
       "      'yellowCards': '0'},\n",
       "     {'playerId': 20458,\n",
       "      'ownGoals': '0',\n",
       "      'redCards': '0',\n",
       "      'goals': '0',\n",
       "      'yellowCards': '0'},\n",
       "     {'playerId': 246061,\n",
       "      'ownGoals': '0',\n",
       "      'redCards': '0',\n",
       "      'goals': '0',\n",
       "      'yellowCards': '0'},\n",
       "     {'playerId': 361807,\n",
       "      'ownGoals': '0',\n",
       "      'redCards': '0',\n",
       "      'goals': '0',\n",
       "      'yellowCards': '0'},\n",
       "     {'playerId': 21290,\n",
       "      'ownGoals': '0',\n",
       "      'redCards': '0',\n",
       "      'goals': '0',\n",
       "      'yellowCards': '0'},\n",
       "     {'playerId': 20579,\n",
       "      'ownGoals': '0',\n",
       "      'redCards': '0',\n",
       "      'goals': '0',\n",
       "      'yellowCards': '0'},\n",
       "     {'playerId': 20588,\n",
       "      'ownGoals': '0',\n",
       "      'redCards': '0',\n",
       "      'goals': '0',\n",
       "      'yellowCards': '0'},\n",
       "     {'playerId': 20395,\n",
       "      'ownGoals': '0',\n",
       "      'redCards': '0',\n",
       "      'goals': '0',\n",
       "      'yellowCards': '0'},\n",
       "     {'playerId': 7849,\n",
       "      'ownGoals': '0',\n",
       "      'redCards': '0',\n",
       "      'goals': '0',\n",
       "      'yellowCards': '0'},\n",
       "     {'playerId': 105334,\n",
       "      'ownGoals': '0',\n",
       "      'redCards': '0',\n",
       "      'goals': '0',\n",
       "      'yellowCards': '0'},\n",
       "     {'playerId': 25437,\n",
       "      'ownGoals': '0',\n",
       "      'redCards': '0',\n",
       "      'goals': '0',\n",
       "      'yellowCards': '0'},\n",
       "     {'playerId': 3318,\n",
       "      'ownGoals': '0',\n",
       "      'redCards': '0',\n",
       "      'goals': '0',\n",
       "      'yellowCards': '0'}],\n",
       "    'lineup': [{'playerId': 20470,\n",
       "      'ownGoals': '0',\n",
       "      'redCards': '0',\n",
       "      'goals': '0',\n",
       "      'yellowCards': '0'},\n",
       "     {'playerId': 3323,\n",
       "      'ownGoals': '0',\n",
       "      'redCards': '0',\n",
       "      'goals': '1',\n",
       "      'yellowCards': '0'},\n",
       "     {'playerId': 20751,\n",
       "      'ownGoals': '0',\n",
       "      'redCards': '0',\n",
       "      'goals': '0',\n",
       "      'yellowCards': '0'},\n",
       "     {'playerId': 20465,\n",
       "      'ownGoals': '0',\n",
       "      'redCards': '0',\n",
       "      'goals': '0',\n",
       "      'yellowCards': '77'},\n",
       "     {'playerId': 20461,\n",
       "      'ownGoals': '0',\n",
       "      'redCards': '0',\n",
       "      'goals': '0',\n",
       "      'yellowCards': '0'},\n",
       "     {'playerId': 20455,\n",
       "      'ownGoals': '0',\n",
       "      'redCards': '0',\n",
       "      'goals': '0',\n",
       "      'yellowCards': '0'},\n",
       "     {'playerId': 70084,\n",
       "      'ownGoals': '0',\n",
       "      'redCards': '0',\n",
       "      'goals': '0',\n",
       "      'yellowCards': '0'},\n",
       "     {'playerId': 14943,\n",
       "      'ownGoals': '0',\n",
       "      'redCards': '0',\n",
       "      'goals': '1',\n",
       "      'yellowCards': '0'},\n",
       "     {'playerId': 20443,\n",
       "      'ownGoals': '0',\n",
       "      'redCards': '0',\n",
       "      'goals': '0',\n",
       "      'yellowCards': '0'},\n",
       "     {'playerId': 89186,\n",
       "      'ownGoals': '0',\n",
       "      'redCards': '0',\n",
       "      'goals': '1',\n",
       "      'yellowCards': '0'},\n",
       "     {'playerId': 134427,\n",
       "      'ownGoals': '0',\n",
       "      'redCards': '0',\n",
       "      'goals': '0',\n",
       "      'yellowCards': '0'}],\n",
       "    'substitutions': [{'playerIn': 3318, 'playerOut': 20470, 'minute': 62},\n",
       "     {'playerIn': 25437, 'playerOut': 3323, 'minute': 71},\n",
       "     {'playerIn': 105334, 'playerOut': 20751, 'minute': 74}]},\n",
       "   'scoreHT': 2},\n",
       "  '3173': {'scoreET': 0,\n",
       "   'coachId': 23551,\n",
       "   'side': 'away',\n",
       "   'teamId': 3173,\n",
       "   'score': 0,\n",
       "   'scoreP': 0,\n",
       "   'hasFormation': 1,\n",
       "   'formation': {'bench': [{'playerId': 402898,\n",
       "      'ownGoals': '0',\n",
       "      'redCards': '0',\n",
       "      'goals': '0',\n",
       "      'yellowCards': '0'},\n",
       "     {'playerId': 472938,\n",
       "      'ownGoals': '0',\n",
       "      'redCards': '0',\n",
       "      'goals': '0',\n",
       "      'yellowCards': '0'},\n",
       "     {'playerId': 20874,\n",
       "      'ownGoals': '0',\n",
       "      'redCards': '0',\n",
       "      'goals': '0',\n",
       "      'yellowCards': '0'},\n",
       "     {'playerId': 21639,\n",
       "      'ownGoals': '0',\n",
       "      'redCards': '0',\n",
       "      'goals': '0',\n",
       "      'yellowCards': '0'},\n",
       "     {'playerId': 283832,\n",
       "      'ownGoals': '0',\n",
       "      'redCards': '0',\n",
       "      'goals': '0',\n",
       "      'yellowCards': '0'},\n",
       "     {'playerId': 507570,\n",
       "      'ownGoals': '0',\n",
       "      'redCards': '0',\n",
       "      'goals': '0',\n",
       "      'yellowCards': '0'},\n",
       "     {'playerId': 21959,\n",
       "      'ownGoals': '0',\n",
       "      'redCards': '0',\n",
       "      'goals': '0',\n",
       "      'yellowCards': '0'},\n",
       "     {'playerId': 116171,\n",
       "      'ownGoals': '0',\n",
       "      'redCards': '0',\n",
       "      'goals': '0',\n",
       "      'yellowCards': '0'},\n",
       "     {'playerId': 20875,\n",
       "      'ownGoals': '0',\n",
       "      'redCards': '0',\n",
       "      'goals': '0',\n",
       "      'yellowCards': '0'},\n",
       "     {'playerId': 21865,\n",
       "      'ownGoals': '0',\n",
       "      'redCards': '0',\n",
       "      'goals': '0',\n",
       "      'yellowCards': '0'}],\n",
       "    'lineup': [{'playerId': 20472,\n",
       "      'ownGoals': '0',\n",
       "      'redCards': '0',\n",
       "      'goals': '0',\n",
       "      'yellowCards': '0'},\n",
       "     {'playerId': 69610,\n",
       "      'ownGoals': '0',\n",
       "      'redCards': '0',\n",
       "      'goals': '0',\n",
       "      'yellowCards': '0'},\n",
       "     {'playerId': 20850,\n",
       "      'ownGoals': '0',\n",
       "      'redCards': '0',\n",
       "      'goals': '0',\n",
       "      'yellowCards': '0'},\n",
       "     {'playerId': 20636,\n",
       "      'ownGoals': '0',\n",
       "      'redCards': '0',\n",
       "      'goals': '0',\n",
       "      'yellowCards': '0'},\n",
       "     {'playerId': 134413,\n",
       "      'ownGoals': '0',\n",
       "      'redCards': '0',\n",
       "      'goals': '0',\n",
       "      'yellowCards': '0'},\n",
       "     {'playerId': 286223,\n",
       "      'ownGoals': '0',\n",
       "      'redCards': '0',\n",
       "      'goals': '0',\n",
       "      'yellowCards': '0'},\n",
       "     {'playerId': 21370,\n",
       "      'ownGoals': '0',\n",
       "      'redCards': '0',\n",
       "      'goals': '0',\n",
       "      'yellowCards': '0'},\n",
       "     {'playerId': 22732,\n",
       "      'ownGoals': '0',\n",
       "      'redCards': '0',\n",
       "      'goals': '0',\n",
       "      'yellowCards': '0'},\n",
       "     {'playerId': 220359,\n",
       "      'ownGoals': '0',\n",
       "      'redCards': '0',\n",
       "      'goals': '0',\n",
       "      'yellowCards': '0'},\n",
       "     {'playerId': 23314,\n",
       "      'ownGoals': '0',\n",
       "      'redCards': '0',\n",
       "      'goals': '0',\n",
       "      'yellowCards': '0'},\n",
       "     {'playerId': 50073,\n",
       "      'ownGoals': '0',\n",
       "      'redCards': '0',\n",
       "      'goals': '0',\n",
       "      'yellowCards': '0'}],\n",
       "    'substitutions': [{'playerIn': 116171, 'playerOut': 20472, 'minute': 63},\n",
       "     {'playerIn': 21865, 'playerOut': 69610, 'minute': 81},\n",
       "     {'playerIn': 20875, 'playerOut': 20850, 'minute': 82}]},\n",
       "   'scoreHT': 0}},\n",
       " 'seasonId': 181248,\n",
       " 'dateutc': '2017-08-19 16:00:00',\n",
       " 'winner': 3159,\n",
       " 'venue': 'Allianz Stadium',\n",
       " 'wyId': 2575964,\n",
       " 'label': 'Juventus - Cagliari, 3 - 0',\n",
       " 'date': 'August 19, 2017 at 6:00:00 PM GMT+2',\n",
       " 'referees': [{'refereeId': 377263, 'role': 'referee'},\n",
       "  {'refereeId': 384999, 'role': 'firstAssistant'},\n",
       "  {'refereeId': 388418, 'role': 'secondAssistant'},\n",
       "  {'refereeId': 377261, 'role': 'fourthOfficial'},\n",
       "  {'refereeId': 377219, 'role': 'firstAdditionalAssistant'},\n",
       "  {'refereeId': 377249, 'role': 'secondAdditionalAssistant'}],\n",
       " 'duration': 'Regular',\n",
       " 'competitionId': 524}"
      ]
     },
     "execution_count": 28,
     "metadata": {},
     "output_type": "execute_result"
    }
   ],
   "source": [
    "matches['Italy'][0]"
   ]
  },
  {
   "cell_type": "code",
   "execution_count": 29,
   "metadata": {},
   "outputs": [
    {
     "data": {
      "text/plain": [
       "dict_keys(['status', 'roundId', 'gameweek', 'teamsData', 'seasonId', 'dateutc', 'winner', 'venue', 'wyId', 'label', 'date', 'referees', 'duration', 'competitionId'])"
      ]
     },
     "execution_count": 29,
     "metadata": {},
     "output_type": "execute_result"
    }
   ],
   "source": [
    "matches['Italy'][0].keys()"
   ]
  },
  {
   "cell_type": "code",
   "execution_count": 30,
   "metadata": {},
   "outputs": [
    {
     "data": {
      "text/plain": [
       "'3159'"
      ]
     },
     "execution_count": 30,
     "metadata": {},
     "output_type": "execute_result"
    }
   ],
   "source": [
    "list(matches['Italy'][0]['teamsData'].keys())[0]"
   ]
  },
  {
   "cell_type": "code",
   "execution_count": 31,
   "metadata": {},
   "outputs": [
    {
     "name": "stdout",
     "output_type": "stream",
     "text": [
      "20470\n",
      "3323\n",
      "20751\n",
      "20465\n",
      "20461\n",
      "20455\n",
      "70084\n",
      "14943\n",
      "20443\n",
      "89186\n",
      "134427\n"
     ]
    }
   ],
   "source": [
    "for player in matches['Italy'][0]['teamsData'][list(matches['Italy'][0]['teamsData'].keys())[0]]['formation']['lineup']:\n",
    "    print(player['playerId'])"
   ]
  },
  {
   "cell_type": "code",
   "execution_count": 32,
   "metadata": {},
   "outputs": [
    {
     "data": {
      "text/plain": [
       "{'passportArea': {'name': 'Turkey',\n",
       "  'id': '792',\n",
       "  'alpha3code': 'TUR',\n",
       "  'alpha2code': 'TR'},\n",
       " 'weight': 78,\n",
       " 'firstName': 'Harun',\n",
       " 'middleName': '',\n",
       " 'lastName': 'Tekin',\n",
       " 'currentTeamId': 4502,\n",
       " 'birthDate': '1989-06-17',\n",
       " 'height': 187,\n",
       " 'role': {'code2': 'GK', 'code3': 'GKP', 'name': 'Goalkeeper'},\n",
       " 'birthArea': {'name': 'Turkey',\n",
       "  'id': '792',\n",
       "  'alpha3code': 'TUR',\n",
       "  'alpha2code': 'TR'},\n",
       " 'wyId': 32777,\n",
       " 'foot': 'right',\n",
       " 'shortName': 'H. Tekin',\n",
       " 'currentNationalTeamId': 4687}"
      ]
     },
     "execution_count": 32,
     "metadata": {},
     "output_type": "execute_result"
    }
   ],
   "source": [
    "players[0]"
   ]
  },
  {
   "cell_type": "code",
   "execution_count": 33,
   "metadata": {},
   "outputs": [
    {
     "name": "stdout",
     "output_type": "stream",
     "text": [
      "{'passportArea': {'name': 'Italy', 'id': '380', 'alpha3code': 'ITA', 'alpha2code': 'IT'}, 'weight': 73, 'firstName': 'Claudio', 'middleName': '', 'lastName': 'Marchisio', 'currentTeamId': None, 'birthDate': '1986-01-19', 'height': 180, 'role': {'code2': 'MD', 'code3': 'MID', 'name': 'Midfielder'}, 'birthArea': {'name': 'Italy', 'id': '380', 'alpha3code': 'ITA', 'alpha2code': 'IT'}, 'wyId': 20470, 'foot': 'right', 'shortName': 'C. Marchisio', 'currentNationalTeamId': 3757}\n"
     ]
    }
   ],
   "source": [
    "for player in players:\n",
    "    if(player['wyId'] == 20470):\n",
    "        print(player)"
   ]
  },
  {
   "cell_type": "code",
   "execution_count": 34,
   "metadata": {},
   "outputs": [
    {
     "data": {
      "text/plain": [
       "dict"
      ]
     },
     "execution_count": 34,
     "metadata": {},
     "output_type": "execute_result"
    }
   ],
   "source": [
    "type(events)"
   ]
  },
  {
   "cell_type": "code",
   "execution_count": 35,
   "metadata": {},
   "outputs": [
    {
     "data": {
      "text/plain": [
       "dict_keys(['Italy', 'England', 'Germany', 'France', 'Spain', 'European_Championship', 'World_Cup'])"
      ]
     },
     "execution_count": 35,
     "metadata": {},
     "output_type": "execute_result"
    }
   ],
   "source": [
    "events.keys()"
   ]
  },
  {
   "cell_type": "code",
   "execution_count": 36,
   "metadata": {},
   "outputs": [
    {
     "data": {
      "text/plain": [
       "dict_keys(['eventId', 'subEventName', 'tags', 'playerId', 'positions', 'matchId', 'eventName', 'teamId', 'matchPeriod', 'eventSec', 'subEventId', 'id'])"
      ]
     },
     "execution_count": 36,
     "metadata": {},
     "output_type": "execute_result"
    }
   ],
   "source": [
    "events['Italy'][0].keys()"
   ]
  },
  {
   "cell_type": "code",
   "execution_count": 37,
   "metadata": {},
   "outputs": [],
   "source": [
    "events_marchisio=[]"
   ]
  },
  {
   "cell_type": "code",
   "execution_count": 38,
   "metadata": {},
   "outputs": [],
   "source": [
    "for event in events['Italy']:\n",
    "    if(event['playerId'] == 20470 and event['matchId'] == 2575964):\n",
    "        events_marchisio.append(event)"
   ]
  },
  {
   "cell_type": "code",
   "execution_count": 39,
   "metadata": {},
   "outputs": [],
   "source": [
    "for event in events['Italy']:\n",
    "    if(event['playerId'] == 20470 and event['matchId'] == 2575964):\n",
    "        events_marchisio.append(event)"
   ]
  },
  {
   "cell_type": "code",
   "execution_count": 40,
   "metadata": {},
   "outputs": [
    {
     "data": {
      "text/plain": [
       "{'eventId': 8,\n",
       " 'subEventName': 'Simple pass',\n",
       " 'tags': [{'id': 1801}],\n",
       " 'playerId': 20470,\n",
       " 'positions': [{'y': 65, 'x': 22}, {'y': 3, 'x': 35}],\n",
       " 'matchId': 2575964,\n",
       " 'eventName': 'Pass',\n",
       " 'teamId': 3159,\n",
       " 'matchPeriod': '1H',\n",
       " 'eventSec': 279.842312,\n",
       " 'subEventId': 85,\n",
       " 'id': 180114114}"
      ]
     },
     "execution_count": 40,
     "metadata": {},
     "output_type": "execute_result"
    }
   ],
   "source": [
    "events_marchisio[0]"
   ]
  },
  {
   "cell_type": "code",
   "execution_count": null,
   "metadata": {},
   "outputs": [],
   "source": []
  },
  {
   "cell_type": "code",
   "execution_count": 41,
   "metadata": {},
   "outputs": [
    {
     "data": {
      "image/png": "[encoded data removed]",
      "text/plain": [
       "<Figure size 800x600 with 1 Axes>"
      ]
     },
     "metadata": {},
     "output_type": "display_data"
    }
   ],
   "source": [
    "ev_all_nations = []\n",
    "for nation in nations:\n",
    "    for i in range(len(events[nation])):\n",
    "        ev_all_nations.append(events[nation][i]['eventName'])\n",
    "\n",
    "count = Counter(ev_all_nations)\n",
    "counter = {}\n",
    "for i,v in zip(count.keys(),count.values()):\n",
    "    counter[i] = int(float(v)/len(ev_all_nations)*100)\n",
    "sorted_d = np.array(sorted(counter.items(), key=operator.itemgetter(1), reverse=False))\n",
    "\n",
    "#bar plot\n",
    "f,ax = plt.subplots(figsize=(8,6))\n",
    "plt.barh(list(sorted_d[:,0]),[int(x) for x in list(sorted_d[:,1])])\n",
    "plt.xticks(rotation=90)\n",
    "plt.xticks(fontsize=18)\n",
    "plt.xlabel('events (%)', fontsize=25)\n",
    "plt.yticks(fontsize=18)\n",
    "plt.grid(alpha=0.3)\n",
    "f.tight_layout()\n",
    "plt.show()"
   ]
  },
  {
   "cell_type": "code",
   "execution_count": 42,
   "metadata": {},
   "outputs": [
    {
     "data": {
      "text/plain": [
       "{'eventId': 8,\n",
       " 'subEventName': 'Simple pass',\n",
       " 'tags': [{'id': 1801}],\n",
       " 'playerId': 20470,\n",
       " 'positions': [{'y': 65, 'x': 22}, {'y': 3, 'x': 35}],\n",
       " 'matchId': 2575964,\n",
       " 'eventName': 'Pass',\n",
       " 'teamId': 3159,\n",
       " 'matchPeriod': '1H',\n",
       " 'eventSec': 279.842312,\n",
       " 'subEventId': 85,\n",
       " 'id': 180114114}"
      ]
     },
     "execution_count": 42,
     "metadata": {},
     "output_type": "execute_result"
    }
   ],
   "source": [
    "events_marchisio[0]"
   ]
  },
  {
   "cell_type": "code",
   "execution_count": 43,
   "metadata": {},
   "outputs": [
    {
     "data": {
      "text/plain": [
       "{'eventId': 1,\n",
       " 'subEventName': 'Ground defending duel',\n",
       " 'tags': [{'id': 503}, {'id': 1601}, {'id': 701}, {'id': 1802}],\n",
       " 'playerId': 20470,\n",
       " 'positions': [{'y': 74, 'x': 64}, {'y': 76, 'x': 67}],\n",
       " 'matchId': 2575964,\n",
       " 'eventName': 'Duel',\n",
       " 'teamId': 3159,\n",
       " 'matchPeriod': '1H',\n",
       " 'eventSec': 567.892892,\n",
       " 'subEventId': 12,\n",
       " 'id': 180114250}"
      ]
     },
     "execution_count": 43,
     "metadata": {},
     "output_type": "execute_result"
    }
   ],
   "source": [
    "events_marchisio[4]"
   ]
  },
  {
   "cell_type": "code",
   "execution_count": 44,
   "metadata": {},
   "outputs": [
    {
     "data": {
      "text/plain": [
       "114"
      ]
     },
     "execution_count": 44,
     "metadata": {},
     "output_type": "execute_result"
    }
   ],
   "source": [
    "len(events_marchisio)"
   ]
  },
  {
   "cell_type": "code",
   "execution_count": 45,
   "metadata": {},
   "outputs": [],
   "source": [
    "sorted_list_marchisio = sorted(events_marchisio, key=lambda x: x['eventSec'])"
   ]
  },
  {
   "cell_type": "code",
   "execution_count": 46,
   "metadata": {},
   "outputs": [
    {
     "name": "stdout",
     "output_type": "stream",
     "text": [
      "Pass 80.99858300000005\n",
      "Pass 80.99858300000005\n",
      "Duel 219.95824200000015\n",
      "Duel 219.95824200000015\n",
      "Duel 230.25882199999978\n",
      "Duel 230.25882199999978\n",
      "Pass 279.842312\n",
      "Pass 279.842312\n",
      "Pass 331.37735699999996\n",
      "Pass 331.37735699999996\n",
      "Pass 347.58480199999985\n",
      "Pass 347.58480199999985\n",
      "Pass 348.01793\n",
      "Pass 348.01793\n",
      "Pass 394.2922440000002\n",
      "Pass 394.2922440000002\n",
      "Pass 402.66041800000005\n",
      "Pass 402.66041800000005\n",
      "Pass 411.5169999999998\n",
      "Pass 411.5169999999998\n",
      "Pass 434.52019900000005\n",
      "Pass 434.52019900000005\n",
      "Duel 567.892892\n",
      "Duel 567.892892\n",
      "Pass 588.093021\n",
      "Pass 588.093021\n",
      "Pass 675.4793569999999\n",
      "Pass 675.4793569999999\n",
      "Pass 681.340938\n",
      "Pass 681.340938\n",
      "Pass 682.4896039999999\n",
      "Pass 682.4896039999999\n",
      "Pass 721.556634\n",
      "Pass 721.556634\n",
      "Pass 777.2274420000001\n",
      "Pass 777.2274420000001\n",
      "Duel 861.7720509999999\n",
      "Duel 861.7720509999999\n",
      "Duel 894.6580710000001\n",
      "Duel 894.6580710000001\n",
      "Pass 925.6586580000001\n",
      "Pass 925.6586580000001\n",
      "Pass 967.288215\n",
      "Pass 967.288215\n",
      "Pass 1036.519273\n",
      "Pass 1036.519273\n",
      "Pass 1043.416275\n",
      "Pass 1043.416275\n",
      "Pass 1091.954574\n",
      "Pass 1091.954574\n",
      "Pass 1281.569987\n",
      "Pass 1281.569987\n",
      "Pass 1313.175673\n",
      "Pass 1313.175673\n",
      "Pass 1324.218641\n",
      "Pass 1324.218641\n",
      "Pass 1336.941136\n",
      "Pass 1336.941136\n",
      "Pass 1359.993664\n",
      "Pass 1359.993664\n",
      "Pass 1391.502582\n",
      "Pass 1391.502582\n",
      "Pass 1459.019176\n",
      "Pass 1459.019176\n",
      "Pass 1618.778751\n",
      "Pass 1618.778751\n",
      "Pass 1718.7949330000001\n",
      "Pass 1718.7949330000001\n",
      "Pass 1724.8414739999998\n",
      "Pass 1724.8414739999998\n",
      "Pass 1754.785899\n",
      "Pass 1754.785899\n",
      "Pass 1775.19751\n",
      "Pass 1775.19751\n",
      "Pass 1826.747261\n",
      "Pass 1826.747261\n",
      "Pass 1834.9805070000002\n",
      "Pass 1834.9805070000002\n",
      "Pass 1866.77718\n",
      "Pass 1866.77718\n",
      "Pass 1872.752552\n",
      "Pass 1872.752552\n",
      "Pass 1899.868598\n",
      "Pass 1899.868598\n",
      "Pass 1916.1716580000002\n",
      "Pass 1916.1716580000002\n",
      "Pass 1925.202956\n",
      "Pass 1925.202956\n",
      "Pass 1973.866603\n",
      "Pass 1973.866603\n",
      "Pass 1979.552979\n",
      "Pass 1979.552979\n",
      "Pass 1992.3449190000001\n",
      "Pass 1992.3449190000001\n",
      "Pass 2000.891517\n",
      "Pass 2000.891517\n",
      "Pass 2109.868488\n",
      "Pass 2109.868488\n",
      "Duel 2308.676944\n",
      "Duel 2308.676944\n",
      "Pass 2347.167482\n",
      "Pass 2347.167482\n",
      "Pass 2352.283036\n",
      "Pass 2352.283036\n",
      "Pass 2441.767231\n",
      "Pass 2441.767231\n",
      "Pass 2451.424827\n",
      "Pass 2451.424827\n",
      "Pass 2471.542154\n",
      "Pass 2471.542154\n",
      "Pass 2598.699651\n",
      "Pass 2598.699651\n",
      "Shot 2630.178783\n",
      "Shot 2630.178783\n"
     ]
    }
   ],
   "source": [
    "for event in sorted_list_marchisio:\n",
    "    print(event['eventName'], event['eventSec'])"
   ]
  },
  {
   "cell_type": "code",
   "execution_count": 47,
   "metadata": {},
   "outputs": [
    {
     "data": {
      "text/plain": [
       "43.833333333333336"
      ]
     },
     "execution_count": 47,
     "metadata": {},
     "output_type": "execute_result"
    }
   ],
   "source": [
    "2630/60"
   ]
  },
  {
   "cell_type": "code",
   "execution_count": 48,
   "metadata": {},
   "outputs": [
    {
     "data": {
      "image/png": "[encoded data removed]",
      "text/plain": [
       "<Figure size 1040x680 with 1 Axes>"
      ]
     },
     "metadata": {},
     "output_type": "display_data"
    }
   ],
   "source": [
    "#draws edges between consecutive events\n",
    "f = draw_pitch(\"#195905\", \"#faf0e6\", \"h\", \"full\")\n",
    "for i in range(len(sorted_list_marchisio)-1):\n",
    "    x1, y1 = [sorted_list_marchisio[i]['positions'][0]['x'], sorted_list_marchisio[i+1]['positions'][0]['x']], [sorted_list_marchisio[i]['positions'][0]['y'], sorted_list_marchisio[i+1]['positions'][0]['y']]\n",
    "    plt.plot(x1, y1, marker = 's', c='k', linewidth=0.25, zorder=12)"
   ]
  },
  {
   "cell_type": "code",
   "execution_count": 49,
   "metadata": {},
   "outputs": [
    {
     "data": {
      "image/png": "[encoded data removed]",
      "text/plain": [
       "<Figure size 1040x680 with 1 Axes>"
      ]
     },
     "metadata": {},
     "output_type": "display_data"
    }
   ],
   "source": [
    "f = draw_pitch(\"#195905\", \"#faf0e6\", \"h\", \"full\")\n",
    "for event in events_marchisio:\n",
    "    plt.scatter(event['positions'][0]['x'], event['positions'][0]['y'], marker='s', c='k', edgecolors=\"w\", linewidth=0.25, zorder=12)"
   ]
  },
  {
   "cell_type": "code",
   "execution_count": 50,
   "metadata": {},
   "outputs": [],
   "source": [
    "napoli_matches = []"
   ]
  },
  {
   "cell_type": "code",
   "execution_count": 51,
   "metadata": {},
   "outputs": [],
   "source": [
    "for match in matches['Italy']:\n",
    "    if '3187' in list(match['teamsData']):\n",
    "        napoli_matches.append(match)\n",
    "    "
   ]
  },
  {
   "cell_type": "code",
   "execution_count": 52,
   "metadata": {},
   "outputs": [
    {
     "data": {
      "text/plain": [
       "38"
      ]
     },
     "execution_count": 52,
     "metadata": {},
     "output_type": "execute_result"
    }
   ],
   "source": [
    "len(napoli_matches)"
   ]
  },
  {
   "cell_type": "code",
   "execution_count": 53,
   "metadata": {},
   "outputs": [
    {
     "data": {
      "text/plain": [
       "2575962"
      ]
     },
     "execution_count": 53,
     "metadata": {},
     "output_type": "execute_result"
    }
   ],
   "source": [
    "napoli_matches[0]['wyId']"
   ]
  },
  {
   "cell_type": "code",
   "execution_count": null,
   "metadata": {},
   "outputs": [],
   "source": []
  },
  {
   "cell_type": "code",
   "execution_count": 54,
   "metadata": {},
   "outputs": [
    {
     "name": "stdout",
     "output_type": "stream",
     "text": [
      "{'passportArea': {'name': 'Poland', 'id': '616', 'alpha3code': 'POL', 'alpha2code': 'PL'}, 'weight': 78, 'firstName': 'Arkadiusz', 'middleName': '', 'lastName': 'Milik', 'currentTeamId': 3187, 'birthDate': '1994-02-28', 'height': 186, 'role': {'code2': 'FW', 'code3': 'FWD', 'name': 'Forward'}, 'birthArea': {'name': 'Poland', 'id': '616', 'alpha3code': 'POL', 'alpha2code': 'PL'}, 'wyId': 99452, 'foot': 'left', 'shortName': 'A. Milik', 'currentNationalTeamId': 13869}\n"
     ]
    }
   ],
   "source": [
    "for player in players:\n",
    "    if(player['wyId'] == 99452):\n",
    "        print(player)"
   ]
  },
  {
   "cell_type": "code",
   "execution_count": 55,
   "metadata": {},
   "outputs": [],
   "source": [
    "milik_events = []"
   ]
  },
  {
   "cell_type": "code",
   "execution_count": 56,
   "metadata": {},
   "outputs": [],
   "source": [
    "for event in events['Italy']:\n",
    "    if(event['playerId'] == 99452 and event['matchId'] == 2575962):\n",
    "        milik_events.append(event)"
   ]
  },
  {
   "cell_type": "code",
   "execution_count": 57,
   "metadata": {},
   "outputs": [
    {
     "data": {
      "text/plain": [
       "[{'eventId': 8,\n",
       "  'subEventName': 'Simple pass',\n",
       "  'tags': [{'id': 1801}],\n",
       "  'playerId': 99452,\n",
       "  'positions': [{'y': 51, 'x': 50}, {'y': 50, 'x': 40}],\n",
       "  'matchId': 2575962,\n",
       "  'eventName': 'Pass',\n",
       "  'teamId': 3187,\n",
       "  'matchPeriod': '1H',\n",
       "  'eventSec': 2.5496499999999855,\n",
       "  'subEventId': 85,\n",
       "  'id': 180075012},\n",
       " {'eventId': 1,\n",
       "  'subEventName': 'Ground attacking duel',\n",
       "  'tags': [{'id': 703}, {'id': 1801}],\n",
       "  'playerId': 99452,\n",
       "  'positions': [{'y': 31, 'x': 83}, {'y': 9, 'x': 94}],\n",
       "  'matchId': 2575962,\n",
       "  'eventName': 'Duel',\n",
       "  'teamId': 3187,\n",
       "  'matchPeriod': '1H',\n",
       "  'eventSec': 78.505131,\n",
       "  'subEventId': 11,\n",
       "  'id': 180075040},\n",
       " {'eventId': 1,\n",
       "  'subEventName': 'Ground attacking duel',\n",
       "  'tags': [{'id': 701}, {'id': 1802}],\n",
       "  'playerId': 99452,\n",
       "  'positions': [{'y': 9, 'x': 94}, {'y': 6, 'x': 85}],\n",
       "  'matchId': 2575962,\n",
       "  'eventName': 'Duel',\n",
       "  'teamId': 3187,\n",
       "  'matchPeriod': '1H',\n",
       "  'eventSec': 82.942385,\n",
       "  'subEventId': 11,\n",
       "  'id': 180075042},\n",
       " {'eventId': 8,\n",
       "  'subEventName': 'Simple pass',\n",
       "  'tags': [{'id': 1901}, {'id': 1801}],\n",
       "  'playerId': 99452,\n",
       "  'positions': [{'y': 36, 'x': 73}, {'y': 33, 'x': 78}],\n",
       "  'matchId': 2575962,\n",
       "  'eventName': 'Pass',\n",
       "  'teamId': 3187,\n",
       "  'matchPeriod': '1H',\n",
       "  'eventSec': 146.154338,\n",
       "  'subEventId': 85,\n",
       "  'id': 180075063},\n",
       " {'eventId': 8,\n",
       "  'subEventName': 'Simple pass',\n",
       "  'tags': [{'id': 1801}],\n",
       "  'playerId': 99452,\n",
       "  'positions': [{'y': 36, 'x': 71}, {'y': 31, 'x': 63}],\n",
       "  'matchId': 2575962,\n",
       "  'eventName': 'Pass',\n",
       "  'teamId': 3187,\n",
       "  'matchPeriod': '1H',\n",
       "  'eventSec': 221.65632200000005,\n",
       "  'subEventId': 85,\n",
       "  'id': 180075098},\n",
       " {'eventId': 8,\n",
       "  'subEventName': 'Simple pass',\n",
       "  'tags': [{'id': 1802}],\n",
       "  'playerId': 99452,\n",
       "  'positions': [{'y': 37, 'x': 69}, {'y': 47, 'x': 64}],\n",
       "  'matchId': 2575962,\n",
       "  'eventName': 'Pass',\n",
       "  'teamId': 3187,\n",
       "  'matchPeriod': '1H',\n",
       "  'eventSec': 345.31058900000005,\n",
       "  'subEventId': 85,\n",
       "  'id': 180075137},\n",
       " {'eventId': 6,\n",
       "  'subEventName': '',\n",
       "  'tags': [],\n",
       "  'playerId': 99452,\n",
       "  'positions': [{'y': 50, 'x': 98}, {'y': 100, 'x': 100}],\n",
       "  'matchId': 2575962,\n",
       "  'eventName': 'Offside',\n",
       "  'teamId': 3187,\n",
       "  'matchPeriod': '1H',\n",
       "  'eventSec': 599.354943,\n",
       "  'subEventId': '',\n",
       "  'id': 180075263},\n",
       " {'eventId': 1,\n",
       "  'subEventName': 'Ground loose ball duel',\n",
       "  'tags': [{'id': 701}, {'id': 1802}],\n",
       "  'playerId': 99452,\n",
       "  'positions': [{'y': 86, 'x': 98}, {'y': 49, 'x': 93}],\n",
       "  'matchId': 2575962,\n",
       "  'eventName': 'Duel',\n",
       "  'teamId': 3187,\n",
       "  'matchPeriod': '1H',\n",
       "  'eventSec': 694.5343989999999,\n",
       "  'subEventId': 13,\n",
       "  'id': 180075292},\n",
       " {'eventId': 2,\n",
       "  'subEventName': 'Foul',\n",
       "  'tags': [],\n",
       "  'playerId': 99452,\n",
       "  'positions': [{'y': 49, 'x': 93}, {'y': 50, 'x': 93}],\n",
       "  'matchId': 2575962,\n",
       "  'eventName': 'Foul',\n",
       "  'teamId': 3187,\n",
       "  'matchPeriod': '1H',\n",
       "  'eventSec': 696.718918,\n",
       "  'subEventId': 20,\n",
       "  'id': 180075293},\n",
       " {'eventId': 1,\n",
       "  'subEventName': 'Ground attacking duel',\n",
       "  'tags': [{'id': 504}, {'id': 701}, {'id': 1802}],\n",
       "  'playerId': 99452,\n",
       "  'positions': [{'y': 46, 'x': 68}, {'y': 44, 'x': 53}],\n",
       "  'matchId': 2575962,\n",
       "  'eventName': 'Duel',\n",
       "  'teamId': 3187,\n",
       "  'matchPeriod': '1H',\n",
       "  'eventSec': 1255.772481,\n",
       "  'subEventId': 11,\n",
       "  'id': 180075486},\n",
       " {'eventId': 1,\n",
       "  'subEventName': 'Ground loose ball duel',\n",
       "  'tags': [{'id': 701}, {'id': 1802}],\n",
       "  'playerId': 99452,\n",
       "  'positions': [{'y': 83, 'x': 97}, {'y': 32, 'x': 89}],\n",
       "  'matchId': 2575962,\n",
       "  'eventName': 'Duel',\n",
       "  'teamId': 3187,\n",
       "  'matchPeriod': '1H',\n",
       "  'eventSec': 1277.807175,\n",
       "  'subEventId': 13,\n",
       "  'id': 180075504},\n",
       " {'eventId': 1,\n",
       "  'subEventName': 'Ground attacking duel',\n",
       "  'tags': [{'id': 504}, {'id': 701}, {'id': 1802}],\n",
       "  'playerId': 99452,\n",
       "  'positions': [{'y': 52, 'x': 73}, {'y': 37, 'x': 71}],\n",
       "  'matchId': 2575962,\n",
       "  'eventName': 'Duel',\n",
       "  'teamId': 3187,\n",
       "  'matchPeriod': '1H',\n",
       "  'eventSec': 1384.266912,\n",
       "  'subEventId': 11,\n",
       "  'id': 180075533},\n",
       " {'eventId': 1,\n",
       "  'subEventName': 'Ground loose ball duel',\n",
       "  'tags': [{'id': 703}, {'id': 1801}],\n",
       "  'playerId': 99452,\n",
       "  'positions': [{'y': 33, 'x': 72}, {'y': 27, 'x': 71}],\n",
       "  'matchId': 2575962,\n",
       "  'eventName': 'Duel',\n",
       "  'teamId': 3187,\n",
       "  'matchPeriod': '1H',\n",
       "  'eventSec': 1489.178656,\n",
       "  'subEventId': 13,\n",
       "  'id': 180075569},\n",
       " {'eventId': 1,\n",
       "  'subEventName': 'Ground attacking duel',\n",
       "  'tags': [{'id': 703}, {'id': 1801}],\n",
       "  'playerId': 99452,\n",
       "  'positions': [{'y': 27, 'x': 71}, {'y': 29, 'x': 71}],\n",
       "  'matchId': 2575962,\n",
       "  'eventName': 'Duel',\n",
       "  'teamId': 3187,\n",
       "  'matchPeriod': '1H',\n",
       "  'eventSec': 1491.33158,\n",
       "  'subEventId': 11,\n",
       "  'id': 180075571},\n",
       " {'eventId': 8,\n",
       "  'subEventName': 'Simple pass',\n",
       "  'tags': [{'id': 1802}],\n",
       "  'playerId': 99452,\n",
       "  'positions': [{'y': 53, 'x': 72}, {'y': 33, 'x': 73}],\n",
       "  'matchId': 2575962,\n",
       "  'eventName': 'Pass',\n",
       "  'teamId': 3187,\n",
       "  'matchPeriod': '1H',\n",
       "  'eventSec': 1527.631815,\n",
       "  'subEventId': 85,\n",
       "  'id': 180075583},\n",
       " {'eventId': 1,\n",
       "  'subEventName': 'Ground loose ball duel',\n",
       "  'tags': [{'id': 701}, {'id': 1802}],\n",
       "  'playerId': 99452,\n",
       "  'positions': [{'y': 81, 'x': 73}, {'y': 70, 'x': 69}],\n",
       "  'matchId': 2575962,\n",
       "  'eventName': 'Duel',\n",
       "  'teamId': 3187,\n",
       "  'matchPeriod': '1H',\n",
       "  'eventSec': 1542.389833,\n",
       "  'subEventId': 13,\n",
       "  'id': 180075594},\n",
       " {'eventId': 8,\n",
       "  'subEventName': 'Smart pass',\n",
       "  'tags': [{'id': 901}, {'id': 1802}],\n",
       "  'playerId': 99452,\n",
       "  'positions': [{'y': 48, 'x': 78}, {'y': 42, 'x': 80}],\n",
       "  'matchId': 2575962,\n",
       "  'eventName': 'Pass',\n",
       "  'teamId': 3187,\n",
       "  'matchPeriod': '1H',\n",
       "  'eventSec': 1672.519472,\n",
       "  'subEventId': 86,\n",
       "  'id': 180075654},\n",
       " {'eventId': 8,\n",
       "  'subEventName': 'Simple pass',\n",
       "  'tags': [{'id': 1802}],\n",
       "  'playerId': 99452,\n",
       "  'positions': [{'y': 35, 'x': 69}, {'y': 37, 'x': 72}],\n",
       "  'matchId': 2575962,\n",
       "  'eventName': 'Pass',\n",
       "  'teamId': 3187,\n",
       "  'matchPeriod': '1H',\n",
       "  'eventSec': 1836.7007159999998,\n",
       "  'subEventId': 85,\n",
       "  'id': 180075697},\n",
       " {'eventId': 1,\n",
       "  'subEventName': 'Ground loose ball duel',\n",
       "  'tags': [{'id': 701}, {'id': 1802}],\n",
       "  'playerId': 99452,\n",
       "  'positions': [{'y': 55, 'x': 97}, {'y': 100, 'x': 100}],\n",
       "  'matchId': 2575962,\n",
       "  'eventName': 'Duel',\n",
       "  'teamId': 3187,\n",
       "  'matchPeriod': '1H',\n",
       "  'eventSec': 1895.22451,\n",
       "  'subEventId': 13,\n",
       "  'id': 180075711},\n",
       " {'eventId': 8,\n",
       "  'subEventName': 'Simple pass',\n",
       "  'tags': [{'id': 1801}],\n",
       "  'playerId': 99452,\n",
       "  'positions': [{'y': 58, 'x': 75}, {'y': 43, 'x': 73}],\n",
       "  'matchId': 2575962,\n",
       "  'eventName': 'Pass',\n",
       "  'teamId': 3187,\n",
       "  'matchPeriod': '1H',\n",
       "  'eventSec': 2075.725618,\n",
       "  'subEventId': 85,\n",
       "  'id': 180075751},\n",
       " {'eventId': 8,\n",
       "  'subEventName': 'Simple pass',\n",
       "  'tags': [{'id': 1801}],\n",
       "  'playerId': 99452,\n",
       "  'positions': [{'y': 40, 'x': 80}, {'y': 32, 'x': 83}],\n",
       "  'matchId': 2575962,\n",
       "  'eventName': 'Pass',\n",
       "  'teamId': 3187,\n",
       "  'matchPeriod': '1H',\n",
       "  'eventSec': 2208.419149,\n",
       "  'subEventId': 85,\n",
       "  'id': 180075784},\n",
       " {'eventId': 10,\n",
       "  'subEventName': 'Shot',\n",
       "  'tags': [{'id': 101},\n",
       "   {'id': 1901},\n",
       "   {'id': 402},\n",
       "   {'id': 201},\n",
       "   {'id': 1205},\n",
       "   {'id': 1801}],\n",
       "  'playerId': 99452,\n",
       "  'positions': [{'y': 65, 'x': 87}, {'y': 100, 'x': 100}],\n",
       "  'matchId': 2575962,\n",
       "  'eventName': 'Shot',\n",
       "  'teamId': 3187,\n",
       "  'matchPeriod': '1H',\n",
       "  'eventSec': 2307.667592,\n",
       "  'subEventId': 100,\n",
       "  'id': 180075808},\n",
       " {'eventId': 8,\n",
       "  'subEventName': 'Simple pass',\n",
       "  'tags': [{'id': 1801}],\n",
       "  'playerId': 99452,\n",
       "  'positions': [{'y': 44, 'x': 79}, {'y': 28, 'x': 79}],\n",
       "  'matchId': 2575962,\n",
       "  'eventName': 'Pass',\n",
       "  'teamId': 3187,\n",
       "  'matchPeriod': '1H',\n",
       "  'eventSec': 2631.873658,\n",
       "  'subEventId': 85,\n",
       "  'id': 180075907},\n",
       " {'eventId': 8,\n",
       "  'subEventName': 'Simple pass',\n",
       "  'tags': [{'id': 1802}],\n",
       "  'playerId': 99452,\n",
       "  'positions': [{'y': 55, 'x': 85}, {'y': 55, 'x': 88}],\n",
       "  'matchId': 2575962,\n",
       "  'eventName': 'Pass',\n",
       "  'teamId': 3187,\n",
       "  'matchPeriod': '2H',\n",
       "  'eventSec': 117.23184399999991,\n",
       "  'subEventId': 85,\n",
       "  'id': 180076127},\n",
       " {'eventId': 8,\n",
       "  'subEventName': 'Smart pass',\n",
       "  'tags': [{'id': 1801}],\n",
       "  'playerId': 99452,\n",
       "  'positions': [{'y': 68, 'x': 76}, {'y': 77, 'x': 83}],\n",
       "  'matchId': 2575962,\n",
       "  'eventName': 'Pass',\n",
       "  'teamId': 3187,\n",
       "  'matchPeriod': '2H',\n",
       "  'eventSec': 135.3418740000002,\n",
       "  'subEventId': 86,\n",
       "  'id': 180076132},\n",
       " {'eventId': 1,\n",
       "  'subEventName': 'Air duel',\n",
       "  'tags': [{'id': 701}, {'id': 1802}],\n",
       "  'playerId': 99452,\n",
       "  'positions': [{'y': 52, 'x': 46}, {'y': 95, 'x': 59}],\n",
       "  'matchId': 2575962,\n",
       "  'eventName': 'Duel',\n",
       "  'teamId': 3187,\n",
       "  'matchPeriod': '2H',\n",
       "  'eventSec': 274.8402689999998,\n",
       "  'subEventId': 10,\n",
       "  'id': 180076164},\n",
       " {'eventId': 1,\n",
       "  'subEventName': 'Ground defending duel',\n",
       "  'tags': [{'id': 702}, {'id': 1801}],\n",
       "  'playerId': 99452,\n",
       "  'positions': [{'y': 18, 'x': 41}, {'y': 28, 'x': 42}],\n",
       "  'matchId': 2575962,\n",
       "  'eventName': 'Duel',\n",
       "  'teamId': 3187,\n",
       "  'matchPeriod': '2H',\n",
       "  'eventSec': 306.26825499999995,\n",
       "  'subEventId': 12,\n",
       "  'id': 180076165},\n",
       " {'eventId': 1,\n",
       "  'subEventName': 'Ground loose ball duel',\n",
       "  'tags': [{'id': 703}, {'id': 1801}],\n",
       "  'playerId': 99452,\n",
       "  'positions': [{'y': 44, 'x': 68}, {'y': 57, 'x': 68}],\n",
       "  'matchId': 2575962,\n",
       "  'eventName': 'Duel',\n",
       "  'teamId': 3187,\n",
       "  'matchPeriod': '2H',\n",
       "  'eventSec': 445.13534500000014,\n",
       "  'subEventId': 13,\n",
       "  'id': 180076274},\n",
       " {'eventId': 1,\n",
       "  'subEventName': 'Ground attacking duel',\n",
       "  'tags': [{'id': 702}, {'id': 1801}],\n",
       "  'playerId': 99452,\n",
       "  'positions': [{'y': 27, 'x': 55}, {'y': 8, 'x': 40}],\n",
       "  'matchId': 2575962,\n",
       "  'eventName': 'Duel',\n",
       "  'teamId': 3187,\n",
       "  'matchPeriod': '2H',\n",
       "  'eventSec': 778.4664899999998,\n",
       "  'subEventId': 11,\n",
       "  'id': 180076364},\n",
       " {'eventId': 8,\n",
       "  'subEventName': 'Simple pass',\n",
       "  'tags': [{'id': 1801}],\n",
       "  'playerId': 99452,\n",
       "  'positions': [{'y': 45, 'x': 71}, {'y': 30, 'x': 72}],\n",
       "  'matchId': 2575962,\n",
       "  'eventName': 'Pass',\n",
       "  'teamId': 3187,\n",
       "  'matchPeriod': '2H',\n",
       "  'eventSec': 797.2135669999998,\n",
       "  'subEventId': 85,\n",
       "  'id': 180076378},\n",
       " {'eventId': 8,\n",
       "  'subEventName': 'Smart pass',\n",
       "  'tags': [{'id': 901}, {'id': 1801}],\n",
       "  'playerId': 99452,\n",
       "  'positions': [{'y': 39, 'x': 87}, {'y': 40, 'x': 88}],\n",
       "  'matchId': 2575962,\n",
       "  'eventName': 'Pass',\n",
       "  'teamId': 3187,\n",
       "  'matchPeriod': '2H',\n",
       "  'eventSec': 804.4519249999998,\n",
       "  'subEventId': 86,\n",
       "  'id': 180076388},\n",
       " {'eventId': 10,\n",
       "  'subEventName': 'Shot',\n",
       "  'tags': [{'id': 401}, {'id': 201}, {'id': 1205}, {'id': 1801}],\n",
       "  'playerId': 99452,\n",
       "  'positions': [{'y': 37, 'x': 82}, {'y': 100, 'x': 100}],\n",
       "  'matchId': 2575962,\n",
       "  'eventName': 'Shot',\n",
       "  'teamId': 3187,\n",
       "  'matchPeriod': '2H',\n",
       "  'eventSec': 857.4374550000002,\n",
       "  'subEventId': 100,\n",
       "  'id': 180076403},\n",
       " {'eventId': 1,\n",
       "  'subEventName': 'Ground attacking duel',\n",
       "  'tags': [{'id': 602}, {'id': 701}, {'id': 1802}],\n",
       "  'playerId': 99452,\n",
       "  'positions': [{'y': 59, 'x': 73}, {'y': 51, 'x': 61}],\n",
       "  'matchId': 2575962,\n",
       "  'eventName': 'Duel',\n",
       "  'teamId': 3187,\n",
       "  'matchPeriod': '2H',\n",
       "  'eventSec': 874.6067720000001,\n",
       "  'subEventId': 11,\n",
       "  'id': 180076406}]"
      ]
     },
     "execution_count": 57,
     "metadata": {},
     "output_type": "execute_result"
    }
   ],
   "source": [
    "milik_events"
   ]
  },
  {
   "cell_type": "code",
   "execution_count": 58,
   "metadata": {},
   "outputs": [],
   "source": [
    "sorted_list_milik = sorted(milik_events, key=lambda x: x['eventSec'])"
   ]
  },
  {
   "cell_type": "code",
   "execution_count": 59,
   "metadata": {},
   "outputs": [
    {
     "data": {
      "image/png": "[encoded data removed]",
      "text/plain": [
       "<Figure size 1040x680 with 1 Axes>"
      ]
     },
     "metadata": {},
     "output_type": "display_data"
    }
   ],
   "source": [
    "#draws edges between consecutive events\n",
    "f = draw_pitch(\"#195905\", \"#faf0e6\", \"h\", \"full\")\n",
    "for i in range(len(sorted_list_milik)-1):\n",
    "    x1, y1 = [sorted_list_milik[i]['positions'][0]['x'], sorted_list_milik[i+1]['positions'][0]['x']], [sorted_list_milik[i]['positions'][0]['y'], sorted_list_milik[i+1]['positions'][0]['y']]\n",
    "    plt.plot(x1, y1, marker = 's', c='b', linewidth=0.25, zorder=12)"
   ]
  }
 ],
 "metadata": {
  "kernelspec": {
   "display_name": "gsa2023",
   "language": "python",
   "name": "python3"
  },
  "language_info": {
   "codemirror_mode": {
    "name": "ipython",
    "version": 3
   },
   "file_extension": ".py",
   "mimetype": "text/x-python",
   "name": "python",
   "nbconvert_exporter": "python",
   "pygments_lexer": "ipython3",
   "version": "3.9.18"
  }
 },
 "nbformat": 4,
 "nbformat_minor": 2
}
