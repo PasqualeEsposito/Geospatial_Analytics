{
 "cells": [
  {
   "cell_type": "markdown",
   "metadata": {},
   "source": [
    "# Project 4: Football matches as mobility networks\n",
    "During a football match, players move on the field to attack and defend. This generates a series of movements that can be analyzed to understand the players behavior.<br><br>\n",
    "The student should use the Wyscout open dataset, describing the “events” in all matches of seven competitions (e.g., passes, shots, tackles etc.), to analyze pass chains and the mobility of football players. A player’s movement is defined by consecutive events made by that player in the match.<br><br>\n",
    "Investigate the distances traveled by players during their matches and their distributions. Discuss about the similarity of these distributions with those about mobility trajectories seen during the course.<br><br>\n",
    "Relate the pass chains made by teams with the probability of making a shot, a goal, and to win a match. Are long chains more likely to lead to a shot/goal? Are short pass chains more successful?<br><br>\n",
    "Quantify the predictability of pass chains based on some division of the football field (tessellation). To what extent can we predict the next tile (field zone) where the ball will be? Use a next-location predictor to quantify the accuracy to predict the next zone the ball will be."
   ]
  },
  {
   "cell_type": "markdown",
   "metadata": {},
   "source": [
    "## Uploading data"
   ]
  },
  {
   "cell_type": "code",
   "execution_count": 2,
   "metadata": {},
   "outputs": [],
   "source": [
    "import json\n",
    "import numpy as np\n",
    "import pandas as pd\n",
    "import matplotlib.pyplot as plt"
   ]
  },
  {
   "cell_type": "code",
   "execution_count": 3,
   "metadata": {},
   "outputs": [],
   "source": [
    "nations = ['Italy','England','Germany','France','Spain','European_Championship','World_Cup']\n",
    "\n",
    "# loading the events data\n",
    "events={}\n",
    "for nation in nations:\n",
    "    with open('./data/events/events_%s.json' %nation) as json_data:\n",
    "        events[nation] = json.load(json_data)\n",
    "        \n",
    "# loading the match data\n",
    "matches={}\n",
    "for nation in nations:\n",
    "    with open('./data/matches/matches_%s.json' %nation) as json_data:\n",
    "        matches[nation] = json.load(json_data)\n",
    "\n",
    "# loading the players data\n",
    "players={}\n",
    "with open('./data/players.json') as json_data:\n",
    "    players = json.load(json_data)\n",
    "\n",
    "# loading the competitions data\n",
    "competitions={}\n",
    "with open('./data/competitions.json') as json_data:\n",
    "    competitions = json.load(json_data)\n",
    "\n",
    "# loading the teams data\n",
    "teams={}\n",
    "with open('./data/teams.json') as json_data:\n",
    "    teams = json.load(json_data)"
   ]
  },
  {
   "cell_type": "markdown",
   "metadata": {},
   "source": [
    "### Converting the json data to DataFrame"
   ]
  },
  {
   "cell_type": "markdown",
   "metadata": {},
   "source": [
    "#### Teams"
   ]
  },
  {
   "cell_type": "code",
   "execution_count": 4,
   "metadata": {},
   "outputs": [],
   "source": [
    "teams_df = pd.DataFrame(teams)"
   ]
  },
  {
   "cell_type": "code",
   "execution_count": 5,
   "metadata": {},
   "outputs": [
    {
     "data": {
      "text/html": [
       "<div>\n",
       "<style scoped>\n",
       "    .dataframe tbody tr th:only-of-type {\n",
       "        vertical-align: middle;\n",
       "    }\n",
       "\n",
       "    .dataframe tbody tr th {\n",
       "        vertical-align: top;\n",
       "    }\n",
       "\n",
       "    .dataframe thead th {\n",
       "        text-align: right;\n",
       "    }\n",
       "</style>\n",
       "<table border=\"1\" class=\"dataframe\">\n",
       "  <thead>\n",
       "    <tr style=\"text-align: right;\">\n",
       "      <th></th>\n",
       "      <th>city</th>\n",
       "      <th>name</th>\n",
       "      <th>wyId</th>\n",
       "      <th>officialName</th>\n",
       "      <th>area</th>\n",
       "      <th>type</th>\n",
       "    </tr>\n",
       "  </thead>\n",
       "  <tbody>\n",
       "    <tr>\n",
       "      <th>0</th>\n",
       "      <td>Newcastle upon Tyne</td>\n",
       "      <td>Newcastle United</td>\n",
       "      <td>1613</td>\n",
       "      <td>Newcastle United FC</td>\n",
       "      <td>{'name': 'England', 'id': '0', 'alpha3code': '...</td>\n",
       "      <td>club</td>\n",
       "    </tr>\n",
       "    <tr>\n",
       "      <th>1</th>\n",
       "      <td>Vigo</td>\n",
       "      <td>Celta de Vigo</td>\n",
       "      <td>692</td>\n",
       "      <td>Real Club Celta de Vigo</td>\n",
       "      <td>{'name': 'Spain', 'id': '724', 'alpha3code': '...</td>\n",
       "      <td>club</td>\n",
       "    </tr>\n",
       "    <tr>\n",
       "      <th>2</th>\n",
       "      <td>Barcelona</td>\n",
       "      <td>Espanyol</td>\n",
       "      <td>691</td>\n",
       "      <td>Reial Club Deportiu Espanyol</td>\n",
       "      <td>{'name': 'Spain', 'id': '724', 'alpha3code': '...</td>\n",
       "      <td>club</td>\n",
       "    </tr>\n",
       "    <tr>\n",
       "      <th>3</th>\n",
       "      <td>Vitoria-Gasteiz</td>\n",
       "      <td>Deportivo Alav\\u00e9s</td>\n",
       "      <td>696</td>\n",
       "      <td>Deportivo Alav\\u00e9s</td>\n",
       "      <td>{'name': 'Spain', 'id': '724', 'alpha3code': '...</td>\n",
       "      <td>club</td>\n",
       "    </tr>\n",
       "    <tr>\n",
       "      <th>4</th>\n",
       "      <td>Valencia</td>\n",
       "      <td>Levante</td>\n",
       "      <td>695</td>\n",
       "      <td>Levante UD</td>\n",
       "      <td>{'name': 'Spain', 'id': '724', 'alpha3code': '...</td>\n",
       "      <td>club</td>\n",
       "    </tr>\n",
       "  </tbody>\n",
       "</table>\n",
       "</div>"
      ],
      "text/plain": [
       "                  city                   name  wyId  \\\n",
       "0  Newcastle upon Tyne       Newcastle United  1613   \n",
       "1                 Vigo          Celta de Vigo   692   \n",
       "2            Barcelona               Espanyol   691   \n",
       "3      Vitoria-Gasteiz  Deportivo Alav\\u00e9s   696   \n",
       "4             Valencia                Levante   695   \n",
       "\n",
       "                   officialName  \\\n",
       "0           Newcastle United FC   \n",
       "1       Real Club Celta de Vigo   \n",
       "2  Reial Club Deportiu Espanyol   \n",
       "3         Deportivo Alav\\u00e9s   \n",
       "4                    Levante UD   \n",
       "\n",
       "                                                area  type  \n",
       "0  {'name': 'England', 'id': '0', 'alpha3code': '...  club  \n",
       "1  {'name': 'Spain', 'id': '724', 'alpha3code': '...  club  \n",
       "2  {'name': 'Spain', 'id': '724', 'alpha3code': '...  club  \n",
       "3  {'name': 'Spain', 'id': '724', 'alpha3code': '...  club  \n",
       "4  {'name': 'Spain', 'id': '724', 'alpha3code': '...  club  "
      ]
     },
     "execution_count": 5,
     "metadata": {},
     "output_type": "execute_result"
    }
   ],
   "source": [
    "teams_df.head()"
   ]
  },
  {
   "cell_type": "code",
   "execution_count": 6,
   "metadata": {},
   "outputs": [
    {
     "data": {
      "text/plain": [
       "(142, 6)"
      ]
     },
     "execution_count": 6,
     "metadata": {},
     "output_type": "execute_result"
    }
   ],
   "source": [
    "teams_df.shape"
   ]
  },
  {
   "cell_type": "code",
   "execution_count": 7,
   "metadata": {},
   "outputs": [
    {
     "name": "stdout",
     "output_type": "stream",
     "text": [
      "<class 'pandas.core.frame.DataFrame'>\n",
      "RangeIndex: 142 entries, 0 to 141\n",
      "Data columns (total 6 columns):\n",
      " #   Column        Non-Null Count  Dtype \n",
      "---  ------        --------------  ----- \n",
      " 0   city          142 non-null    object\n",
      " 1   name          142 non-null    object\n",
      " 2   wyId          142 non-null    int64 \n",
      " 3   officialName  142 non-null    object\n",
      " 4   area          142 non-null    object\n",
      " 5   type          142 non-null    object\n",
      "dtypes: int64(1), object(5)\n",
      "memory usage: 6.8+ KB\n"
     ]
    }
   ],
   "source": [
    "teams_df.info()"
   ]
  },
  {
   "cell_type": "code",
   "execution_count": 8,
   "metadata": {},
   "outputs": [
    {
     "data": {
      "text/plain": [
       "'England'"
      ]
     },
     "execution_count": 8,
     "metadata": {},
     "output_type": "execute_result"
    }
   ],
   "source": [
    "teams_df.iloc[0]['area']['name']"
   ]
  },
  {
   "cell_type": "markdown",
   "metadata": {},
   "source": [
    "#### Competitions"
   ]
  },
  {
   "cell_type": "code",
   "execution_count": 9,
   "metadata": {},
   "outputs": [],
   "source": [
    "competitions_df = pd.DataFrame(competitions)"
   ]
  },
  {
   "cell_type": "code",
   "execution_count": 10,
   "metadata": {},
   "outputs": [
    {
     "data": {
      "text/plain": [
       "(7, 5)"
      ]
     },
     "execution_count": 10,
     "metadata": {},
     "output_type": "execute_result"
    }
   ],
   "source": [
    "competitions_df.shape"
   ]
  },
  {
   "cell_type": "code",
   "execution_count": 11,
   "metadata": {},
   "outputs": [
    {
     "name": "stdout",
     "output_type": "stream",
     "text": [
      "<class 'pandas.core.frame.DataFrame'>\n",
      "RangeIndex: 7 entries, 0 to 6\n",
      "Data columns (total 5 columns):\n",
      " #   Column  Non-Null Count  Dtype \n",
      "---  ------  --------------  ----- \n",
      " 0   name    7 non-null      object\n",
      " 1   wyId    7 non-null      int64 \n",
      " 2   format  7 non-null      object\n",
      " 3   area    7 non-null      object\n",
      " 4   type    7 non-null      object\n",
      "dtypes: int64(1), object(4)\n",
      "memory usage: 408.0+ bytes\n"
     ]
    }
   ],
   "source": [
    "competitions_df.info()"
   ]
  },
  {
   "cell_type": "code",
   "execution_count": 12,
   "metadata": {},
   "outputs": [
    {
     "data": {
      "text/html": [
       "<div>\n",
       "<style scoped>\n",
       "    .dataframe tbody tr th:only-of-type {\n",
       "        vertical-align: middle;\n",
       "    }\n",
       "\n",
       "    .dataframe tbody tr th {\n",
       "        vertical-align: top;\n",
       "    }\n",
       "\n",
       "    .dataframe thead th {\n",
       "        text-align: right;\n",
       "    }\n",
       "</style>\n",
       "<table border=\"1\" class=\"dataframe\">\n",
       "  <thead>\n",
       "    <tr style=\"text-align: right;\">\n",
       "      <th></th>\n",
       "      <th>name</th>\n",
       "      <th>wyId</th>\n",
       "      <th>format</th>\n",
       "      <th>area</th>\n",
       "      <th>type</th>\n",
       "    </tr>\n",
       "  </thead>\n",
       "  <tbody>\n",
       "    <tr>\n",
       "      <th>0</th>\n",
       "      <td>Italian first division</td>\n",
       "      <td>524</td>\n",
       "      <td>Domestic league</td>\n",
       "      <td>{'name': 'Italy', 'id': '380', 'alpha3code': '...</td>\n",
       "      <td>club</td>\n",
       "    </tr>\n",
       "    <tr>\n",
       "      <th>1</th>\n",
       "      <td>English first division</td>\n",
       "      <td>364</td>\n",
       "      <td>Domestic league</td>\n",
       "      <td>{'name': 'England', 'id': '0', 'alpha3code': '...</td>\n",
       "      <td>club</td>\n",
       "    </tr>\n",
       "    <tr>\n",
       "      <th>2</th>\n",
       "      <td>Spanish first division</td>\n",
       "      <td>795</td>\n",
       "      <td>Domestic league</td>\n",
       "      <td>{'name': 'Spain', 'id': '724', 'alpha3code': '...</td>\n",
       "      <td>club</td>\n",
       "    </tr>\n",
       "    <tr>\n",
       "      <th>3</th>\n",
       "      <td>French first division</td>\n",
       "      <td>412</td>\n",
       "      <td>Domestic league</td>\n",
       "      <td>{'name': 'France', 'id': '250', 'alpha3code': ...</td>\n",
       "      <td>club</td>\n",
       "    </tr>\n",
       "    <tr>\n",
       "      <th>4</th>\n",
       "      <td>German first division</td>\n",
       "      <td>426</td>\n",
       "      <td>Domestic league</td>\n",
       "      <td>{'name': 'Germany', 'id': '276', 'alpha3code':...</td>\n",
       "      <td>club</td>\n",
       "    </tr>\n",
       "    <tr>\n",
       "      <th>5</th>\n",
       "      <td>European Championship</td>\n",
       "      <td>102</td>\n",
       "      <td>International cup</td>\n",
       "      <td>{'name': '', 'id': 0, 'alpha3code': 'XEU', 'al...</td>\n",
       "      <td>international</td>\n",
       "    </tr>\n",
       "    <tr>\n",
       "      <th>6</th>\n",
       "      <td>World Cup</td>\n",
       "      <td>28</td>\n",
       "      <td>International cup</td>\n",
       "      <td>{'name': '', 'id': 0, 'alpha3code': 'XWO', 'al...</td>\n",
       "      <td>international</td>\n",
       "    </tr>\n",
       "  </tbody>\n",
       "</table>\n",
       "</div>"
      ],
      "text/plain": [
       "                     name  wyId             format  \\\n",
       "0  Italian first division   524    Domestic league   \n",
       "1  English first division   364    Domestic league   \n",
       "2  Spanish first division   795    Domestic league   \n",
       "3   French first division   412    Domestic league   \n",
       "4   German first division   426    Domestic league   \n",
       "5   European Championship   102  International cup   \n",
       "6               World Cup    28  International cup   \n",
       "\n",
       "                                                area           type  \n",
       "0  {'name': 'Italy', 'id': '380', 'alpha3code': '...           club  \n",
       "1  {'name': 'England', 'id': '0', 'alpha3code': '...           club  \n",
       "2  {'name': 'Spain', 'id': '724', 'alpha3code': '...           club  \n",
       "3  {'name': 'France', 'id': '250', 'alpha3code': ...           club  \n",
       "4  {'name': 'Germany', 'id': '276', 'alpha3code':...           club  \n",
       "5  {'name': '', 'id': 0, 'alpha3code': 'XEU', 'al...  international  \n",
       "6  {'name': '', 'id': 0, 'alpha3code': 'XWO', 'al...  international  "
      ]
     },
     "execution_count": 12,
     "metadata": {},
     "output_type": "execute_result"
    }
   ],
   "source": [
    "competitions_df"
   ]
  },
  {
   "cell_type": "markdown",
   "metadata": {},
   "source": [
    "#### Players"
   ]
  },
  {
   "cell_type": "code",
   "execution_count": 13,
   "metadata": {},
   "outputs": [],
   "source": [
    "players_df = pd.DataFrame(players)"
   ]
  },
  {
   "cell_type": "code",
   "execution_count": 14,
   "metadata": {},
   "outputs": [
    {
     "data": {
      "text/plain": [
       "(3603, 14)"
      ]
     },
     "execution_count": 14,
     "metadata": {},
     "output_type": "execute_result"
    }
   ],
   "source": [
    "players_df.shape"
   ]
  },
  {
   "cell_type": "code",
   "execution_count": 15,
   "metadata": {},
   "outputs": [
    {
     "name": "stdout",
     "output_type": "stream",
     "text": [
      "<class 'pandas.core.frame.DataFrame'>\n",
      "RangeIndex: 3603 entries, 0 to 3602\n",
      "Data columns (total 14 columns):\n",
      " #   Column                 Non-Null Count  Dtype \n",
      "---  ------                 --------------  ----- \n",
      " 0   passportArea           3603 non-null   object\n",
      " 1   weight                 3603 non-null   int64 \n",
      " 2   firstName              3603 non-null   object\n",
      " 3   middleName             3603 non-null   object\n",
      " 4   lastName               3603 non-null   object\n",
      " 5   currentTeamId          3512 non-null   object\n",
      " 6   birthDate              3603 non-null   object\n",
      " 7   height                 3603 non-null   int64 \n",
      " 8   role                   3603 non-null   object\n",
      " 9   birthArea              3603 non-null   object\n",
      " 10  wyId                   3603 non-null   int64 \n",
      " 11  foot                   3603 non-null   object\n",
      " 12  shortName              3603 non-null   object\n",
      " 13  currentNationalTeamId  3603 non-null   object\n",
      "dtypes: int64(3), object(11)\n",
      "memory usage: 394.2+ KB\n"
     ]
    }
   ],
   "source": [
    "players_df.info()"
   ]
  },
  {
   "cell_type": "code",
   "execution_count": 16,
   "metadata": {},
   "outputs": [
    {
     "data": {
      "text/plain": [
       "currentTeamId\n",
       "null     44\n",
       "683      38\n",
       "712      31\n",
       "3775     31\n",
       "3219     31\n",
       "         ..\n",
       "14995     1\n",
       "3167      1\n",
       "9142      1\n",
       "3183      1\n",
       "62943     1\n",
       "Name: count, Length: 615, dtype: int64"
      ]
     },
     "execution_count": 16,
     "metadata": {},
     "output_type": "execute_result"
    }
   ],
   "source": [
    "players_df.currentTeamId.value_counts()"
   ]
  },
  {
   "cell_type": "code",
   "execution_count": 17,
   "metadata": {},
   "outputs": [
    {
     "data": {
      "text/html": [
       "<div>\n",
       "<style scoped>\n",
       "    .dataframe tbody tr th:only-of-type {\n",
       "        vertical-align: middle;\n",
       "    }\n",
       "\n",
       "    .dataframe tbody tr th {\n",
       "        vertical-align: top;\n",
       "    }\n",
       "\n",
       "    .dataframe thead th {\n",
       "        text-align: right;\n",
       "    }\n",
       "</style>\n",
       "<table border=\"1\" class=\"dataframe\">\n",
       "  <thead>\n",
       "    <tr style=\"text-align: right;\">\n",
       "      <th></th>\n",
       "      <th>passportArea</th>\n",
       "      <th>weight</th>\n",
       "      <th>firstName</th>\n",
       "      <th>middleName</th>\n",
       "      <th>lastName</th>\n",
       "      <th>currentTeamId</th>\n",
       "      <th>birthDate</th>\n",
       "      <th>height</th>\n",
       "      <th>role</th>\n",
       "      <th>birthArea</th>\n",
       "      <th>wyId</th>\n",
       "      <th>foot</th>\n",
       "      <th>shortName</th>\n",
       "      <th>currentNationalTeamId</th>\n",
       "    </tr>\n",
       "  </thead>\n",
       "  <tbody>\n",
       "    <tr>\n",
       "      <th>0</th>\n",
       "      <td>{'name': 'Turkey', 'id': '792', 'alpha3code': ...</td>\n",
       "      <td>78</td>\n",
       "      <td>Harun</td>\n",
       "      <td></td>\n",
       "      <td>Tekin</td>\n",
       "      <td>4502</td>\n",
       "      <td>1989-06-17</td>\n",
       "      <td>187</td>\n",
       "      <td>{'code2': 'GK', 'code3': 'GKP', 'name': 'Goalk...</td>\n",
       "      <td>{'name': 'Turkey', 'id': '792', 'alpha3code': ...</td>\n",
       "      <td>32777</td>\n",
       "      <td>right</td>\n",
       "      <td>H. Tekin</td>\n",
       "      <td>4687</td>\n",
       "    </tr>\n",
       "    <tr>\n",
       "      <th>1</th>\n",
       "      <td>{'name': 'Senegal', 'id': '686', 'alpha3code':...</td>\n",
       "      <td>73</td>\n",
       "      <td>Malang</td>\n",
       "      <td></td>\n",
       "      <td>Sarr</td>\n",
       "      <td>3775</td>\n",
       "      <td>1999-01-23</td>\n",
       "      <td>182</td>\n",
       "      <td>{'code2': 'DF', 'code3': 'DEF', 'name': 'Defen...</td>\n",
       "      <td>{'name': 'France', 'id': '250', 'alpha3code': ...</td>\n",
       "      <td>393228</td>\n",
       "      <td>left</td>\n",
       "      <td>M. Sarr</td>\n",
       "      <td>4423</td>\n",
       "    </tr>\n",
       "    <tr>\n",
       "      <th>2</th>\n",
       "      <td>{'name': 'France', 'id': '250', 'alpha3code': ...</td>\n",
       "      <td>72</td>\n",
       "      <td>Over</td>\n",
       "      <td></td>\n",
       "      <td>Mandanda</td>\n",
       "      <td>3772</td>\n",
       "      <td>1998-10-26</td>\n",
       "      <td>176</td>\n",
       "      <td>{'code2': 'GK', 'code3': 'GKP', 'name': 'Goalk...</td>\n",
       "      <td>{'name': 'France', 'id': '250', 'alpha3code': ...</td>\n",
       "      <td>393230</td>\n",
       "      <td></td>\n",
       "      <td>O. Mandanda</td>\n",
       "      <td>null</td>\n",
       "    </tr>\n",
       "  </tbody>\n",
       "</table>\n",
       "</div>"
      ],
      "text/plain": [
       "                                        passportArea  weight firstName  \\\n",
       "0  {'name': 'Turkey', 'id': '792', 'alpha3code': ...      78     Harun   \n",
       "1  {'name': 'Senegal', 'id': '686', 'alpha3code':...      73    Malang   \n",
       "2  {'name': 'France', 'id': '250', 'alpha3code': ...      72      Over   \n",
       "\n",
       "  middleName  lastName currentTeamId   birthDate  height  \\\n",
       "0                Tekin          4502  1989-06-17     187   \n",
       "1                 Sarr          3775  1999-01-23     182   \n",
       "2             Mandanda          3772  1998-10-26     176   \n",
       "\n",
       "                                                role  \\\n",
       "0  {'code2': 'GK', 'code3': 'GKP', 'name': 'Goalk...   \n",
       "1  {'code2': 'DF', 'code3': 'DEF', 'name': 'Defen...   \n",
       "2  {'code2': 'GK', 'code3': 'GKP', 'name': 'Goalk...   \n",
       "\n",
       "                                           birthArea    wyId   foot  \\\n",
       "0  {'name': 'Turkey', 'id': '792', 'alpha3code': ...   32777  right   \n",
       "1  {'name': 'France', 'id': '250', 'alpha3code': ...  393228   left   \n",
       "2  {'name': 'France', 'id': '250', 'alpha3code': ...  393230          \n",
       "\n",
       "     shortName currentNationalTeamId  \n",
       "0     H. Tekin                  4687  \n",
       "1      M. Sarr                  4423  \n",
       "2  O. Mandanda                  null  "
      ]
     },
     "execution_count": 17,
     "metadata": {},
     "output_type": "execute_result"
    }
   ],
   "source": [
    "players_df[:3]"
   ]
  },
  {
   "cell_type": "code",
   "execution_count": 18,
   "metadata": {},
   "outputs": [
    {
     "data": {
      "text/html": [
       "<div>\n",
       "<style scoped>\n",
       "    .dataframe tbody tr th:only-of-type {\n",
       "        vertical-align: middle;\n",
       "    }\n",
       "\n",
       "    .dataframe tbody tr th {\n",
       "        vertical-align: top;\n",
       "    }\n",
       "\n",
       "    .dataframe thead th {\n",
       "        text-align: right;\n",
       "    }\n",
       "</style>\n",
       "<table border=\"1\" class=\"dataframe\">\n",
       "  <thead>\n",
       "    <tr style=\"text-align: right;\">\n",
       "      <th></th>\n",
       "      <th>passportArea</th>\n",
       "      <th>weight</th>\n",
       "      <th>firstName</th>\n",
       "      <th>middleName</th>\n",
       "      <th>lastName</th>\n",
       "      <th>currentTeamId</th>\n",
       "      <th>birthDate</th>\n",
       "      <th>height</th>\n",
       "      <th>role</th>\n",
       "      <th>birthArea</th>\n",
       "      <th>wyId</th>\n",
       "      <th>foot</th>\n",
       "      <th>shortName</th>\n",
       "      <th>currentNationalTeamId</th>\n",
       "    </tr>\n",
       "  </thead>\n",
       "  <tbody>\n",
       "    <tr>\n",
       "      <th>207</th>\n",
       "      <td>{'name': 'Spain', 'id': '724', 'alpha3code': '...</td>\n",
       "      <td>72</td>\n",
       "      <td>Lionel Andr\\u00e9s</td>\n",
       "      <td></td>\n",
       "      <td>Messi Cuccittini</td>\n",
       "      <td>676</td>\n",
       "      <td>1987-06-24</td>\n",
       "      <td>170</td>\n",
       "      <td>{'code2': 'FW', 'code3': 'FWD', 'name': 'Forwa...</td>\n",
       "      <td>{'name': 'Argentina', 'id': '32', 'alpha3code'...</td>\n",
       "      <td>3359</td>\n",
       "      <td>left</td>\n",
       "      <td>L. Messi</td>\n",
       "      <td>12274</td>\n",
       "    </tr>\n",
       "  </tbody>\n",
       "</table>\n",
       "</div>"
      ],
      "text/plain": [
       "                                          passportArea  weight  \\\n",
       "207  {'name': 'Spain', 'id': '724', 'alpha3code': '...      72   \n",
       "\n",
       "              firstName middleName          lastName currentTeamId  \\\n",
       "207  Lionel Andr\\u00e9s             Messi Cuccittini           676   \n",
       "\n",
       "      birthDate  height                                               role  \\\n",
       "207  1987-06-24     170  {'code2': 'FW', 'code3': 'FWD', 'name': 'Forwa...   \n",
       "\n",
       "                                             birthArea  wyId  foot shortName  \\\n",
       "207  {'name': 'Argentina', 'id': '32', 'alpha3code'...  3359  left  L. Messi   \n",
       "\n",
       "    currentNationalTeamId  \n",
       "207                 12274  "
      ]
     },
     "execution_count": 18,
     "metadata": {},
     "output_type": "execute_result"
    }
   ],
   "source": [
    "players_df[players_df['shortName']=='L. Messi']"
   ]
  },
  {
   "cell_type": "code",
   "execution_count": 19,
   "metadata": {},
   "outputs": [
    {
     "data": {
      "text/html": [
       "<div>\n",
       "<style scoped>\n",
       "    .dataframe tbody tr th:only-of-type {\n",
       "        vertical-align: middle;\n",
       "    }\n",
       "\n",
       "    .dataframe tbody tr th {\n",
       "        vertical-align: top;\n",
       "    }\n",
       "\n",
       "    .dataframe thead th {\n",
       "        text-align: right;\n",
       "    }\n",
       "</style>\n",
       "<table border=\"1\" class=\"dataframe\">\n",
       "  <thead>\n",
       "    <tr style=\"text-align: right;\">\n",
       "      <th></th>\n",
       "      <th>city</th>\n",
       "      <th>name</th>\n",
       "      <th>wyId</th>\n",
       "      <th>officialName</th>\n",
       "      <th>area</th>\n",
       "      <th>type</th>\n",
       "    </tr>\n",
       "  </thead>\n",
       "  <tbody>\n",
       "    <tr>\n",
       "      <th>15</th>\n",
       "      <td>Barcelona</td>\n",
       "      <td>Barcelona</td>\n",
       "      <td>676</td>\n",
       "      <td>FC Barcelona</td>\n",
       "      <td>{'name': 'Spain', 'id': '724', 'alpha3code': '...</td>\n",
       "      <td>club</td>\n",
       "    </tr>\n",
       "  </tbody>\n",
       "</table>\n",
       "</div>"
      ],
      "text/plain": [
       "         city       name  wyId  officialName  \\\n",
       "15  Barcelona  Barcelona   676  FC Barcelona   \n",
       "\n",
       "                                                 area  type  \n",
       "15  {'name': 'Spain', 'id': '724', 'alpha3code': '...  club  "
      ]
     },
     "execution_count": 19,
     "metadata": {},
     "output_type": "execute_result"
    }
   ],
   "source": [
    "teams_df[teams_df['wyId']==676]"
   ]
  },
  {
   "cell_type": "markdown",
   "metadata": {},
   "source": [
    "#### Matches\n",
    "In this case, I split the JSON object in different dataframes"
   ]
  },
  {
   "cell_type": "markdown",
   "metadata": {},
   "source": [
    "##### Italy"
   ]
  },
  {
   "cell_type": "code",
   "execution_count": 20,
   "metadata": {},
   "outputs": [],
   "source": [
    "italian_matches_df = pd.DataFrame(matches['Italy'])"
   ]
  },
  {
   "cell_type": "code",
   "execution_count": 21,
   "metadata": {},
   "outputs": [
    {
     "data": {
      "text/plain": [
       "(380, 14)"
      ]
     },
     "execution_count": 21,
     "metadata": {},
     "output_type": "execute_result"
    }
   ],
   "source": [
    "italian_matches_df.shape"
   ]
  },
  {
   "cell_type": "code",
   "execution_count": 22,
   "metadata": {},
   "outputs": [
    {
     "name": "stdout",
     "output_type": "stream",
     "text": [
      "<class 'pandas.core.frame.DataFrame'>\n",
      "RangeIndex: 380 entries, 0 to 379\n",
      "Data columns (total 14 columns):\n",
      " #   Column         Non-Null Count  Dtype \n",
      "---  ------         --------------  ----- \n",
      " 0   status         380 non-null    object\n",
      " 1   roundId        380 non-null    int64 \n",
      " 2   gameweek       380 non-null    int64 \n",
      " 3   teamsData      380 non-null    object\n",
      " 4   seasonId       380 non-null    int64 \n",
      " 5   dateutc        380 non-null    object\n",
      " 6   winner         380 non-null    int64 \n",
      " 7   venue          380 non-null    object\n",
      " 8   wyId           380 non-null    int64 \n",
      " 9   label          380 non-null    object\n",
      " 10  date           380 non-null    object\n",
      " 11  referees       380 non-null    object\n",
      " 12  duration       380 non-null    object\n",
      " 13  competitionId  380 non-null    int64 \n",
      "dtypes: int64(6), object(8)\n",
      "memory usage: 41.7+ KB\n"
     ]
    }
   ],
   "source": [
    "italian_matches_df.info()"
   ]
  },
  {
   "cell_type": "code",
   "execution_count": 23,
   "metadata": {},
   "outputs": [
    {
     "data": {
      "text/html": [
       "<div>\n",
       "<style scoped>\n",
       "    .dataframe tbody tr th:only-of-type {\n",
       "        vertical-align: middle;\n",
       "    }\n",
       "\n",
       "    .dataframe tbody tr th {\n",
       "        vertical-align: top;\n",
       "    }\n",
       "\n",
       "    .dataframe thead th {\n",
       "        text-align: right;\n",
       "    }\n",
       "</style>\n",
       "<table border=\"1\" class=\"dataframe\">\n",
       "  <thead>\n",
       "    <tr style=\"text-align: right;\">\n",
       "      <th></th>\n",
       "      <th>status</th>\n",
       "      <th>roundId</th>\n",
       "      <th>gameweek</th>\n",
       "      <th>teamsData</th>\n",
       "      <th>seasonId</th>\n",
       "      <th>dateutc</th>\n",
       "      <th>winner</th>\n",
       "      <th>venue</th>\n",
       "      <th>wyId</th>\n",
       "      <th>label</th>\n",
       "      <th>date</th>\n",
       "      <th>referees</th>\n",
       "      <th>duration</th>\n",
       "      <th>competitionId</th>\n",
       "    </tr>\n",
       "  </thead>\n",
       "  <tbody>\n",
       "    <tr>\n",
       "      <th>0</th>\n",
       "      <td>Played</td>\n",
       "      <td>4406278</td>\n",
       "      <td>38</td>\n",
       "      <td>{'3162': {'scoreET': 0, 'coachId': 251025, 'si...</td>\n",
       "      <td>181248</td>\n",
       "      <td>2018-05-20 18:45:00</td>\n",
       "      <td>3161</td>\n",
       "      <td></td>\n",
       "      <td>2576335</td>\n",
       "      <td>Lazio - Internazionale, 2 - 3</td>\n",
       "      <td>May 20, 2018 at 8:45:00 PM GMT+2</td>\n",
       "      <td>[{'refereeId': 377206, 'role': 'referee'}, {'r...</td>\n",
       "      <td>Regular</td>\n",
       "      <td>524</td>\n",
       "    </tr>\n",
       "    <tr>\n",
       "      <th>1</th>\n",
       "      <td>Played</td>\n",
       "      <td>4406278</td>\n",
       "      <td>38</td>\n",
       "      <td>{'3158': {'scoreET': 0, 'coachId': 210119, 'si...</td>\n",
       "      <td>181248</td>\n",
       "      <td>2018-05-20 18:45:00</td>\n",
       "      <td>3158</td>\n",
       "      <td>MAPEI Stadium - Citt\\u00e0 del Tricolore</td>\n",
       "      <td>2576336</td>\n",
       "      <td>Sassuolo - Roma, 0 - 1</td>\n",
       "      <td>May 20, 2018 at 8:45:00 PM GMT+2</td>\n",
       "      <td>[{'refereeId': 377255, 'role': 'referee'}, {'r...</td>\n",
       "      <td>Regular</td>\n",
       "      <td>524</td>\n",
       "    </tr>\n",
       "    <tr>\n",
       "      <th>2</th>\n",
       "      <td>Played</td>\n",
       "      <td>4406278</td>\n",
       "      <td>38</td>\n",
       "      <td>{'3173': {'scoreET': 0, 'coachId': 251044, 'si...</td>\n",
       "      <td>181248</td>\n",
       "      <td>2018-05-20 16:00:00</td>\n",
       "      <td>3173</td>\n",
       "      <td></td>\n",
       "      <td>2576329</td>\n",
       "      <td>Cagliari - Atalanta, 1 - 0</td>\n",
       "      <td>May 20, 2018 at 6:00:00 PM GMT+2</td>\n",
       "      <td>[{'refereeId': 377247, 'role': 'referee'}, {'r...</td>\n",
       "      <td>Regular</td>\n",
       "      <td>524</td>\n",
       "    </tr>\n",
       "    <tr>\n",
       "      <th>3</th>\n",
       "      <td>Played</td>\n",
       "      <td>4406278</td>\n",
       "      <td>38</td>\n",
       "      <td>{'3165': {'scoreET': 0, 'coachId': 272970, 'si...</td>\n",
       "      <td>181248</td>\n",
       "      <td>2018-05-20 16:00:00</td>\n",
       "      <td>3165</td>\n",
       "      <td></td>\n",
       "      <td>2576330</td>\n",
       "      <td>Chievo - Benevento, 1 - 0</td>\n",
       "      <td>May 20, 2018 at 6:00:00 PM GMT+2</td>\n",
       "      <td>[{'refereeId': 377246, 'role': 'referee'}, {'r...</td>\n",
       "      <td>Regular</td>\n",
       "      <td>524</td>\n",
       "    </tr>\n",
       "    <tr>\n",
       "      <th>4</th>\n",
       "      <td>Played</td>\n",
       "      <td>4406278</td>\n",
       "      <td>38</td>\n",
       "      <td>{'3166': {'scoreET': 0, 'coachId': 20481, 'sid...</td>\n",
       "      <td>181248</td>\n",
       "      <td>2018-05-20 16:00:00</td>\n",
       "      <td>3163</td>\n",
       "      <td></td>\n",
       "      <td>2576331</td>\n",
       "      <td>Udinese - Bologna, 1 - 0</td>\n",
       "      <td>May 20, 2018 at 6:00:00 PM GMT+2</td>\n",
       "      <td>[{'refereeId': 377254, 'role': 'referee'}, {'r...</td>\n",
       "      <td>Regular</td>\n",
       "      <td>524</td>\n",
       "    </tr>\n",
       "  </tbody>\n",
       "</table>\n",
       "</div>"
      ],
      "text/plain": [
       "   status  roundId  gameweek  \\\n",
       "0  Played  4406278        38   \n",
       "1  Played  4406278        38   \n",
       "2  Played  4406278        38   \n",
       "3  Played  4406278        38   \n",
       "4  Played  4406278        38   \n",
       "\n",
       "                                           teamsData  seasonId  \\\n",
       "0  {'3162': {'scoreET': 0, 'coachId': 251025, 'si...    181248   \n",
       "1  {'3158': {'scoreET': 0, 'coachId': 210119, 'si...    181248   \n",
       "2  {'3173': {'scoreET': 0, 'coachId': 251044, 'si...    181248   \n",
       "3  {'3165': {'scoreET': 0, 'coachId': 272970, 'si...    181248   \n",
       "4  {'3166': {'scoreET': 0, 'coachId': 20481, 'sid...    181248   \n",
       "\n",
       "               dateutc  winner                                     venue  \\\n",
       "0  2018-05-20 18:45:00    3161                                             \n",
       "1  2018-05-20 18:45:00    3158  MAPEI Stadium - Citt\\u00e0 del Tricolore   \n",
       "2  2018-05-20 16:00:00    3173                                             \n",
       "3  2018-05-20 16:00:00    3165                                             \n",
       "4  2018-05-20 16:00:00    3163                                             \n",
       "\n",
       "      wyId                          label                              date  \\\n",
       "0  2576335  Lazio - Internazionale, 2 - 3  May 20, 2018 at 8:45:00 PM GMT+2   \n",
       "1  2576336         Sassuolo - Roma, 0 - 1  May 20, 2018 at 8:45:00 PM GMT+2   \n",
       "2  2576329     Cagliari - Atalanta, 1 - 0  May 20, 2018 at 6:00:00 PM GMT+2   \n",
       "3  2576330      Chievo - Benevento, 1 - 0  May 20, 2018 at 6:00:00 PM GMT+2   \n",
       "4  2576331       Udinese - Bologna, 1 - 0  May 20, 2018 at 6:00:00 PM GMT+2   \n",
       "\n",
       "                                            referees duration  competitionId  \n",
       "0  [{'refereeId': 377206, 'role': 'referee'}, {'r...  Regular            524  \n",
       "1  [{'refereeId': 377255, 'role': 'referee'}, {'r...  Regular            524  \n",
       "2  [{'refereeId': 377247, 'role': 'referee'}, {'r...  Regular            524  \n",
       "3  [{'refereeId': 377246, 'role': 'referee'}, {'r...  Regular            524  \n",
       "4  [{'refereeId': 377254, 'role': 'referee'}, {'r...  Regular            524  "
      ]
     },
     "execution_count": 23,
     "metadata": {},
     "output_type": "execute_result"
    }
   ],
   "source": [
    "italian_matches_df.head()"
   ]
  },
  {
   "cell_type": "code",
   "execution_count": 24,
   "metadata": {},
   "outputs": [
    {
     "data": {
      "text/plain": [
       "status\n",
       "Played    380\n",
       "Name: count, dtype: int64"
      ]
     },
     "execution_count": 24,
     "metadata": {},
     "output_type": "execute_result"
    }
   ],
   "source": [
    "italian_matches_df.status.value_counts()"
   ]
  },
  {
   "cell_type": "code",
   "execution_count": 25,
   "metadata": {},
   "outputs": [
    {
     "data": {
      "text/plain": [
       "roundId\n",
       "4406278    380\n",
       "Name: count, dtype: int64"
      ]
     },
     "execution_count": 25,
     "metadata": {},
     "output_type": "execute_result"
    }
   ],
   "source": [
    "italian_matches_df.roundId.value_counts()"
   ]
  },
  {
   "cell_type": "code",
   "execution_count": 26,
   "metadata": {},
   "outputs": [
    {
     "data": {
      "text/plain": [
       "seasonId\n",
       "181248    380\n",
       "Name: count, dtype: int64"
      ]
     },
     "execution_count": 26,
     "metadata": {},
     "output_type": "execute_result"
    }
   ],
   "source": [
    "italian_matches_df.seasonId.value_counts()"
   ]
  },
  {
   "cell_type": "code",
   "execution_count": 27,
   "metadata": {},
   "outputs": [
    {
     "data": {
      "text/plain": [
       "venue\n",
       "                                            106\n",
       "Stadio Comunale Luigi Ferraris               28\n",
       "Stadio Marc'Antonio Bentegodi                27\n",
       "Stadio Olimpico                              27\n",
       "Stadio Giuseppe Meazza                       27\n",
       "MAPEI Stadium - Citt\\u00e0 del Tricolore     15\n",
       "Stadio Renato Dall'Ara                       15\n",
       "Stadio Ciro Vigorito                         14\n",
       "Dacia Arena                                  14\n",
       "Stadio Olimpico Grande Torino                14\n",
       "Stadio San Paolo                             14\n",
       "Stadio Atleti Azzurri d'Italia               14\n",
       "Allianz Stadium                              13\n",
       "Sardegna Arena                               13\n",
       "Stadio Artemio Franchi                       13\n",
       "Stadio Ezio Scida                            13\n",
       "Stadio Paolo Mazza                           12\n",
       "Stadio Ciro Vigorito                          1\n",
       "Name: count, dtype: int64"
      ]
     },
     "execution_count": 27,
     "metadata": {},
     "output_type": "execute_result"
    }
   ],
   "source": [
    "italian_matches_df.venue.value_counts()"
   ]
  },
  {
   "cell_type": "code",
   "execution_count": 28,
   "metadata": {},
   "outputs": [
    {
     "data": {
      "text/plain": [
       "duration\n",
       "Regular    380\n",
       "Name: count, dtype: int64"
      ]
     },
     "execution_count": 28,
     "metadata": {},
     "output_type": "execute_result"
    }
   ],
   "source": [
    "italian_matches_df.duration.value_counts()"
   ]
  },
  {
   "cell_type": "code",
   "execution_count": 29,
   "metadata": {},
   "outputs": [
    {
     "data": {
      "text/plain": [
       "competitionId\n",
       "524    380\n",
       "Name: count, dtype: int64"
      ]
     },
     "execution_count": 29,
     "metadata": {},
     "output_type": "execute_result"
    }
   ],
   "source": [
    "italian_matches_df.competitionId.value_counts()"
   ]
  },
  {
   "cell_type": "code",
   "execution_count": 30,
   "metadata": {},
   "outputs": [
    {
     "data": {
      "text/plain": [
       "seasonId\n",
       "181248    380\n",
       "Name: count, dtype: int64"
      ]
     },
     "execution_count": 30,
     "metadata": {},
     "output_type": "execute_result"
    }
   ],
   "source": [
    "italian_matches_df.seasonId.value_counts()"
   ]
  },
  {
   "cell_type": "code",
   "execution_count": 31,
   "metadata": {},
   "outputs": [],
   "source": [
    "italian_matches_df.drop(['status', 'roundId', 'seasonId', 'venue', 'duration', 'competitionId', 'referees'], axis=1, inplace=True)"
   ]
  },
  {
   "cell_type": "code",
   "execution_count": 32,
   "metadata": {},
   "outputs": [
    {
     "data": {
      "text/html": [
       "<div>\n",
       "<style scoped>\n",
       "    .dataframe tbody tr th:only-of-type {\n",
       "        vertical-align: middle;\n",
       "    }\n",
       "\n",
       "    .dataframe tbody tr th {\n",
       "        vertical-align: top;\n",
       "    }\n",
       "\n",
       "    .dataframe thead th {\n",
       "        text-align: right;\n",
       "    }\n",
       "</style>\n",
       "<table border=\"1\" class=\"dataframe\">\n",
       "  <thead>\n",
       "    <tr style=\"text-align: right;\">\n",
       "      <th></th>\n",
       "      <th>gameweek</th>\n",
       "      <th>teamsData</th>\n",
       "      <th>dateutc</th>\n",
       "      <th>winner</th>\n",
       "      <th>wyId</th>\n",
       "      <th>label</th>\n",
       "      <th>date</th>\n",
       "    </tr>\n",
       "  </thead>\n",
       "  <tbody>\n",
       "    <tr>\n",
       "      <th>0</th>\n",
       "      <td>38</td>\n",
       "      <td>{'3162': {'scoreET': 0, 'coachId': 251025, 'si...</td>\n",
       "      <td>2018-05-20 18:45:00</td>\n",
       "      <td>3161</td>\n",
       "      <td>2576335</td>\n",
       "      <td>Lazio - Internazionale, 2 - 3</td>\n",
       "      <td>May 20, 2018 at 8:45:00 PM GMT+2</td>\n",
       "    </tr>\n",
       "    <tr>\n",
       "      <th>1</th>\n",
       "      <td>38</td>\n",
       "      <td>{'3158': {'scoreET': 0, 'coachId': 210119, 'si...</td>\n",
       "      <td>2018-05-20 18:45:00</td>\n",
       "      <td>3158</td>\n",
       "      <td>2576336</td>\n",
       "      <td>Sassuolo - Roma, 0 - 1</td>\n",
       "      <td>May 20, 2018 at 8:45:00 PM GMT+2</td>\n",
       "    </tr>\n",
       "    <tr>\n",
       "      <th>2</th>\n",
       "      <td>38</td>\n",
       "      <td>{'3173': {'scoreET': 0, 'coachId': 251044, 'si...</td>\n",
       "      <td>2018-05-20 16:00:00</td>\n",
       "      <td>3173</td>\n",
       "      <td>2576329</td>\n",
       "      <td>Cagliari - Atalanta, 1 - 0</td>\n",
       "      <td>May 20, 2018 at 6:00:00 PM GMT+2</td>\n",
       "    </tr>\n",
       "    <tr>\n",
       "      <th>3</th>\n",
       "      <td>38</td>\n",
       "      <td>{'3165': {'scoreET': 0, 'coachId': 272970, 'si...</td>\n",
       "      <td>2018-05-20 16:00:00</td>\n",
       "      <td>3165</td>\n",
       "      <td>2576330</td>\n",
       "      <td>Chievo - Benevento, 1 - 0</td>\n",
       "      <td>May 20, 2018 at 6:00:00 PM GMT+2</td>\n",
       "    </tr>\n",
       "    <tr>\n",
       "      <th>4</th>\n",
       "      <td>38</td>\n",
       "      <td>{'3166': {'scoreET': 0, 'coachId': 20481, 'sid...</td>\n",
       "      <td>2018-05-20 16:00:00</td>\n",
       "      <td>3163</td>\n",
       "      <td>2576331</td>\n",
       "      <td>Udinese - Bologna, 1 - 0</td>\n",
       "      <td>May 20, 2018 at 6:00:00 PM GMT+2</td>\n",
       "    </tr>\n",
       "  </tbody>\n",
       "</table>\n",
       "</div>"
      ],
      "text/plain": [
       "   gameweek                                          teamsData  \\\n",
       "0        38  {'3162': {'scoreET': 0, 'coachId': 251025, 'si...   \n",
       "1        38  {'3158': {'scoreET': 0, 'coachId': 210119, 'si...   \n",
       "2        38  {'3173': {'scoreET': 0, 'coachId': 251044, 'si...   \n",
       "3        38  {'3165': {'scoreET': 0, 'coachId': 272970, 'si...   \n",
       "4        38  {'3166': {'scoreET': 0, 'coachId': 20481, 'sid...   \n",
       "\n",
       "               dateutc  winner     wyId                          label  \\\n",
       "0  2018-05-20 18:45:00    3161  2576335  Lazio - Internazionale, 2 - 3   \n",
       "1  2018-05-20 18:45:00    3158  2576336         Sassuolo - Roma, 0 - 1   \n",
       "2  2018-05-20 16:00:00    3173  2576329     Cagliari - Atalanta, 1 - 0   \n",
       "3  2018-05-20 16:00:00    3165  2576330      Chievo - Benevento, 1 - 0   \n",
       "4  2018-05-20 16:00:00    3163  2576331       Udinese - Bologna, 1 - 0   \n",
       "\n",
       "                               date  \n",
       "0  May 20, 2018 at 8:45:00 PM GMT+2  \n",
       "1  May 20, 2018 at 8:45:00 PM GMT+2  \n",
       "2  May 20, 2018 at 6:00:00 PM GMT+2  \n",
       "3  May 20, 2018 at 6:00:00 PM GMT+2  \n",
       "4  May 20, 2018 at 6:00:00 PM GMT+2  "
      ]
     },
     "execution_count": 32,
     "metadata": {},
     "output_type": "execute_result"
    }
   ],
   "source": [
    "italian_matches_df.head()"
   ]
  },
  {
   "cell_type": "code",
   "execution_count": 57,
   "metadata": {},
   "outputs": [
    {
     "data": {
      "text/plain": [
       "dict_keys(['3162', '3161'])"
      ]
     },
     "execution_count": 57,
     "metadata": {},
     "output_type": "execute_result"
    }
   ],
   "source": [
    "italian_matches_df['teamsData'][0].keys()"
   ]
  },
  {
   "cell_type": "code",
   "execution_count": 54,
   "metadata": {},
   "outputs": [
    {
     "data": {
      "text/html": [
       "<div>\n",
       "<style scoped>\n",
       "    .dataframe tbody tr th:only-of-type {\n",
       "        vertical-align: middle;\n",
       "    }\n",
       "\n",
       "    .dataframe tbody tr th {\n",
       "        vertical-align: top;\n",
       "    }\n",
       "\n",
       "    .dataframe thead th {\n",
       "        text-align: right;\n",
       "    }\n",
       "</style>\n",
       "<table border=\"1\" class=\"dataframe\">\n",
       "  <thead>\n",
       "    <tr style=\"text-align: right;\">\n",
       "      <th></th>\n",
       "      <th>passportArea</th>\n",
       "      <th>weight</th>\n",
       "      <th>firstName</th>\n",
       "      <th>middleName</th>\n",
       "      <th>lastName</th>\n",
       "      <th>currentTeamId</th>\n",
       "      <th>birthDate</th>\n",
       "      <th>height</th>\n",
       "      <th>role</th>\n",
       "      <th>birthArea</th>\n",
       "      <th>wyId</th>\n",
       "      <th>foot</th>\n",
       "      <th>shortName</th>\n",
       "      <th>currentNationalTeamId</th>\n",
       "    </tr>\n",
       "  </thead>\n",
       "  <tbody>\n",
       "    <tr>\n",
       "      <th>1886</th>\n",
       "      <td>{'name': 'France', 'id': '250', 'alpha3code': ...</td>\n",
       "      <td>77</td>\n",
       "      <td>Yann</td>\n",
       "      <td></td>\n",
       "      <td>Karamoh</td>\n",
       "      <td>3161</td>\n",
       "      <td>1998-07-08</td>\n",
       "      <td>185</td>\n",
       "      <td>{'code2': 'FW', 'code3': 'FWD', 'name': 'Forwa...</td>\n",
       "      <td>{'name': 'C\\u00f4te d'Ivoire', 'id': '384', 'a...</td>\n",
       "      <td>352993</td>\n",
       "      <td>right</td>\n",
       "      <td>Y. Karamoh</td>\n",
       "      <td>null</td>\n",
       "    </tr>\n",
       "  </tbody>\n",
       "</table>\n",
       "</div>"
      ],
      "text/plain": [
       "                                           passportArea  weight firstName  \\\n",
       "1886  {'name': 'France', 'id': '250', 'alpha3code': ...      77      Yann   \n",
       "\n",
       "     middleName lastName currentTeamId   birthDate  height  \\\n",
       "1886             Karamoh          3161  1998-07-08     185   \n",
       "\n",
       "                                                   role  \\\n",
       "1886  {'code2': 'FW', 'code3': 'FWD', 'name': 'Forwa...   \n",
       "\n",
       "                                              birthArea    wyId   foot  \\\n",
       "1886  {'name': 'C\\u00f4te d'Ivoire', 'id': '384', 'a...  352993  right   \n",
       "\n",
       "       shortName currentNationalTeamId  \n",
       "1886  Y. Karamoh                  null  "
      ]
     },
     "execution_count": 54,
     "metadata": {},
     "output_type": "execute_result"
    }
   ],
   "source": [
    "players_df[players_df['wyId']==352993]"
   ]
  },
  {
   "cell_type": "code",
   "execution_count": 59,
   "metadata": {},
   "outputs": [
    {
     "data": {
      "text/html": [
       "<div>\n",
       "<style scoped>\n",
       "    .dataframe tbody tr th:only-of-type {\n",
       "        vertical-align: middle;\n",
       "    }\n",
       "\n",
       "    .dataframe tbody tr th {\n",
       "        vertical-align: top;\n",
       "    }\n",
       "\n",
       "    .dataframe thead th {\n",
       "        text-align: right;\n",
       "    }\n",
       "</style>\n",
       "<table border=\"1\" class=\"dataframe\">\n",
       "  <thead>\n",
       "    <tr style=\"text-align: right;\">\n",
       "      <th></th>\n",
       "      <th>city</th>\n",
       "      <th>name</th>\n",
       "      <th>wyId</th>\n",
       "      <th>officialName</th>\n",
       "      <th>area</th>\n",
       "      <th>type</th>\n",
       "    </tr>\n",
       "  </thead>\n",
       "  <tbody>\n",
       "    <tr>\n",
       "      <th>51</th>\n",
       "      <td>Formello</td>\n",
       "      <td>Lazio</td>\n",
       "      <td>3162</td>\n",
       "      <td>SS Lazio</td>\n",
       "      <td>{'name': 'Italy', 'id': '380', 'alpha3code': '...</td>\n",
       "      <td>club</td>\n",
       "    </tr>\n",
       "  </tbody>\n",
       "</table>\n",
       "</div>"
      ],
      "text/plain": [
       "        city   name  wyId officialName  \\\n",
       "51  Formello  Lazio  3162     SS Lazio   \n",
       "\n",
       "                                                 area  type  \n",
       "51  {'name': 'Italy', 'id': '380', 'alpha3code': '...  club  "
      ]
     },
     "execution_count": 59,
     "metadata": {},
     "output_type": "execute_result"
    }
   ],
   "source": [
    "teams_df[teams_df['wyId']==3162]"
   ]
  },
  {
   "cell_type": "markdown",
   "metadata": {},
   "source": [
    "##### England"
   ]
  },
  {
   "cell_type": "code",
   "execution_count": 34,
   "metadata": {},
   "outputs": [],
   "source": [
    "english_matches_df = pd.DataFrame(matches['England'])"
   ]
  },
  {
   "cell_type": "code",
   "execution_count": 60,
   "metadata": {},
   "outputs": [
    {
     "data": {
      "text/plain": [
       "(380, 14)"
      ]
     },
     "execution_count": 60,
     "metadata": {},
     "output_type": "execute_result"
    }
   ],
   "source": [
    "english_matches_df.shape"
   ]
  },
  {
   "cell_type": "code",
   "execution_count": 61,
   "metadata": {},
   "outputs": [
    {
     "name": "stdout",
     "output_type": "stream",
     "text": [
      "<class 'pandas.core.frame.DataFrame'>\n",
      "RangeIndex: 380 entries, 0 to 379\n",
      "Data columns (total 14 columns):\n",
      " #   Column         Non-Null Count  Dtype \n",
      "---  ------         --------------  ----- \n",
      " 0   status         380 non-null    object\n",
      " 1   roundId        380 non-null    int64 \n",
      " 2   gameweek       380 non-null    int64 \n",
      " 3   teamsData      380 non-null    object\n",
      " 4   seasonId       380 non-null    int64 \n",
      " 5   dateutc        380 non-null    object\n",
      " 6   winner         380 non-null    int64 \n",
      " 7   venue          380 non-null    object\n",
      " 8   wyId           380 non-null    int64 \n",
      " 9   label          380 non-null    object\n",
      " 10  date           380 non-null    object\n",
      " 11  referees       380 non-null    object\n",
      " 12  duration       380 non-null    object\n",
      " 13  competitionId  380 non-null    int64 \n",
      "dtypes: int64(6), object(8)\n",
      "memory usage: 41.7+ KB\n"
     ]
    }
   ],
   "source": [
    "english_matches_df.info()"
   ]
  },
  {
   "cell_type": "code",
   "execution_count": 62,
   "metadata": {},
   "outputs": [
    {
     "data": {
      "text/plain": [
       "status\n",
       "Played    380\n",
       "Name: count, dtype: int64"
      ]
     },
     "execution_count": 62,
     "metadata": {},
     "output_type": "execute_result"
    }
   ],
   "source": [
    "english_matches_df.status.value_counts()"
   ]
  },
  {
   "cell_type": "code",
   "execution_count": 63,
   "metadata": {},
   "outputs": [
    {
     "data": {
      "text/plain": [
       "roundId\n",
       "4405654    380\n",
       "Name: count, dtype: int64"
      ]
     },
     "execution_count": 63,
     "metadata": {},
     "output_type": "execute_result"
    }
   ],
   "source": [
    "english_matches_df.roundId.value_counts()"
   ]
  },
  {
   "cell_type": "code",
   "execution_count": 64,
   "metadata": {},
   "outputs": [
    {
     "data": {
      "text/plain": [
       "seasonId\n",
       "181150    380\n",
       "Name: count, dtype: int64"
      ]
     },
     "execution_count": 64,
     "metadata": {},
     "output_type": "execute_result"
    }
   ],
   "source": [
    "english_matches_df.seasonId.value_counts()"
   ]
  },
  {
   "cell_type": "code",
   "execution_count": 66,
   "metadata": {},
   "outputs": [
    {
     "data": {
      "text/plain": [
       "duration\n",
       "Regular    380\n",
       "Name: count, dtype: int64"
      ]
     },
     "execution_count": 66,
     "metadata": {},
     "output_type": "execute_result"
    }
   ],
   "source": [
    "english_matches_df.duration.value_counts()"
   ]
  },
  {
   "cell_type": "code",
   "execution_count": 67,
   "metadata": {},
   "outputs": [
    {
     "data": {
      "text/plain": [
       "competitionId\n",
       "364    380\n",
       "Name: count, dtype: int64"
      ]
     },
     "execution_count": 67,
     "metadata": {},
     "output_type": "execute_result"
    }
   ],
   "source": [
    "english_matches_df.competitionId.value_counts()"
   ]
  },
  {
   "cell_type": "code",
   "execution_count": 68,
   "metadata": {},
   "outputs": [],
   "source": [
    "english_matches_df.drop(['status', 'roundId', 'seasonId', 'venue', 'duration', 'competitionId', 'referees'], axis=1, inplace=True)"
   ]
  },
  {
   "cell_type": "code",
   "execution_count": 69,
   "metadata": {},
   "outputs": [
    {
     "data": {
      "text/html": [
       "<div>\n",
       "<style scoped>\n",
       "    .dataframe tbody tr th:only-of-type {\n",
       "        vertical-align: middle;\n",
       "    }\n",
       "\n",
       "    .dataframe tbody tr th {\n",
       "        vertical-align: top;\n",
       "    }\n",
       "\n",
       "    .dataframe thead th {\n",
       "        text-align: right;\n",
       "    }\n",
       "</style>\n",
       "<table border=\"1\" class=\"dataframe\">\n",
       "  <thead>\n",
       "    <tr style=\"text-align: right;\">\n",
       "      <th></th>\n",
       "      <th>gameweek</th>\n",
       "      <th>teamsData</th>\n",
       "      <th>dateutc</th>\n",
       "      <th>winner</th>\n",
       "      <th>wyId</th>\n",
       "      <th>label</th>\n",
       "      <th>date</th>\n",
       "    </tr>\n",
       "  </thead>\n",
       "  <tbody>\n",
       "    <tr>\n",
       "      <th>0</th>\n",
       "      <td>38</td>\n",
       "      <td>{'1646': {'scoreET': 0, 'coachId': 8880, 'side...</td>\n",
       "      <td>2018-05-13 14:00:00</td>\n",
       "      <td>1659</td>\n",
       "      <td>2500089</td>\n",
       "      <td>Burnley - AFC Bournemouth, 1 - 2</td>\n",
       "      <td>May 13, 2018 at 4:00:00 PM GMT+2</td>\n",
       "    </tr>\n",
       "    <tr>\n",
       "      <th>1</th>\n",
       "      <td>38</td>\n",
       "      <td>{'1628': {'scoreET': 0, 'coachId': 8357, 'side...</td>\n",
       "      <td>2018-05-13 14:00:00</td>\n",
       "      <td>1628</td>\n",
       "      <td>2500090</td>\n",
       "      <td>Crystal Palace - West Bromwich Albion, 2 - 0</td>\n",
       "      <td>May 13, 2018 at 4:00:00 PM GMT+2</td>\n",
       "    </tr>\n",
       "    <tr>\n",
       "      <th>2</th>\n",
       "      <td>38</td>\n",
       "      <td>{'1609': {'scoreET': 0, 'coachId': 7845, 'side...</td>\n",
       "      <td>2018-05-13 14:00:00</td>\n",
       "      <td>1609</td>\n",
       "      <td>2500091</td>\n",
       "      <td>Huddersfield Town - Arsenal, 0 - 1</td>\n",
       "      <td>May 13, 2018 at 4:00:00 PM GMT+2</td>\n",
       "    </tr>\n",
       "    <tr>\n",
       "      <th>3</th>\n",
       "      <td>38</td>\n",
       "      <td>{'1651': {'scoreET': 0, 'coachId': 8093, 'side...</td>\n",
       "      <td>2018-05-13 14:00:00</td>\n",
       "      <td>1612</td>\n",
       "      <td>2500092</td>\n",
       "      <td>Liverpool - Brighton &amp; Hove Albion, 4 - 0</td>\n",
       "      <td>May 13, 2018 at 4:00:00 PM GMT+2</td>\n",
       "    </tr>\n",
       "    <tr>\n",
       "      <th>4</th>\n",
       "      <td>38</td>\n",
       "      <td>{'1644': {'scoreET': 0, 'coachId': 93112, 'sid...</td>\n",
       "      <td>2018-05-13 14:00:00</td>\n",
       "      <td>1611</td>\n",
       "      <td>2500093</td>\n",
       "      <td>Manchester United - Watford, 1 - 0</td>\n",
       "      <td>May 13, 2018 at 4:00:00 PM GMT+2</td>\n",
       "    </tr>\n",
       "  </tbody>\n",
       "</table>\n",
       "</div>"
      ],
      "text/plain": [
       "   gameweek                                          teamsData  \\\n",
       "0        38  {'1646': {'scoreET': 0, 'coachId': 8880, 'side...   \n",
       "1        38  {'1628': {'scoreET': 0, 'coachId': 8357, 'side...   \n",
       "2        38  {'1609': {'scoreET': 0, 'coachId': 7845, 'side...   \n",
       "3        38  {'1651': {'scoreET': 0, 'coachId': 8093, 'side...   \n",
       "4        38  {'1644': {'scoreET': 0, 'coachId': 93112, 'sid...   \n",
       "\n",
       "               dateutc  winner     wyId  \\\n",
       "0  2018-05-13 14:00:00    1659  2500089   \n",
       "1  2018-05-13 14:00:00    1628  2500090   \n",
       "2  2018-05-13 14:00:00    1609  2500091   \n",
       "3  2018-05-13 14:00:00    1612  2500092   \n",
       "4  2018-05-13 14:00:00    1611  2500093   \n",
       "\n",
       "                                          label  \\\n",
       "0              Burnley - AFC Bournemouth, 1 - 2   \n",
       "1  Crystal Palace - West Bromwich Albion, 2 - 0   \n",
       "2            Huddersfield Town - Arsenal, 0 - 1   \n",
       "3     Liverpool - Brighton & Hove Albion, 4 - 0   \n",
       "4            Manchester United - Watford, 1 - 0   \n",
       "\n",
       "                               date  \n",
       "0  May 13, 2018 at 4:00:00 PM GMT+2  \n",
       "1  May 13, 2018 at 4:00:00 PM GMT+2  \n",
       "2  May 13, 2018 at 4:00:00 PM GMT+2  \n",
       "3  May 13, 2018 at 4:00:00 PM GMT+2  \n",
       "4  May 13, 2018 at 4:00:00 PM GMT+2  "
      ]
     },
     "execution_count": 69,
     "metadata": {},
     "output_type": "execute_result"
    }
   ],
   "source": [
    "english_matches_df.head()"
   ]
  },
  {
   "cell_type": "markdown",
   "metadata": {},
   "source": [
    "##### Germany"
   ]
  },
  {
   "cell_type": "code",
   "execution_count": 83,
   "metadata": {},
   "outputs": [],
   "source": [
    "german_matches_df = pd.DataFrame(matches['Germany'])"
   ]
  },
  {
   "cell_type": "code",
   "execution_count": 84,
   "metadata": {},
   "outputs": [
    {
     "data": {
      "text/plain": [
       "(306, 14)"
      ]
     },
     "execution_count": 84,
     "metadata": {},
     "output_type": "execute_result"
    }
   ],
   "source": [
    "german_matches_df.shape"
   ]
  },
  {
   "cell_type": "code",
   "execution_count": 85,
   "metadata": {},
   "outputs": [
    {
     "name": "stdout",
     "output_type": "stream",
     "text": [
      "<class 'pandas.core.frame.DataFrame'>\n",
      "RangeIndex: 306 entries, 0 to 305\n",
      "Data columns (total 14 columns):\n",
      " #   Column         Non-Null Count  Dtype \n",
      "---  ------         --------------  ----- \n",
      " 0   status         306 non-null    object\n",
      " 1   roundId        306 non-null    int64 \n",
      " 2   gameweek       306 non-null    int64 \n",
      " 3   teamsData      306 non-null    object\n",
      " 4   seasonId       306 non-null    int64 \n",
      " 5   dateutc        306 non-null    object\n",
      " 6   winner         306 non-null    int64 \n",
      " 7   venue          306 non-null    object\n",
      " 8   wyId           306 non-null    int64 \n",
      " 9   label          306 non-null    object\n",
      " 10  date           306 non-null    object\n",
      " 11  referees       306 non-null    object\n",
      " 12  duration       306 non-null    object\n",
      " 13  competitionId  306 non-null    int64 \n",
      "dtypes: int64(6), object(8)\n",
      "memory usage: 33.6+ KB\n"
     ]
    }
   ],
   "source": [
    "german_matches_df.info()"
   ]
  },
  {
   "cell_type": "code",
   "execution_count": 86,
   "metadata": {},
   "outputs": [
    {
     "data": {
      "text/html": [
       "<div>\n",
       "<style scoped>\n",
       "    .dataframe tbody tr th:only-of-type {\n",
       "        vertical-align: middle;\n",
       "    }\n",
       "\n",
       "    .dataframe tbody tr th {\n",
       "        vertical-align: top;\n",
       "    }\n",
       "\n",
       "    .dataframe thead th {\n",
       "        text-align: right;\n",
       "    }\n",
       "</style>\n",
       "<table border=\"1\" class=\"dataframe\">\n",
       "  <thead>\n",
       "    <tr style=\"text-align: right;\">\n",
       "      <th></th>\n",
       "      <th>status</th>\n",
       "      <th>roundId</th>\n",
       "      <th>gameweek</th>\n",
       "      <th>teamsData</th>\n",
       "      <th>seasonId</th>\n",
       "      <th>dateutc</th>\n",
       "      <th>winner</th>\n",
       "      <th>venue</th>\n",
       "      <th>wyId</th>\n",
       "      <th>label</th>\n",
       "      <th>date</th>\n",
       "      <th>referees</th>\n",
       "      <th>duration</th>\n",
       "      <th>competitionId</th>\n",
       "    </tr>\n",
       "  </thead>\n",
       "  <tbody>\n",
       "    <tr>\n",
       "      <th>0</th>\n",
       "      <td>Played</td>\n",
       "      <td>4405517</td>\n",
       "      <td>34</td>\n",
       "      <td>{'2444': {'scoreET': 0, 'coachId': 14710, 'sid...</td>\n",
       "      <td>181137</td>\n",
       "      <td>2018-05-12 13:30:00</td>\n",
       "      <td>2445</td>\n",
       "      <td>Allianz Arena</td>\n",
       "      <td>2517036</td>\n",
       "      <td>Bayern M\\u00fcnchen - Stuttgart, 1 - 4</td>\n",
       "      <td>May 12, 2018 at 3:30:00 PM GMT+2</td>\n",
       "      <td>[{'refereeId': 379444, 'role': 'referee'}, {'r...</td>\n",
       "      <td>Regular</td>\n",
       "      <td>426</td>\n",
       "    </tr>\n",
       "    <tr>\n",
       "      <th>1</th>\n",
       "      <td>Played</td>\n",
       "      <td>4405517</td>\n",
       "      <td>34</td>\n",
       "      <td>{'2482': {'scoreET': 0, 'coachId': 272299, 'si...</td>\n",
       "      <td>181137</td>\n",
       "      <td>2018-05-12 13:30:00</td>\n",
       "      <td>2482</td>\n",
       "      <td>WIRSOL Rhein-Neckar-Arena</td>\n",
       "      <td>2517037</td>\n",
       "      <td>Hoffenheim - Borussia Dortmund, 3 - 1</td>\n",
       "      <td>May 12, 2018 at 3:30:00 PM GMT+2</td>\n",
       "      <td>[{'refereeId': 384936, 'role': 'referee'}, {'r...</td>\n",
       "      <td>Regular</td>\n",
       "      <td>426</td>\n",
       "    </tr>\n",
       "    <tr>\n",
       "      <th>2</th>\n",
       "      <td>Played</td>\n",
       "      <td>4405517</td>\n",
       "      <td>34</td>\n",
       "      <td>{'2457': {'scoreET': 0, 'coachId': 18987, 'sid...</td>\n",
       "      <td>181137</td>\n",
       "      <td>2018-05-12 13:30:00</td>\n",
       "      <td>2975</td>\n",
       "      <td>Olympiastadion Berlin</td>\n",
       "      <td>2517038</td>\n",
       "      <td>Hertha BSC - RB Leipzig, 2 - 6</td>\n",
       "      <td>May 12, 2018 at 3:30:00 PM GMT+2</td>\n",
       "      <td>[{'refereeId': 387276, 'role': 'referee'}, {'r...</td>\n",
       "      <td>Regular</td>\n",
       "      <td>426</td>\n",
       "    </tr>\n",
       "    <tr>\n",
       "      <th>3</th>\n",
       "      <td>Played</td>\n",
       "      <td>4405517</td>\n",
       "      <td>34</td>\n",
       "      <td>{'2453': {'scoreET': 0, 'coachId': 14977, 'sid...</td>\n",
       "      <td>181137</td>\n",
       "      <td>2018-05-12 13:30:00</td>\n",
       "      <td>2453</td>\n",
       "      <td>Schwarzwald-Stadion</td>\n",
       "      <td>2517039</td>\n",
       "      <td>Freiburg - Augsburg, 2 - 0</td>\n",
       "      <td>May 12, 2018 at 3:30:00 PM GMT+2</td>\n",
       "      <td>[{'refereeId': 378957, 'role': 'referee'}, {'r...</td>\n",
       "      <td>Regular</td>\n",
       "      <td>426</td>\n",
       "    </tr>\n",
       "    <tr>\n",
       "      <th>4</th>\n",
       "      <td>Played</td>\n",
       "      <td>4405517</td>\n",
       "      <td>34</td>\n",
       "      <td>{'2449': {'scoreET': 0, 'coachId': 447924, 'si...</td>\n",
       "      <td>181137</td>\n",
       "      <td>2018-05-12 13:30:00</td>\n",
       "      <td>2449</td>\n",
       "      <td>VELTINS-Arena</td>\n",
       "      <td>2517040</td>\n",
       "      <td>Schalke 04 - Eintracht Frankfurt, 1 - 0</td>\n",
       "      <td>May 12, 2018 at 3:30:00 PM GMT+2</td>\n",
       "      <td>[{'refereeId': 387273, 'role': 'referee'}, {'r...</td>\n",
       "      <td>Regular</td>\n",
       "      <td>426</td>\n",
       "    </tr>\n",
       "  </tbody>\n",
       "</table>\n",
       "</div>"
      ],
      "text/plain": [
       "   status  roundId  gameweek  \\\n",
       "0  Played  4405517        34   \n",
       "1  Played  4405517        34   \n",
       "2  Played  4405517        34   \n",
       "3  Played  4405517        34   \n",
       "4  Played  4405517        34   \n",
       "\n",
       "                                           teamsData  seasonId  \\\n",
       "0  {'2444': {'scoreET': 0, 'coachId': 14710, 'sid...    181137   \n",
       "1  {'2482': {'scoreET': 0, 'coachId': 272299, 'si...    181137   \n",
       "2  {'2457': {'scoreET': 0, 'coachId': 18987, 'sid...    181137   \n",
       "3  {'2453': {'scoreET': 0, 'coachId': 14977, 'sid...    181137   \n",
       "4  {'2449': {'scoreET': 0, 'coachId': 447924, 'si...    181137   \n",
       "\n",
       "               dateutc  winner                      venue     wyId  \\\n",
       "0  2018-05-12 13:30:00    2445              Allianz Arena  2517036   \n",
       "1  2018-05-12 13:30:00    2482  WIRSOL Rhein-Neckar-Arena  2517037   \n",
       "2  2018-05-12 13:30:00    2975      Olympiastadion Berlin  2517038   \n",
       "3  2018-05-12 13:30:00    2453        Schwarzwald-Stadion  2517039   \n",
       "4  2018-05-12 13:30:00    2449              VELTINS-Arena  2517040   \n",
       "\n",
       "                                     label                              date  \\\n",
       "0   Bayern M\\u00fcnchen - Stuttgart, 1 - 4  May 12, 2018 at 3:30:00 PM GMT+2   \n",
       "1    Hoffenheim - Borussia Dortmund, 3 - 1  May 12, 2018 at 3:30:00 PM GMT+2   \n",
       "2           Hertha BSC - RB Leipzig, 2 - 6  May 12, 2018 at 3:30:00 PM GMT+2   \n",
       "3               Freiburg - Augsburg, 2 - 0  May 12, 2018 at 3:30:00 PM GMT+2   \n",
       "4  Schalke 04 - Eintracht Frankfurt, 1 - 0  May 12, 2018 at 3:30:00 PM GMT+2   \n",
       "\n",
       "                                            referees duration  competitionId  \n",
       "0  [{'refereeId': 379444, 'role': 'referee'}, {'r...  Regular            426  \n",
       "1  [{'refereeId': 384936, 'role': 'referee'}, {'r...  Regular            426  \n",
       "2  [{'refereeId': 387276, 'role': 'referee'}, {'r...  Regular            426  \n",
       "3  [{'refereeId': 378957, 'role': 'referee'}, {'r...  Regular            426  \n",
       "4  [{'refereeId': 387273, 'role': 'referee'}, {'r...  Regular            426  "
      ]
     },
     "execution_count": 86,
     "metadata": {},
     "output_type": "execute_result"
    }
   ],
   "source": [
    "german_matches_df.head()"
   ]
  },
  {
   "cell_type": "code",
   "execution_count": 87,
   "metadata": {},
   "outputs": [
    {
     "data": {
      "text/plain": [
       "status\n",
       "Played    306\n",
       "Name: count, dtype: int64"
      ]
     },
     "execution_count": 87,
     "metadata": {},
     "output_type": "execute_result"
    }
   ],
   "source": [
    "german_matches_df.status.value_counts()"
   ]
  },
  {
   "cell_type": "code",
   "execution_count": 88,
   "metadata": {},
   "outputs": [
    {
     "data": {
      "text/plain": [
       "seasonId\n",
       "181137    306\n",
       "Name: count, dtype: int64"
      ]
     },
     "execution_count": 88,
     "metadata": {},
     "output_type": "execute_result"
    }
   ],
   "source": [
    "german_matches_df.seasonId.value_counts()"
   ]
  },
  {
   "cell_type": "code",
   "execution_count": 89,
   "metadata": {},
   "outputs": [
    {
     "data": {
      "text/plain": [
       "duration\n",
       "Regular    306\n",
       "Name: count, dtype: int64"
      ]
     },
     "execution_count": 89,
     "metadata": {},
     "output_type": "execute_result"
    }
   ],
   "source": [
    "german_matches_df.duration.value_counts()"
   ]
  },
  {
   "cell_type": "code",
   "execution_count": 90,
   "metadata": {},
   "outputs": [
    {
     "data": {
      "text/plain": [
       "venue\n",
       "Allianz Arena                17\n",
       "WIRSOL Rhein-Neckar-Arena    17\n",
       "HDI-Arena                    17\n",
       "WWK Arena                    17\n",
       "Commerzbank-Arena            17\n",
       "Stadion im BORUSSIA-PARK     17\n",
       "Weserstadion                 17\n",
       "RheinEnergieStadion          17\n",
       "Red Bull Arena               17\n",
       "Signal-Iduna-Park            17\n",
       "VOLKSWAGEN ARENA             17\n",
       "OPEL ARENA                   17\n",
       "Volksparkstadion             17\n",
       "BayArena                     17\n",
       "VELTINS-Arena                17\n",
       "Schwarzwald-Stadion          17\n",
       "Olympiastadion Berlin        17\n",
       "Mercedes-Benz-Arena          17\n",
       "Name: count, dtype: int64"
      ]
     },
     "execution_count": 90,
     "metadata": {},
     "output_type": "execute_result"
    }
   ],
   "source": [
    "german_matches_df.venue.value_counts()"
   ]
  },
  {
   "cell_type": "code",
   "execution_count": 91,
   "metadata": {},
   "outputs": [
    {
     "data": {
      "text/plain": [
       "duration\n",
       "Regular    306\n",
       "Name: count, dtype: int64"
      ]
     },
     "execution_count": 91,
     "metadata": {},
     "output_type": "execute_result"
    }
   ],
   "source": [
    "german_matches_df.duration.value_counts()"
   ]
  },
  {
   "cell_type": "code",
   "execution_count": 92,
   "metadata": {},
   "outputs": [
    {
     "data": {
      "text/plain": [
       "competitionId\n",
       "426    306\n",
       "Name: count, dtype: int64"
      ]
     },
     "execution_count": 92,
     "metadata": {},
     "output_type": "execute_result"
    }
   ],
   "source": [
    "german_matches_df.competitionId.value_counts()"
   ]
  },
  {
   "cell_type": "code",
   "execution_count": 93,
   "metadata": {},
   "outputs": [],
   "source": [
    "german_matches_df.drop(['status', 'roundId', 'seasonId', 'venue', 'duration', 'competitionId', 'referees'], axis=1, inplace=True)"
   ]
  },
  {
   "cell_type": "code",
   "execution_count": 94,
   "metadata": {},
   "outputs": [
    {
     "data": {
      "text/html": [
       "<div>\n",
       "<style scoped>\n",
       "    .dataframe tbody tr th:only-of-type {\n",
       "        vertical-align: middle;\n",
       "    }\n",
       "\n",
       "    .dataframe tbody tr th {\n",
       "        vertical-align: top;\n",
       "    }\n",
       "\n",
       "    .dataframe thead th {\n",
       "        text-align: right;\n",
       "    }\n",
       "</style>\n",
       "<table border=\"1\" class=\"dataframe\">\n",
       "  <thead>\n",
       "    <tr style=\"text-align: right;\">\n",
       "      <th></th>\n",
       "      <th>gameweek</th>\n",
       "      <th>teamsData</th>\n",
       "      <th>dateutc</th>\n",
       "      <th>winner</th>\n",
       "      <th>wyId</th>\n",
       "      <th>label</th>\n",
       "      <th>date</th>\n",
       "    </tr>\n",
       "  </thead>\n",
       "  <tbody>\n",
       "    <tr>\n",
       "      <th>0</th>\n",
       "      <td>34</td>\n",
       "      <td>{'2444': {'scoreET': 0, 'coachId': 14710, 'sid...</td>\n",
       "      <td>2018-05-12 13:30:00</td>\n",
       "      <td>2445</td>\n",
       "      <td>2517036</td>\n",
       "      <td>Bayern M\\u00fcnchen - Stuttgart, 1 - 4</td>\n",
       "      <td>May 12, 2018 at 3:30:00 PM GMT+2</td>\n",
       "    </tr>\n",
       "    <tr>\n",
       "      <th>1</th>\n",
       "      <td>34</td>\n",
       "      <td>{'2482': {'scoreET': 0, 'coachId': 272299, 'si...</td>\n",
       "      <td>2018-05-12 13:30:00</td>\n",
       "      <td>2482</td>\n",
       "      <td>2517037</td>\n",
       "      <td>Hoffenheim - Borussia Dortmund, 3 - 1</td>\n",
       "      <td>May 12, 2018 at 3:30:00 PM GMT+2</td>\n",
       "    </tr>\n",
       "    <tr>\n",
       "      <th>2</th>\n",
       "      <td>34</td>\n",
       "      <td>{'2457': {'scoreET': 0, 'coachId': 18987, 'sid...</td>\n",
       "      <td>2018-05-12 13:30:00</td>\n",
       "      <td>2975</td>\n",
       "      <td>2517038</td>\n",
       "      <td>Hertha BSC - RB Leipzig, 2 - 6</td>\n",
       "      <td>May 12, 2018 at 3:30:00 PM GMT+2</td>\n",
       "    </tr>\n",
       "    <tr>\n",
       "      <th>3</th>\n",
       "      <td>34</td>\n",
       "      <td>{'2453': {'scoreET': 0, 'coachId': 14977, 'sid...</td>\n",
       "      <td>2018-05-12 13:30:00</td>\n",
       "      <td>2453</td>\n",
       "      <td>2517039</td>\n",
       "      <td>Freiburg - Augsburg, 2 - 0</td>\n",
       "      <td>May 12, 2018 at 3:30:00 PM GMT+2</td>\n",
       "    </tr>\n",
       "    <tr>\n",
       "      <th>4</th>\n",
       "      <td>34</td>\n",
       "      <td>{'2449': {'scoreET': 0, 'coachId': 447924, 'si...</td>\n",
       "      <td>2018-05-12 13:30:00</td>\n",
       "      <td>2449</td>\n",
       "      <td>2517040</td>\n",
       "      <td>Schalke 04 - Eintracht Frankfurt, 1 - 0</td>\n",
       "      <td>May 12, 2018 at 3:30:00 PM GMT+2</td>\n",
       "    </tr>\n",
       "  </tbody>\n",
       "</table>\n",
       "</div>"
      ],
      "text/plain": [
       "   gameweek                                          teamsData  \\\n",
       "0        34  {'2444': {'scoreET': 0, 'coachId': 14710, 'sid...   \n",
       "1        34  {'2482': {'scoreET': 0, 'coachId': 272299, 'si...   \n",
       "2        34  {'2457': {'scoreET': 0, 'coachId': 18987, 'sid...   \n",
       "3        34  {'2453': {'scoreET': 0, 'coachId': 14977, 'sid...   \n",
       "4        34  {'2449': {'scoreET': 0, 'coachId': 447924, 'si...   \n",
       "\n",
       "               dateutc  winner     wyId  \\\n",
       "0  2018-05-12 13:30:00    2445  2517036   \n",
       "1  2018-05-12 13:30:00    2482  2517037   \n",
       "2  2018-05-12 13:30:00    2975  2517038   \n",
       "3  2018-05-12 13:30:00    2453  2517039   \n",
       "4  2018-05-12 13:30:00    2449  2517040   \n",
       "\n",
       "                                     label                              date  \n",
       "0   Bayern M\\u00fcnchen - Stuttgart, 1 - 4  May 12, 2018 at 3:30:00 PM GMT+2  \n",
       "1    Hoffenheim - Borussia Dortmund, 3 - 1  May 12, 2018 at 3:30:00 PM GMT+2  \n",
       "2           Hertha BSC - RB Leipzig, 2 - 6  May 12, 2018 at 3:30:00 PM GMT+2  \n",
       "3               Freiburg - Augsburg, 2 - 0  May 12, 2018 at 3:30:00 PM GMT+2  \n",
       "4  Schalke 04 - Eintracht Frankfurt, 1 - 0  May 12, 2018 at 3:30:00 PM GMT+2  "
      ]
     },
     "execution_count": 94,
     "metadata": {},
     "output_type": "execute_result"
    }
   ],
   "source": [
    "german_matches_df.head()"
   ]
  },
  {
   "cell_type": "markdown",
   "metadata": {},
   "source": [
    "##### France"
   ]
  },
  {
   "cell_type": "code",
   "execution_count": 95,
   "metadata": {},
   "outputs": [],
   "source": [
    "french_matches_df = pd.DataFrame(matches['France'])"
   ]
  },
  {
   "cell_type": "code",
   "execution_count": 96,
   "metadata": {},
   "outputs": [
    {
     "data": {
      "text/plain": [
       "(380, 14)"
      ]
     },
     "execution_count": 96,
     "metadata": {},
     "output_type": "execute_result"
    }
   ],
   "source": [
    "french_matches_df.shape"
   ]
  },
  {
   "cell_type": "code",
   "execution_count": 97,
   "metadata": {},
   "outputs": [
    {
     "name": "stdout",
     "output_type": "stream",
     "text": [
      "<class 'pandas.core.frame.DataFrame'>\n",
      "RangeIndex: 380 entries, 0 to 379\n",
      "Data columns (total 14 columns):\n",
      " #   Column         Non-Null Count  Dtype \n",
      "---  ------         --------------  ----- \n",
      " 0   status         380 non-null    object\n",
      " 1   roundId        380 non-null    int64 \n",
      " 2   gameweek       380 non-null    int64 \n",
      " 3   teamsData      380 non-null    object\n",
      " 4   seasonId       380 non-null    int64 \n",
      " 5   dateutc        380 non-null    object\n",
      " 6   winner         380 non-null    int64 \n",
      " 7   venue          380 non-null    object\n",
      " 8   wyId           380 non-null    int64 \n",
      " 9   label          380 non-null    object\n",
      " 10  date           380 non-null    object\n",
      " 11  referees       380 non-null    object\n",
      " 12  duration       380 non-null    object\n",
      " 13  competitionId  380 non-null    int64 \n",
      "dtypes: int64(6), object(8)\n",
      "memory usage: 41.7+ KB\n"
     ]
    }
   ],
   "source": [
    "french_matches_df.info()"
   ]
  },
  {
   "cell_type": "code",
   "execution_count": 98,
   "metadata": {},
   "outputs": [
    {
     "data": {
      "text/plain": [
       "status\n",
       "Played    380\n",
       "Name: count, dtype: int64"
      ]
     },
     "execution_count": 98,
     "metadata": {},
     "output_type": "execute_result"
    }
   ],
   "source": [
    "french_matches_df.status.value_counts()"
   ]
  },
  {
   "cell_type": "code",
   "execution_count": 99,
   "metadata": {},
   "outputs": [
    {
     "data": {
      "text/plain": [
       "roundId\n",
       "4405655    380\n",
       "Name: count, dtype: int64"
      ]
     },
     "execution_count": 99,
     "metadata": {},
     "output_type": "execute_result"
    }
   ],
   "source": [
    "french_matches_df.roundId.value_counts()"
   ]
  },
  {
   "cell_type": "code",
   "execution_count": 100,
   "metadata": {},
   "outputs": [
    {
     "data": {
      "text/plain": [
       "seasonId\n",
       "181189    380\n",
       "Name: count, dtype: int64"
      ]
     },
     "execution_count": 100,
     "metadata": {},
     "output_type": "execute_result"
    }
   ],
   "source": [
    "french_matches_df.seasonId.value_counts()"
   ]
  },
  {
   "cell_type": "code",
   "execution_count": 101,
   "metadata": {},
   "outputs": [
    {
     "data": {
      "text/plain": [
       "duration\n",
       "Regular    380\n",
       "Name: count, dtype: int64"
      ]
     },
     "execution_count": 101,
     "metadata": {},
     "output_type": "execute_result"
    }
   ],
   "source": [
    "french_matches_df.duration.value_counts()"
   ]
  },
  {
   "cell_type": "code",
   "execution_count": 102,
   "metadata": {},
   "outputs": [
    {
     "data": {
      "text/plain": [
       "venue\n",
       "Stade Michel d'Ornano                      19\n",
       "Stade Gaston-G\\u00e9rard                   19\n",
       "Stade de la Meinau                         19\n",
       "Parc des Princes                           19\n",
       "Allianz Riviera                            19\n",
       "Stade de la Mosson                         19\n",
       "Stade Louis II.                            19\n",
       "Stade Pierre-Mauroy                        19\n",
       "Stade Matmut-Atlantique                    19\n",
       "Stade Raymond Kopa                         19\n",
       "Stade de la Licorne                        19\n",
       "Stade de l'Aube                            19\n",
       "Stadium Municipal                          19\n",
       "Stade Geoffroy-Guichard                    19\n",
       "Roazhon Park                               19\n",
       "Stade de la Beaujoire - Louis Fonteneau    19\n",
       "Stade Saint-Symphorien                     19\n",
       "Stade V\\u00e9lodrome                       19\n",
       "Groupama Stadium                           19\n",
       "Stade du Roudourou                         19\n",
       "Name: count, dtype: int64"
      ]
     },
     "execution_count": 102,
     "metadata": {},
     "output_type": "execute_result"
    }
   ],
   "source": [
    "french_matches_df.venue.value_counts()"
   ]
  },
  {
   "cell_type": "code",
   "execution_count": 103,
   "metadata": {},
   "outputs": [
    {
     "data": {
      "text/plain": [
       "duration\n",
       "Regular    380\n",
       "Name: count, dtype: int64"
      ]
     },
     "execution_count": 103,
     "metadata": {},
     "output_type": "execute_result"
    }
   ],
   "source": [
    "french_matches_df.duration.value_counts()"
   ]
  },
  {
   "cell_type": "code",
   "execution_count": 104,
   "metadata": {},
   "outputs": [
    {
     "data": {
      "text/plain": [
       "competitionId\n",
       "412    380\n",
       "Name: count, dtype: int64"
      ]
     },
     "execution_count": 104,
     "metadata": {},
     "output_type": "execute_result"
    }
   ],
   "source": [
    "french_matches_df.competitionId.value_counts()"
   ]
  },
  {
   "cell_type": "code",
   "execution_count": 105,
   "metadata": {},
   "outputs": [],
   "source": [
    "french_matches_df.drop(['status', 'roundId', 'seasonId', 'venue', 'duration', 'competitionId', 'referees'], axis=1, inplace=True)"
   ]
  },
  {
   "cell_type": "code",
   "execution_count": 106,
   "metadata": {},
   "outputs": [
    {
     "data": {
      "text/html": [
       "<div>\n",
       "<style scoped>\n",
       "    .dataframe tbody tr th:only-of-type {\n",
       "        vertical-align: middle;\n",
       "    }\n",
       "\n",
       "    .dataframe tbody tr th {\n",
       "        vertical-align: top;\n",
       "    }\n",
       "\n",
       "    .dataframe thead th {\n",
       "        text-align: right;\n",
       "    }\n",
       "</style>\n",
       "<table border=\"1\" class=\"dataframe\">\n",
       "  <thead>\n",
       "    <tr style=\"text-align: right;\">\n",
       "      <th></th>\n",
       "      <th>gameweek</th>\n",
       "      <th>teamsData</th>\n",
       "      <th>dateutc</th>\n",
       "      <th>winner</th>\n",
       "      <th>wyId</th>\n",
       "      <th>label</th>\n",
       "      <th>date</th>\n",
       "    </tr>\n",
       "  </thead>\n",
       "  <tbody>\n",
       "    <tr>\n",
       "      <th>0</th>\n",
       "      <td>38</td>\n",
       "      <td>{'3783': {'scoreET': 0, 'coachId': 210513, 'si...</td>\n",
       "      <td>2018-05-19 19:00:00</td>\n",
       "      <td>0</td>\n",
       "      <td>2501056</td>\n",
       "      <td>Caen - PSG, 0 - 0</td>\n",
       "      <td>May 19, 2018 at 9:00:00 PM GMT+2</td>\n",
       "    </tr>\n",
       "    <tr>\n",
       "      <th>1</th>\n",
       "      <td>38</td>\n",
       "      <td>{'3804': {'scoreET': 0, 'coachId': 220743, 'si...</td>\n",
       "      <td>2018-05-19 19:00:00</td>\n",
       "      <td>0</td>\n",
       "      <td>2501057</td>\n",
       "      <td>Dijon - Angers SCO, 2 - 1</td>\n",
       "      <td>May 19, 2018 at 9:00:00 PM GMT+2</td>\n",
       "    </tr>\n",
       "    <tr>\n",
       "      <th>2</th>\n",
       "      <td>38</td>\n",
       "      <td>{'3766': {'scoreET': 0, 'coachId': 211238, 'si...</td>\n",
       "      <td>2018-05-19 19:00:00</td>\n",
       "      <td>3766</td>\n",
       "      <td>2501058</td>\n",
       "      <td>Olympique Lyonnais - Nice, 3 - 2</td>\n",
       "      <td>May 19, 2018 at 9:00:00 PM GMT+2</td>\n",
       "    </tr>\n",
       "    <tr>\n",
       "      <th>3</th>\n",
       "      <td>38</td>\n",
       "      <td>{'3771': {'scoreET': 0, 'coachId': 25691, 'sid...</td>\n",
       "      <td>2018-05-19 19:00:00</td>\n",
       "      <td>3771</td>\n",
       "      <td>2501059</td>\n",
       "      <td>Olympique Marseille - Amiens SC, 2 - 1</td>\n",
       "      <td>May 19, 2018 at 9:00:00 PM GMT+2</td>\n",
       "    </tr>\n",
       "    <tr>\n",
       "      <th>4</th>\n",
       "      <td>38</td>\n",
       "      <td>{'3772': {'scoreET': 0, 'coachId': 9092, 'side...</td>\n",
       "      <td>2018-05-19 19:00:00</td>\n",
       "      <td>3772</td>\n",
       "      <td>2501060</td>\n",
       "      <td>Metz - Bordeaux, 0 - 4</td>\n",
       "      <td>May 19, 2018 at 9:00:00 PM GMT+2</td>\n",
       "    </tr>\n",
       "  </tbody>\n",
       "</table>\n",
       "</div>"
      ],
      "text/plain": [
       "   gameweek                                          teamsData  \\\n",
       "0        38  {'3783': {'scoreET': 0, 'coachId': 210513, 'si...   \n",
       "1        38  {'3804': {'scoreET': 0, 'coachId': 220743, 'si...   \n",
       "2        38  {'3766': {'scoreET': 0, 'coachId': 211238, 'si...   \n",
       "3        38  {'3771': {'scoreET': 0, 'coachId': 25691, 'sid...   \n",
       "4        38  {'3772': {'scoreET': 0, 'coachId': 9092, 'side...   \n",
       "\n",
       "               dateutc  winner     wyId  \\\n",
       "0  2018-05-19 19:00:00       0  2501056   \n",
       "1  2018-05-19 19:00:00       0  2501057   \n",
       "2  2018-05-19 19:00:00    3766  2501058   \n",
       "3  2018-05-19 19:00:00    3771  2501059   \n",
       "4  2018-05-19 19:00:00    3772  2501060   \n",
       "\n",
       "                                    label                              date  \n",
       "0                       Caen - PSG, 0 - 0  May 19, 2018 at 9:00:00 PM GMT+2  \n",
       "1               Dijon - Angers SCO, 2 - 1  May 19, 2018 at 9:00:00 PM GMT+2  \n",
       "2        Olympique Lyonnais - Nice, 3 - 2  May 19, 2018 at 9:00:00 PM GMT+2  \n",
       "3  Olympique Marseille - Amiens SC, 2 - 1  May 19, 2018 at 9:00:00 PM GMT+2  \n",
       "4                  Metz - Bordeaux, 0 - 4  May 19, 2018 at 9:00:00 PM GMT+2  "
      ]
     },
     "execution_count": 106,
     "metadata": {},
     "output_type": "execute_result"
    }
   ],
   "source": [
    "french_matches_df.head()"
   ]
  },
  {
   "cell_type": "markdown",
   "metadata": {},
   "source": [
    "##### Spain"
   ]
  },
  {
   "cell_type": "code",
   "execution_count": 107,
   "metadata": {},
   "outputs": [],
   "source": [
    "spanish_matches_df = pd.DataFrame(matches['Spain'])"
   ]
  },
  {
   "cell_type": "code",
   "execution_count": 108,
   "metadata": {},
   "outputs": [
    {
     "data": {
      "text/plain": [
       "(380, 14)"
      ]
     },
     "execution_count": 108,
     "metadata": {},
     "output_type": "execute_result"
    }
   ],
   "source": [
    "spanish_matches_df.shape"
   ]
  },
  {
   "cell_type": "code",
   "execution_count": 109,
   "metadata": {},
   "outputs": [
    {
     "name": "stdout",
     "output_type": "stream",
     "text": [
      "<class 'pandas.core.frame.DataFrame'>\n",
      "RangeIndex: 380 entries, 0 to 379\n",
      "Data columns (total 14 columns):\n",
      " #   Column         Non-Null Count  Dtype \n",
      "---  ------         --------------  ----- \n",
      " 0   status         380 non-null    object\n",
      " 1   roundId        380 non-null    int64 \n",
      " 2   gameweek       380 non-null    int64 \n",
      " 3   teamsData      380 non-null    object\n",
      " 4   seasonId       380 non-null    int64 \n",
      " 5   dateutc        380 non-null    object\n",
      " 6   winner         380 non-null    int64 \n",
      " 7   venue          380 non-null    object\n",
      " 8   wyId           380 non-null    int64 \n",
      " 9   label          380 non-null    object\n",
      " 10  date           380 non-null    object\n",
      " 11  referees       380 non-null    object\n",
      " 12  duration       380 non-null    object\n",
      " 13  competitionId  380 non-null    int64 \n",
      "dtypes: int64(6), object(8)\n",
      "memory usage: 41.7+ KB\n"
     ]
    }
   ],
   "source": [
    "spanish_matches_df.info()"
   ]
  },
  {
   "cell_type": "code",
   "execution_count": 110,
   "metadata": {},
   "outputs": [
    {
     "data": {
      "text/plain": [
       "status\n",
       "Played    380\n",
       "Name: count, dtype: int64"
      ]
     },
     "execution_count": 110,
     "metadata": {},
     "output_type": "execute_result"
    }
   ],
   "source": [
    "spanish_matches_df.status.value_counts()"
   ]
  },
  {
   "cell_type": "code",
   "execution_count": 111,
   "metadata": {},
   "outputs": [
    {
     "data": {
      "text/plain": [
       "roundId\n",
       "4406122    380\n",
       "Name: count, dtype: int64"
      ]
     },
     "execution_count": 111,
     "metadata": {},
     "output_type": "execute_result"
    }
   ],
   "source": [
    "spanish_matches_df.roundId.value_counts()"
   ]
  },
  {
   "cell_type": "code",
   "execution_count": 112,
   "metadata": {},
   "outputs": [
    {
     "data": {
      "text/plain": [
       "seasonId\n",
       "181144    380\n",
       "Name: count, dtype: int64"
      ]
     },
     "execution_count": 112,
     "metadata": {},
     "output_type": "execute_result"
    }
   ],
   "source": [
    "spanish_matches_df.seasonId.value_counts()"
   ]
  },
  {
   "cell_type": "code",
   "execution_count": 113,
   "metadata": {},
   "outputs": [
    {
     "data": {
      "text/plain": [
       "duration\n",
       "Regular    380\n",
       "Name: count, dtype: int64"
      ]
     },
     "execution_count": 113,
     "metadata": {},
     "output_type": "execute_result"
    }
   ],
   "source": [
    "spanish_matches_df.duration.value_counts()"
   ]
  },
  {
   "cell_type": "code",
   "execution_count": 114,
   "metadata": {},
   "outputs": [
    {
     "data": {
      "text/plain": [
       "venue\n",
       "Camp Nou                                        19\n",
       "Estadio Wanda Metropolitano                     19\n",
       "Estadio Municipal de Ipur\\u00faa                19\n",
       "Estadio Benito Villamar\\u00edn                  19\n",
       "Coliseum Alfonso P\\u00e9rez                     19\n",
       "Estadio Municipal de Riazor                     19\n",
       "Estadio de Mendizorroza                         19\n",
       "Estadi Municipal de Montilivi                   19\n",
       "Estadio Santiago Bernab\\u00e9u                  19\n",
       "RCDE Stadium                                    19\n",
       "Estadio Ciudad de Valencia                      19\n",
       "Estadio de Bala\\u00eddos                        19\n",
       "Estadio Municipal de Butarque                   19\n",
       "Estadio de Gran Canaria                         19\n",
       "Estadio La Rosaleda                             19\n",
       "Estadio Ram\\u00f3n S\\u00e1nchez Pizju\\u00e1n    19\n",
       "Estadio de la Cer\\u00e1mica                     19\n",
       "Estadio de Mestalla                             19\n",
       "San Mam\\u00e9s Barria                           19\n",
       "Estadio Municipal de Anoeta                     19\n",
       "Name: count, dtype: int64"
      ]
     },
     "execution_count": 114,
     "metadata": {},
     "output_type": "execute_result"
    }
   ],
   "source": [
    "spanish_matches_df.venue.value_counts()"
   ]
  },
  {
   "cell_type": "code",
   "execution_count": 116,
   "metadata": {},
   "outputs": [
    {
     "data": {
      "text/plain": [
       "competitionId\n",
       "795    380\n",
       "Name: count, dtype: int64"
      ]
     },
     "execution_count": 116,
     "metadata": {},
     "output_type": "execute_result"
    }
   ],
   "source": [
    "spanish_matches_df.competitionId.value_counts()"
   ]
  },
  {
   "cell_type": "code",
   "execution_count": 117,
   "metadata": {},
   "outputs": [],
   "source": [
    "spanish_matches_df.drop(['status', 'roundId', 'seasonId', 'venue', 'duration', 'competitionId', 'referees'], axis=1, inplace=True)"
   ]
  },
  {
   "cell_type": "code",
   "execution_count": 118,
   "metadata": {},
   "outputs": [
    {
     "data": {
      "text/html": [
       "<div>\n",
       "<style scoped>\n",
       "    .dataframe tbody tr th:only-of-type {\n",
       "        vertical-align: middle;\n",
       "    }\n",
       "\n",
       "    .dataframe tbody tr th {\n",
       "        vertical-align: top;\n",
       "    }\n",
       "\n",
       "    .dataframe thead th {\n",
       "        text-align: right;\n",
       "    }\n",
       "</style>\n",
       "<table border=\"1\" class=\"dataframe\">\n",
       "  <thead>\n",
       "    <tr style=\"text-align: right;\">\n",
       "      <th></th>\n",
       "      <th>gameweek</th>\n",
       "      <th>teamsData</th>\n",
       "      <th>dateutc</th>\n",
       "      <th>winner</th>\n",
       "      <th>wyId</th>\n",
       "      <th>label</th>\n",
       "      <th>date</th>\n",
       "    </tr>\n",
       "  </thead>\n",
       "  <tbody>\n",
       "    <tr>\n",
       "      <th>0</th>\n",
       "      <td>38</td>\n",
       "      <td>{'676': {'scoreET': 0, 'coachId': 92894, 'side...</td>\n",
       "      <td>2018-05-20 18:45:00</td>\n",
       "      <td>676</td>\n",
       "      <td>2565922</td>\n",
       "      <td>Barcelona - Real Sociedad, 1 - 0</td>\n",
       "      <td>May 20, 2018 at 8:45:00 PM GMT+2</td>\n",
       "    </tr>\n",
       "    <tr>\n",
       "      <th>1</th>\n",
       "      <td>38</td>\n",
       "      <td>{'679': {'scoreET': 0, 'coachId': 3427, 'side'...</td>\n",
       "      <td>2018-05-20 16:30:00</td>\n",
       "      <td>0</td>\n",
       "      <td>2565925</td>\n",
       "      <td>Atl\\u00e9tico Madrid - Eibar, 2 - 2</td>\n",
       "      <td>May 20, 2018 at 6:30:00 PM GMT+2</td>\n",
       "    </tr>\n",
       "    <tr>\n",
       "      <th>2</th>\n",
       "      <td>38</td>\n",
       "      <td>{'691': {'scoreET': 0, 'coachId': 444778, 'sid...</td>\n",
       "      <td>2018-05-20 14:15:00</td>\n",
       "      <td>691</td>\n",
       "      <td>2565919</td>\n",
       "      <td>Athletic Club - Espanyol, 0 - 1</td>\n",
       "      <td>May 20, 2018 at 4:15:00 PM GMT+2</td>\n",
       "    </tr>\n",
       "    <tr>\n",
       "      <th>3</th>\n",
       "      <td>38</td>\n",
       "      <td>{'674': {'scoreET': 0, 'coachId': 210074, 'sid...</td>\n",
       "      <td>2018-05-20 10:00:00</td>\n",
       "      <td>674</td>\n",
       "      <td>2565924</td>\n",
       "      <td>Valencia - Deportivo La Coru\\u00f1a, 2 - 1</td>\n",
       "      <td>May 20, 2018 at 12:00:00 PM GMT+2</td>\n",
       "    </tr>\n",
       "    <tr>\n",
       "      <th>4</th>\n",
       "      <td>38</td>\n",
       "      <td>{'675': {'scoreET': 0, 'coachId': 275283, 'sid...</td>\n",
       "      <td>2018-05-19 18:45:00</td>\n",
       "      <td>0</td>\n",
       "      <td>2565927</td>\n",
       "      <td>Villarreal - Real Madrid, 2 - 2</td>\n",
       "      <td>May 19, 2018 at 8:45:00 PM GMT+2</td>\n",
       "    </tr>\n",
       "  </tbody>\n",
       "</table>\n",
       "</div>"
      ],
      "text/plain": [
       "   gameweek                                          teamsData  \\\n",
       "0        38  {'676': {'scoreET': 0, 'coachId': 92894, 'side...   \n",
       "1        38  {'679': {'scoreET': 0, 'coachId': 3427, 'side'...   \n",
       "2        38  {'691': {'scoreET': 0, 'coachId': 444778, 'sid...   \n",
       "3        38  {'674': {'scoreET': 0, 'coachId': 210074, 'sid...   \n",
       "4        38  {'675': {'scoreET': 0, 'coachId': 275283, 'sid...   \n",
       "\n",
       "               dateutc  winner     wyId  \\\n",
       "0  2018-05-20 18:45:00     676  2565922   \n",
       "1  2018-05-20 16:30:00       0  2565925   \n",
       "2  2018-05-20 14:15:00     691  2565919   \n",
       "3  2018-05-20 10:00:00     674  2565924   \n",
       "4  2018-05-19 18:45:00       0  2565927   \n",
       "\n",
       "                                        label  \\\n",
       "0            Barcelona - Real Sociedad, 1 - 0   \n",
       "1         Atl\\u00e9tico Madrid - Eibar, 2 - 2   \n",
       "2             Athletic Club - Espanyol, 0 - 1   \n",
       "3  Valencia - Deportivo La Coru\\u00f1a, 2 - 1   \n",
       "4             Villarreal - Real Madrid, 2 - 2   \n",
       "\n",
       "                                date  \n",
       "0   May 20, 2018 at 8:45:00 PM GMT+2  \n",
       "1   May 20, 2018 at 6:30:00 PM GMT+2  \n",
       "2   May 20, 2018 at 4:15:00 PM GMT+2  \n",
       "3  May 20, 2018 at 12:00:00 PM GMT+2  \n",
       "4   May 19, 2018 at 8:45:00 PM GMT+2  "
      ]
     },
     "execution_count": 118,
     "metadata": {},
     "output_type": "execute_result"
    }
   ],
   "source": [
    "spanish_matches_df.head()"
   ]
  },
  {
   "cell_type": "markdown",
   "metadata": {},
   "source": [
    "##### European Championship"
   ]
  },
  {
   "cell_type": "code",
   "execution_count": 120,
   "metadata": {},
   "outputs": [],
   "source": [
    "european_matches_df = pd.DataFrame(matches['European_Championship'])"
   ]
  },
  {
   "cell_type": "code",
   "execution_count": 121,
   "metadata": {},
   "outputs": [
    {
     "data": {
      "text/plain": [
       "(51, 15)"
      ]
     },
     "execution_count": 121,
     "metadata": {},
     "output_type": "execute_result"
    }
   ],
   "source": [
    "european_matches_df.shape"
   ]
  },
  {
   "cell_type": "code",
   "execution_count": 122,
   "metadata": {},
   "outputs": [
    {
     "name": "stdout",
     "output_type": "stream",
     "text": [
      "<class 'pandas.core.frame.DataFrame'>\n",
      "RangeIndex: 51 entries, 0 to 50\n",
      "Data columns (total 15 columns):\n",
      " #   Column         Non-Null Count  Dtype \n",
      "---  ------         --------------  ----- \n",
      " 0   status         51 non-null     object\n",
      " 1   roundId        51 non-null     int64 \n",
      " 2   gameweek       51 non-null     int64 \n",
      " 3   teamsData      51 non-null     object\n",
      " 4   seasonId       51 non-null     int64 \n",
      " 5   dateutc        51 non-null     object\n",
      " 6   winner         51 non-null     int64 \n",
      " 7   venue          51 non-null     object\n",
      " 8   wyId           51 non-null     int64 \n",
      " 9   label          51 non-null     object\n",
      " 10  date           51 non-null     object\n",
      " 11  groupName      51 non-null     object\n",
      " 12  referees       51 non-null     object\n",
      " 13  duration       51 non-null     object\n",
      " 14  competitionId  51 non-null     int64 \n",
      "dtypes: int64(6), object(9)\n",
      "memory usage: 6.1+ KB\n"
     ]
    }
   ],
   "source": [
    "european_matches_df.info()"
   ]
  },
  {
   "cell_type": "code",
   "execution_count": 124,
   "metadata": {},
   "outputs": [
    {
     "data": {
      "text/plain": [
       "status\n",
       "Played    51\n",
       "Name: count, dtype: int64"
      ]
     },
     "execution_count": 124,
     "metadata": {},
     "output_type": "execute_result"
    }
   ],
   "source": [
    "european_matches_df.status.value_counts()"
   ]
  },
  {
   "cell_type": "code",
   "execution_count": 125,
   "metadata": {},
   "outputs": [
    {
     "data": {
      "text/plain": [
       "roundId\n",
       "4165470    36\n",
       "4165471     8\n",
       "4165472     4\n",
       "4165473     2\n",
       "4165474     1\n",
       "Name: count, dtype: int64"
      ]
     },
     "execution_count": 125,
     "metadata": {},
     "output_type": "execute_result"
    }
   ],
   "source": [
    "european_matches_df.roundId.value_counts()"
   ]
  },
  {
   "cell_type": "code",
   "execution_count": 153,
   "metadata": {},
   "outputs": [],
   "source": [
    "dictionary = {}\n",
    "for item in european_matches_df.teamsData:\n",
    "    first = list(item.keys())[0]\n",
    "    second = list(item.keys())[1]\n",
    "    if first in dictionary:\n",
    "        dictionary[first] += 1\n",
    "    else:  \n",
    "        dictionary[first] = 1\n",
    "    if second in dictionary:\n",
    "        dictionary[second] += 1\n",
    "    else:\n",
    "        dictionary[second] = 1"
   ]
  },
  {
   "cell_type": "code",
   "execution_count": 157,
   "metadata": {},
   "outputs": [
    {
     "data": {
      "text/plain": [
       "{'9905': 7,\n",
       " '4418': 7,\n",
       " '3148': 6,\n",
       " '10682': 6,\n",
       " '7839': 5,\n",
       " '3757': 5,\n",
       " '5629': 5,\n",
       " '13869': 5,\n",
       " '2413': 4,\n",
       " '1598': 4,\n",
       " '10451': 4,\n",
       " '14496': 4,\n",
       " '8274': 4,\n",
       " '9598': 4,\n",
       " '10962': 4,\n",
       " '6697': 4,\n",
       " '7047': 3,\n",
       " '9109': 3,\n",
       " '4687': 3,\n",
       " '11555': 3,\n",
       " '14622': 3,\n",
       " '14358': 3,\n",
       " '11944': 3,\n",
       " '8731': 3}"
      ]
     },
     "execution_count": 157,
     "metadata": {},
     "output_type": "execute_result"
    }
   ],
   "source": [
    "dictionary"
   ]
  },
  {
   "cell_type": "code",
   "execution_count": 162,
   "metadata": {},
   "outputs": [
    {
     "data": {
      "text/plain": [
       "seasonId\n",
       "9291    51\n",
       "Name: count, dtype: int64"
      ]
     },
     "execution_count": 162,
     "metadata": {},
     "output_type": "execute_result"
    }
   ],
   "source": [
    "european_matches_df.seasonId.value_counts()"
   ]
  },
  {
   "cell_type": "code",
   "execution_count": 163,
   "metadata": {},
   "outputs": [
    {
     "data": {
      "text/plain": [
       "venue\n",
       "Stade de France            7\n",
       "Stade V\\u00e9lodrome       6\n",
       "Groupama Stadium           6\n",
       "Stade Pierre-Mauroy        6\n",
       "Stade Matmut-Atlantique    5\n",
       "Parc des Princes           5\n",
       "Allianz Riviera            4\n",
       "Stadium Municipal          4\n",
       "Stade Bollaert-Delelis     4\n",
       "Stade Geoffroy-Guichard    4\n",
       "Name: count, dtype: int64"
      ]
     },
     "execution_count": 163,
     "metadata": {},
     "output_type": "execute_result"
    }
   ],
   "source": [
    "european_matches_df.venue.value_counts()"
   ]
  },
  {
   "cell_type": "code",
   "execution_count": 164,
   "metadata": {},
   "outputs": [
    {
     "data": {
      "text/plain": [
       "groupName\n",
       "Group F    21\n",
       "Group E     6\n",
       "Group D     6\n",
       "Group C     6\n",
       "Group B     6\n",
       "Group A     6\n",
       "Name: count, dtype: int64"
      ]
     },
     "execution_count": 164,
     "metadata": {},
     "output_type": "execute_result"
    }
   ],
   "source": [
    "european_matches_df.groupName.value_counts()"
   ]
  },
  {
   "cell_type": "code",
   "execution_count": 165,
   "metadata": {},
   "outputs": [
    {
     "data": {
      "text/plain": [
       "duration\n",
       "Regular      46\n",
       "Penalties     3\n",
       "ExtraTime     2\n",
       "Name: count, dtype: int64"
      ]
     },
     "execution_count": 165,
     "metadata": {},
     "output_type": "execute_result"
    }
   ],
   "source": [
    "european_matches_df.duration.value_counts()"
   ]
  },
  {
   "cell_type": "code",
   "execution_count": 166,
   "metadata": {},
   "outputs": [
    {
     "data": {
      "text/plain": [
       "competitionId\n",
       "102    51\n",
       "Name: count, dtype: int64"
      ]
     },
     "execution_count": 166,
     "metadata": {},
     "output_type": "execute_result"
    }
   ],
   "source": [
    "european_matches_df.competitionId.value_counts()"
   ]
  },
  {
   "cell_type": "code",
   "execution_count": 167,
   "metadata": {},
   "outputs": [],
   "source": [
    "european_matches_df.drop(['status', 'seasonId', 'venue', 'competitionId', 'referees', 'groupName'], axis=1, inplace=True)"
   ]
  },
  {
   "cell_type": "code",
   "execution_count": 169,
   "metadata": {},
   "outputs": [
    {
     "data": {
      "text/html": [
       "<div>\n",
       "<style scoped>\n",
       "    .dataframe tbody tr th:only-of-type {\n",
       "        vertical-align: middle;\n",
       "    }\n",
       "\n",
       "    .dataframe tbody tr th {\n",
       "        vertical-align: top;\n",
       "    }\n",
       "\n",
       "    .dataframe thead th {\n",
       "        text-align: right;\n",
       "    }\n",
       "</style>\n",
       "<table border=\"1\" class=\"dataframe\">\n",
       "  <thead>\n",
       "    <tr style=\"text-align: right;\">\n",
       "      <th></th>\n",
       "      <th>roundId</th>\n",
       "      <th>gameweek</th>\n",
       "      <th>teamsData</th>\n",
       "      <th>dateutc</th>\n",
       "      <th>winner</th>\n",
       "      <th>wyId</th>\n",
       "      <th>label</th>\n",
       "      <th>date</th>\n",
       "      <th>duration</th>\n",
       "    </tr>\n",
       "  </thead>\n",
       "  <tbody>\n",
       "    <tr>\n",
       "      <th>0</th>\n",
       "      <td>4165474</td>\n",
       "      <td>0</td>\n",
       "      <td>{'9905': {'scoreET': 1, 'coachId': 137521, 'si...</td>\n",
       "      <td>2016-07-10 19:00:00</td>\n",
       "      <td>9905</td>\n",
       "      <td>1694440</td>\n",
       "      <td>Portugal - France, 1 - 0 (E)</td>\n",
       "      <td>July 10, 2016 at 9:00:00 PM GMT+2</td>\n",
       "      <td>ExtraTime</td>\n",
       "    </tr>\n",
       "    <tr>\n",
       "      <th>1</th>\n",
       "      <td>4165473</td>\n",
       "      <td>0</td>\n",
       "      <td>{'3148': {'scoreET': 0, 'coachId': 134365, 'si...</td>\n",
       "      <td>2016-07-07 19:00:00</td>\n",
       "      <td>4418</td>\n",
       "      <td>1694439</td>\n",
       "      <td>Germany - France, 0 - 2</td>\n",
       "      <td>July 7, 2016 at 9:00:00 PM GMT+2</td>\n",
       "      <td>Regular</td>\n",
       "    </tr>\n",
       "    <tr>\n",
       "      <th>2</th>\n",
       "      <td>4165473</td>\n",
       "      <td>0</td>\n",
       "      <td>{'10682': {'scoreET': 0, 'coachId': 136439, 's...</td>\n",
       "      <td>2016-07-06 19:00:00</td>\n",
       "      <td>9905</td>\n",
       "      <td>1694438</td>\n",
       "      <td>Portugal - Wales, 2 - 0</td>\n",
       "      <td>July 6, 2016 at 9:00:00 PM GMT+2</td>\n",
       "      <td>Regular</td>\n",
       "    </tr>\n",
       "    <tr>\n",
       "      <th>3</th>\n",
       "      <td>4165472</td>\n",
       "      <td>0</td>\n",
       "      <td>{'7839': {'scoreET': 0, 'coachId': 210205, 'si...</td>\n",
       "      <td>2016-07-03 19:00:00</td>\n",
       "      <td>4418</td>\n",
       "      <td>1694437</td>\n",
       "      <td>France - Iceland, 5 - 2</td>\n",
       "      <td>July 3, 2016 at 9:00:00 PM GMT+2</td>\n",
       "      <td>Regular</td>\n",
       "    </tr>\n",
       "    <tr>\n",
       "      <th>4</th>\n",
       "      <td>4165472</td>\n",
       "      <td>0</td>\n",
       "      <td>{'3148': {'scoreET': 1, 'coachId': 134365, 'si...</td>\n",
       "      <td>2016-07-02 19:00:00</td>\n",
       "      <td>3148</td>\n",
       "      <td>1694436</td>\n",
       "      <td>Germany - Italy, 1 - 1 (P)</td>\n",
       "      <td>July 2, 2016 at 9:00:00 PM GMT+2</td>\n",
       "      <td>Penalties</td>\n",
       "    </tr>\n",
       "  </tbody>\n",
       "</table>\n",
       "</div>"
      ],
      "text/plain": [
       "   roundId  gameweek                                          teamsData  \\\n",
       "0  4165474         0  {'9905': {'scoreET': 1, 'coachId': 137521, 'si...   \n",
       "1  4165473         0  {'3148': {'scoreET': 0, 'coachId': 134365, 'si...   \n",
       "2  4165473         0  {'10682': {'scoreET': 0, 'coachId': 136439, 's...   \n",
       "3  4165472         0  {'7839': {'scoreET': 0, 'coachId': 210205, 'si...   \n",
       "4  4165472         0  {'3148': {'scoreET': 1, 'coachId': 134365, 'si...   \n",
       "\n",
       "               dateutc  winner     wyId                         label  \\\n",
       "0  2016-07-10 19:00:00    9905  1694440  Portugal - France, 1 - 0 (E)   \n",
       "1  2016-07-07 19:00:00    4418  1694439       Germany - France, 0 - 2   \n",
       "2  2016-07-06 19:00:00    9905  1694438       Portugal - Wales, 2 - 0   \n",
       "3  2016-07-03 19:00:00    4418  1694437       France - Iceland, 5 - 2   \n",
       "4  2016-07-02 19:00:00    3148  1694436    Germany - Italy, 1 - 1 (P)   \n",
       "\n",
       "                                date   duration  \n",
       "0  July 10, 2016 at 9:00:00 PM GMT+2  ExtraTime  \n",
       "1   July 7, 2016 at 9:00:00 PM GMT+2    Regular  \n",
       "2   July 6, 2016 at 9:00:00 PM GMT+2    Regular  \n",
       "3   July 3, 2016 at 9:00:00 PM GMT+2    Regular  \n",
       "4   July 2, 2016 at 9:00:00 PM GMT+2  Penalties  "
      ]
     },
     "execution_count": 169,
     "metadata": {},
     "output_type": "execute_result"
    }
   ],
   "source": [
    "european_matches_df.head()"
   ]
  },
  {
   "cell_type": "markdown",
   "metadata": {},
   "source": [
    "##### World Cup"
   ]
  },
  {
   "cell_type": "code",
   "execution_count": 170,
   "metadata": {},
   "outputs": [],
   "source": [
    "world_cup_df = pd.DataFrame(matches['World_Cup'])"
   ]
  },
  {
   "cell_type": "code",
   "execution_count": 171,
   "metadata": {},
   "outputs": [
    {
     "data": {
      "text/plain": [
       "(64, 15)"
      ]
     },
     "execution_count": 171,
     "metadata": {},
     "output_type": "execute_result"
    }
   ],
   "source": [
    "world_cup_df.shape"
   ]
  },
  {
   "cell_type": "code",
   "execution_count": 172,
   "metadata": {},
   "outputs": [
    {
     "name": "stdout",
     "output_type": "stream",
     "text": [
      "<class 'pandas.core.frame.DataFrame'>\n",
      "RangeIndex: 64 entries, 0 to 63\n",
      "Data columns (total 15 columns):\n",
      " #   Column         Non-Null Count  Dtype \n",
      "---  ------         --------------  ----- \n",
      " 0   status         64 non-null     object\n",
      " 1   roundId        64 non-null     int64 \n",
      " 2   gameweek       64 non-null     int64 \n",
      " 3   teamsData      64 non-null     object\n",
      " 4   seasonId       64 non-null     int64 \n",
      " 5   dateutc        64 non-null     object\n",
      " 6   winner         64 non-null     int64 \n",
      " 7   venue          64 non-null     object\n",
      " 8   wyId           64 non-null     int64 \n",
      " 9   label          64 non-null     object\n",
      " 10  date           64 non-null     object\n",
      " 11  groupName      64 non-null     object\n",
      " 12  referees       64 non-null     object\n",
      " 13  duration       64 non-null     object\n",
      " 14  competitionId  64 non-null     int64 \n",
      "dtypes: int64(6), object(9)\n",
      "memory usage: 7.6+ KB\n"
     ]
    }
   ],
   "source": [
    "world_cup_df.info()"
   ]
  },
  {
   "cell_type": "code",
   "execution_count": 173,
   "metadata": {},
   "outputs": [
    {
     "data": {
      "text/plain": [
       "status\n",
       "Played    64\n",
       "Name: count, dtype: int64"
      ]
     },
     "execution_count": 173,
     "metadata": {},
     "output_type": "execute_result"
    }
   ],
   "source": [
    "world_cup_df.status.value_counts()"
   ]
  },
  {
   "cell_type": "code",
   "execution_count": 174,
   "metadata": {},
   "outputs": [
    {
     "data": {
      "text/plain": [
       "roundId\n",
       "4165363    48\n",
       "4165364     8\n",
       "4165365     4\n",
       "4165366     2\n",
       "4165368     1\n",
       "4165367     1\n",
       "Name: count, dtype: int64"
      ]
     },
     "execution_count": 174,
     "metadata": {},
     "output_type": "execute_result"
    }
   ],
   "source": [
    "world_cup_df.roundId.value_counts()"
   ]
  },
  {
   "cell_type": "markdown",
   "metadata": {},
   "source": [
    "## Italian first division analysis"
   ]
  },
  {
   "cell_type": "code",
   "execution_count": 40,
   "metadata": {},
   "outputs": [
    {
     "data": {
      "text/plain": [
       "(3603, 14)"
      ]
     },
     "execution_count": 40,
     "metadata": {},
     "output_type": "execute_result"
    }
   ],
   "source": [
    "players_df.shape"
   ]
  },
  {
   "cell_type": "code",
   "execution_count": 41,
   "metadata": {},
   "outputs": [
    {
     "name": "stdout",
     "output_type": "stream",
     "text": [
      "<class 'pandas.core.frame.DataFrame'>\n",
      "RangeIndex: 3603 entries, 0 to 3602\n",
      "Data columns (total 14 columns):\n",
      " #   Column                 Non-Null Count  Dtype \n",
      "---  ------                 --------------  ----- \n",
      " 0   passportArea           3603 non-null   object\n",
      " 1   weight                 3603 non-null   int64 \n",
      " 2   firstName              3603 non-null   object\n",
      " 3   middleName             3603 non-null   object\n",
      " 4   lastName               3603 non-null   object\n",
      " 5   currentTeamId          3512 non-null   object\n",
      " 6   birthDate              3603 non-null   object\n",
      " 7   height                 3603 non-null   int64 \n",
      " 8   role                   3603 non-null   object\n",
      " 9   birthArea              3603 non-null   object\n",
      " 10  wyId                   3603 non-null   int64 \n",
      " 11  foot                   3603 non-null   object\n",
      " 12  shortName              3603 non-null   object\n",
      " 13  currentNationalTeamId  3603 non-null   object\n",
      "dtypes: int64(3), object(11)\n",
      "memory usage: 394.2+ KB\n"
     ]
    }
   ],
   "source": [
    "players_df.info()"
   ]
  },
  {
   "cell_type": "code",
   "execution_count": 42,
   "metadata": {},
   "outputs": [
    {
     "data": {
      "text/plain": [
       "0       False\n",
       "1       False\n",
       "2       False\n",
       "3       False\n",
       "4       False\n",
       "        ...  \n",
       "3598     True\n",
       "3599    False\n",
       "3600    False\n",
       "3601    False\n",
       "3602    False\n",
       "Name: currentTeamId, Length: 3603, dtype: bool"
      ]
     },
     "execution_count": 42,
     "metadata": {},
     "output_type": "execute_result"
    }
   ],
   "source": [
    "players_df['currentTeamId'].duplicated()"
   ]
  },
  {
   "cell_type": "code",
   "execution_count": 43,
   "metadata": {},
   "outputs": [
    {
     "data": {
      "text/plain": [
       "currentTeamId\n",
       "null     44\n",
       "683      38\n",
       "712      31\n",
       "3775     31\n",
       "3219     31\n",
       "         ..\n",
       "14995     1\n",
       "3167      1\n",
       "9142      1\n",
       "3183      1\n",
       "62943     1\n",
       "Name: count, Length: 615, dtype: int64"
      ]
     },
     "execution_count": 43,
     "metadata": {},
     "output_type": "execute_result"
    }
   ],
   "source": [
    "players_df['currentTeamId'].value_counts()"
   ]
  },
  {
   "cell_type": "code",
   "execution_count": 44,
   "metadata": {},
   "outputs": [
    {
     "data": {
      "text/html": [
       "<div>\n",
       "<style scoped>\n",
       "    .dataframe tbody tr th:only-of-type {\n",
       "        vertical-align: middle;\n",
       "    }\n",
       "\n",
       "    .dataframe tbody tr th {\n",
       "        vertical-align: top;\n",
       "    }\n",
       "\n",
       "    .dataframe thead th {\n",
       "        text-align: right;\n",
       "    }\n",
       "</style>\n",
       "<table border=\"1\" class=\"dataframe\">\n",
       "  <thead>\n",
       "    <tr style=\"text-align: right;\">\n",
       "      <th></th>\n",
       "      <th>passportArea</th>\n",
       "      <th>weight</th>\n",
       "      <th>firstName</th>\n",
       "      <th>middleName</th>\n",
       "      <th>lastName</th>\n",
       "      <th>currentTeamId</th>\n",
       "      <th>birthDate</th>\n",
       "      <th>height</th>\n",
       "      <th>role</th>\n",
       "      <th>birthArea</th>\n",
       "      <th>wyId</th>\n",
       "      <th>foot</th>\n",
       "      <th>shortName</th>\n",
       "      <th>currentNationalTeamId</th>\n",
       "    </tr>\n",
       "  </thead>\n",
       "  <tbody>\n",
       "  </tbody>\n",
       "</table>\n",
       "</div>"
      ],
      "text/plain": [
       "Empty DataFrame\n",
       "Columns: [passportArea, weight, firstName, middleName, lastName, currentTeamId, birthDate, height, role, birthArea, wyId, foot, shortName, currentNationalTeamId]\n",
       "Index: []"
      ]
     },
     "execution_count": 44,
     "metadata": {},
     "output_type": "execute_result"
    }
   ],
   "source": [
    "players_df[players_df['wyId'] == 12049]"
   ]
  },
  {
   "cell_type": "code",
   "execution_count": 45,
   "metadata": {},
   "outputs": [],
   "source": [
    "events_df = pd.DataFrame()\n",
    "matches_df = pd.DataFrame()\n",
    "for nation in nations:\n",
    "    events_df = pd.DataFrame(events[nation])\n",
    "    matches_df = pd.DataFrame(matches[nation])"
   ]
  },
  {
   "cell_type": "code",
   "execution_count": 46,
   "metadata": {},
   "outputs": [
    {
     "name": "stdout",
     "output_type": "stream",
     "text": [
      "<class 'pandas.core.frame.DataFrame'>\n",
      "RangeIndex: 101759 entries, 0 to 101758\n",
      "Data columns (total 12 columns):\n",
      " #   Column        Non-Null Count   Dtype  \n",
      "---  ------        --------------   -----  \n",
      " 0   eventId       101759 non-null  int64  \n",
      " 1   subEventName  101759 non-null  object \n",
      " 2   tags          101759 non-null  object \n",
      " 3   playerId      101759 non-null  int64  \n",
      " 4   positions     101759 non-null  object \n",
      " 5   matchId       101759 non-null  int64  \n",
      " 6   eventName     101759 non-null  object \n",
      " 7   teamId        101759 non-null  int64  \n",
      " 8   matchPeriod   101759 non-null  object \n",
      " 9   eventSec      101759 non-null  float64\n",
      " 10  subEventId    101759 non-null  object \n",
      " 11  id            101759 non-null  int64  \n",
      "dtypes: float64(1), int64(5), object(6)\n",
      "memory usage: 9.3+ MB\n"
     ]
    }
   ],
   "source": [
    "events_df.info()"
   ]
  },
  {
   "cell_type": "code",
   "execution_count": 47,
   "metadata": {},
   "outputs": [
    {
     "data": {
      "text/html": [
       "<div>\n",
       "<style scoped>\n",
       "    .dataframe tbody tr th:only-of-type {\n",
       "        vertical-align: middle;\n",
       "    }\n",
       "\n",
       "    .dataframe tbody tr th {\n",
       "        vertical-align: top;\n",
       "    }\n",
       "\n",
       "    .dataframe thead th {\n",
       "        text-align: right;\n",
       "    }\n",
       "</style>\n",
       "<table border=\"1\" class=\"dataframe\">\n",
       "  <thead>\n",
       "    <tr style=\"text-align: right;\">\n",
       "      <th></th>\n",
       "      <th>eventId</th>\n",
       "      <th>subEventName</th>\n",
       "      <th>tags</th>\n",
       "      <th>playerId</th>\n",
       "      <th>positions</th>\n",
       "      <th>matchId</th>\n",
       "      <th>eventName</th>\n",
       "      <th>teamId</th>\n",
       "      <th>matchPeriod</th>\n",
       "      <th>eventSec</th>\n",
       "      <th>subEventId</th>\n",
       "      <th>id</th>\n",
       "    </tr>\n",
       "  </thead>\n",
       "  <tbody>\n",
       "    <tr>\n",
       "      <th>0</th>\n",
       "      <td>8</td>\n",
       "      <td>Simple pass</td>\n",
       "      <td>[{'id': 1801}]</td>\n",
       "      <td>122671</td>\n",
       "      <td>[{'y': 50, 'x': 50}, {'y': 53, 'x': 35}]</td>\n",
       "      <td>2057954</td>\n",
       "      <td>Pass</td>\n",
       "      <td>16521</td>\n",
       "      <td>1H</td>\n",
       "      <td>1.656214</td>\n",
       "      <td>85</td>\n",
       "      <td>258612104</td>\n",
       "    </tr>\n",
       "    <tr>\n",
       "      <th>1</th>\n",
       "      <td>8</td>\n",
       "      <td>High pass</td>\n",
       "      <td>[{'id': 1801}]</td>\n",
       "      <td>139393</td>\n",
       "      <td>[{'y': 53, 'x': 35}, {'y': 19, 'x': 75}]</td>\n",
       "      <td>2057954</td>\n",
       "      <td>Pass</td>\n",
       "      <td>16521</td>\n",
       "      <td>1H</td>\n",
       "      <td>4.487814</td>\n",
       "      <td>83</td>\n",
       "      <td>258612106</td>\n",
       "    </tr>\n",
       "    <tr>\n",
       "      <th>2</th>\n",
       "      <td>1</td>\n",
       "      <td>Air duel</td>\n",
       "      <td>[{'id': 703}, {'id': 1801}]</td>\n",
       "      <td>103668</td>\n",
       "      <td>[{'y': 81, 'x': 25}, {'y': 83, 'x': 37}]</td>\n",
       "      <td>2057954</td>\n",
       "      <td>Duel</td>\n",
       "      <td>14358</td>\n",
       "      <td>1H</td>\n",
       "      <td>5.937411</td>\n",
       "      <td>10</td>\n",
       "      <td>258612077</td>\n",
       "    </tr>\n",
       "    <tr>\n",
       "      <th>3</th>\n",
       "      <td>1</td>\n",
       "      <td>Air duel</td>\n",
       "      <td>[{'id': 701}, {'id': 1802}]</td>\n",
       "      <td>122940</td>\n",
       "      <td>[{'y': 19, 'x': 75}, {'y': 17, 'x': 63}]</td>\n",
       "      <td>2057954</td>\n",
       "      <td>Duel</td>\n",
       "      <td>16521</td>\n",
       "      <td>1H</td>\n",
       "      <td>6.406961</td>\n",
       "      <td>10</td>\n",
       "      <td>258612112</td>\n",
       "    </tr>\n",
       "    <tr>\n",
       "      <th>4</th>\n",
       "      <td>8</td>\n",
       "      <td>Simple pass</td>\n",
       "      <td>[{'id': 1801}]</td>\n",
       "      <td>122847</td>\n",
       "      <td>[{'y': 17, 'x': 63}, {'y': 15, 'x': 71}]</td>\n",
       "      <td>2057954</td>\n",
       "      <td>Pass</td>\n",
       "      <td>16521</td>\n",
       "      <td>1H</td>\n",
       "      <td>8.562167</td>\n",
       "      <td>85</td>\n",
       "      <td>258612110</td>\n",
       "    </tr>\n",
       "  </tbody>\n",
       "</table>\n",
       "</div>"
      ],
      "text/plain": [
       "   eventId subEventName                         tags  playerId  \\\n",
       "0        8  Simple pass               [{'id': 1801}]    122671   \n",
       "1        8    High pass               [{'id': 1801}]    139393   \n",
       "2        1     Air duel  [{'id': 703}, {'id': 1801}]    103668   \n",
       "3        1     Air duel  [{'id': 701}, {'id': 1802}]    122940   \n",
       "4        8  Simple pass               [{'id': 1801}]    122847   \n",
       "\n",
       "                                  positions  matchId eventName  teamId  \\\n",
       "0  [{'y': 50, 'x': 50}, {'y': 53, 'x': 35}]  2057954      Pass   16521   \n",
       "1  [{'y': 53, 'x': 35}, {'y': 19, 'x': 75}]  2057954      Pass   16521   \n",
       "2  [{'y': 81, 'x': 25}, {'y': 83, 'x': 37}]  2057954      Duel   14358   \n",
       "3  [{'y': 19, 'x': 75}, {'y': 17, 'x': 63}]  2057954      Duel   16521   \n",
       "4  [{'y': 17, 'x': 63}, {'y': 15, 'x': 71}]  2057954      Pass   16521   \n",
       "\n",
       "  matchPeriod  eventSec subEventId         id  \n",
       "0          1H  1.656214         85  258612104  \n",
       "1          1H  4.487814         83  258612106  \n",
       "2          1H  5.937411         10  258612077  \n",
       "3          1H  6.406961         10  258612112  \n",
       "4          1H  8.562167         85  258612110  "
      ]
     },
     "execution_count": 47,
     "metadata": {},
     "output_type": "execute_result"
    }
   ],
   "source": [
    "events_df.head()"
   ]
  },
  {
   "cell_type": "code",
   "execution_count": 48,
   "metadata": {},
   "outputs": [
    {
     "data": {
      "text/html": [
       "<div>\n",
       "<style scoped>\n",
       "    .dataframe tbody tr th:only-of-type {\n",
       "        vertical-align: middle;\n",
       "    }\n",
       "\n",
       "    .dataframe tbody tr th {\n",
       "        vertical-align: top;\n",
       "    }\n",
       "\n",
       "    .dataframe thead th {\n",
       "        text-align: right;\n",
       "    }\n",
       "</style>\n",
       "<table border=\"1\" class=\"dataframe\">\n",
       "  <thead>\n",
       "    <tr style=\"text-align: right;\">\n",
       "      <th></th>\n",
       "      <th>status</th>\n",
       "      <th>roundId</th>\n",
       "      <th>gameweek</th>\n",
       "      <th>teamsData</th>\n",
       "      <th>seasonId</th>\n",
       "      <th>dateutc</th>\n",
       "      <th>winner</th>\n",
       "      <th>venue</th>\n",
       "      <th>wyId</th>\n",
       "      <th>label</th>\n",
       "      <th>date</th>\n",
       "      <th>groupName</th>\n",
       "      <th>referees</th>\n",
       "      <th>duration</th>\n",
       "      <th>competitionId</th>\n",
       "    </tr>\n",
       "  </thead>\n",
       "  <tbody>\n",
       "    <tr>\n",
       "      <th>0</th>\n",
       "      <td>Played</td>\n",
       "      <td>4165368</td>\n",
       "      <td>0</td>\n",
       "      <td>{'9598': {'scoreET': 0, 'coachId': 122788, 'si...</td>\n",
       "      <td>10078</td>\n",
       "      <td>2018-07-15 15:00:00</td>\n",
       "      <td>4418</td>\n",
       "      <td>Olimpiyskiy stadion Luzhniki</td>\n",
       "      <td>2058017</td>\n",
       "      <td>France - Croatia, 4 - 2</td>\n",
       "      <td>July 15, 2018 at 5:00:00 PM GMT+2</td>\n",
       "      <td></td>\n",
       "      <td>[{'refereeId': 378051, 'role': 'referee'}, {'r...</td>\n",
       "      <td>Regular</td>\n",
       "      <td>28</td>\n",
       "    </tr>\n",
       "    <tr>\n",
       "      <th>1</th>\n",
       "      <td>Played</td>\n",
       "      <td>4165367</td>\n",
       "      <td>0</td>\n",
       "      <td>{'2413': {'scoreET': 0, 'coachId': 276858, 'si...</td>\n",
       "      <td>10078</td>\n",
       "      <td>2018-07-14 14:00:00</td>\n",
       "      <td>5629</td>\n",
       "      <td>Stadion Krestovskyi</td>\n",
       "      <td>2058016</td>\n",
       "      <td>Belgium - England, 2 - 0</td>\n",
       "      <td>July 14, 2018 at 4:00:00 PM GMT+2</td>\n",
       "      <td></td>\n",
       "      <td>[{'refereeId': 380599, 'role': 'referee'}, {'r...</td>\n",
       "      <td>Regular</td>\n",
       "      <td>28</td>\n",
       "    </tr>\n",
       "    <tr>\n",
       "      <th>2</th>\n",
       "      <td>Played</td>\n",
       "      <td>4165366</td>\n",
       "      <td>0</td>\n",
       "      <td>{'2413': {'scoreET': 1, 'coachId': 276858, 'si...</td>\n",
       "      <td>10078</td>\n",
       "      <td>2018-07-11 18:00:00</td>\n",
       "      <td>9598</td>\n",
       "      <td>Olimpiyskiy stadion Luzhniki</td>\n",
       "      <td>2058015</td>\n",
       "      <td>Croatia - England, 2 - 1 (E)</td>\n",
       "      <td>July 11, 2018 at 8:00:00 PM GMT+2</td>\n",
       "      <td></td>\n",
       "      <td>[{'refereeId': 384995, 'role': 'referee'}, {'r...</td>\n",
       "      <td>ExtraTime</td>\n",
       "      <td>28</td>\n",
       "    </tr>\n",
       "    <tr>\n",
       "      <th>3</th>\n",
       "      <td>Played</td>\n",
       "      <td>4165366</td>\n",
       "      <td>0</td>\n",
       "      <td>{'5629': {'scoreET': 0, 'coachId': 8605, 'side...</td>\n",
       "      <td>10078</td>\n",
       "      <td>2018-07-10 18:00:00</td>\n",
       "      <td>4418</td>\n",
       "      <td>Stadion Krestovskyi</td>\n",
       "      <td>2058014</td>\n",
       "      <td>France - Belgium, 1 - 0</td>\n",
       "      <td>July 10, 2018 at 8:00:00 PM GMT+2</td>\n",
       "      <td></td>\n",
       "      <td>[{'refereeId': 378232, 'role': 'referee'}, {'r...</td>\n",
       "      <td>Regular</td>\n",
       "      <td>28</td>\n",
       "    </tr>\n",
       "    <tr>\n",
       "      <th>4</th>\n",
       "      <td>Played</td>\n",
       "      <td>4165365</td>\n",
       "      <td>0</td>\n",
       "      <td>{'14358': {'scoreET': 2, 'coachId': 264893, 's...</td>\n",
       "      <td>10078</td>\n",
       "      <td>2018-07-07 18:00:00</td>\n",
       "      <td>9598</td>\n",
       "      <td>Olimpiyskiy Stadion Fisht</td>\n",
       "      <td>2058012</td>\n",
       "      <td>Russia - Croatia, 2 - 2 (P)</td>\n",
       "      <td>July 7, 2018 at 8:00:00 PM GMT+2</td>\n",
       "      <td></td>\n",
       "      <td>[{'refereeId': 378204, 'role': 'referee'}, {'r...</td>\n",
       "      <td>Penalties</td>\n",
       "      <td>28</td>\n",
       "    </tr>\n",
       "  </tbody>\n",
       "</table>\n",
       "</div>"
      ],
      "text/plain": [
       "   status  roundId  gameweek  \\\n",
       "0  Played  4165368         0   \n",
       "1  Played  4165367         0   \n",
       "2  Played  4165366         0   \n",
       "3  Played  4165366         0   \n",
       "4  Played  4165365         0   \n",
       "\n",
       "                                           teamsData  seasonId  \\\n",
       "0  {'9598': {'scoreET': 0, 'coachId': 122788, 'si...     10078   \n",
       "1  {'2413': {'scoreET': 0, 'coachId': 276858, 'si...     10078   \n",
       "2  {'2413': {'scoreET': 1, 'coachId': 276858, 'si...     10078   \n",
       "3  {'5629': {'scoreET': 0, 'coachId': 8605, 'side...     10078   \n",
       "4  {'14358': {'scoreET': 2, 'coachId': 264893, 's...     10078   \n",
       "\n",
       "               dateutc  winner                         venue     wyId  \\\n",
       "0  2018-07-15 15:00:00    4418  Olimpiyskiy stadion Luzhniki  2058017   \n",
       "1  2018-07-14 14:00:00    5629           Stadion Krestovskyi  2058016   \n",
       "2  2018-07-11 18:00:00    9598  Olimpiyskiy stadion Luzhniki  2058015   \n",
       "3  2018-07-10 18:00:00    4418           Stadion Krestovskyi  2058014   \n",
       "4  2018-07-07 18:00:00    9598     Olimpiyskiy Stadion Fisht  2058012   \n",
       "\n",
       "                          label                               date groupName  \\\n",
       "0       France - Croatia, 4 - 2  July 15, 2018 at 5:00:00 PM GMT+2             \n",
       "1      Belgium - England, 2 - 0  July 14, 2018 at 4:00:00 PM GMT+2             \n",
       "2  Croatia - England, 2 - 1 (E)  July 11, 2018 at 8:00:00 PM GMT+2             \n",
       "3       France - Belgium, 1 - 0  July 10, 2018 at 8:00:00 PM GMT+2             \n",
       "4   Russia - Croatia, 2 - 2 (P)   July 7, 2018 at 8:00:00 PM GMT+2             \n",
       "\n",
       "                                            referees   duration  competitionId  \n",
       "0  [{'refereeId': 378051, 'role': 'referee'}, {'r...    Regular             28  \n",
       "1  [{'refereeId': 380599, 'role': 'referee'}, {'r...    Regular             28  \n",
       "2  [{'refereeId': 384995, 'role': 'referee'}, {'r...  ExtraTime             28  \n",
       "3  [{'refereeId': 378232, 'role': 'referee'}, {'r...    Regular             28  \n",
       "4  [{'refereeId': 378204, 'role': 'referee'}, {'r...  Penalties             28  "
      ]
     },
     "execution_count": 48,
     "metadata": {},
     "output_type": "execute_result"
    }
   ],
   "source": [
    "matches_df.head()"
   ]
  },
  {
   "cell_type": "code",
   "execution_count": 49,
   "metadata": {},
   "outputs": [],
   "source": [
    "teams_df = pd.DataFrame(teams)"
   ]
  },
  {
   "cell_type": "code",
   "execution_count": 50,
   "metadata": {},
   "outputs": [
    {
     "name": "stdout",
     "output_type": "stream",
     "text": [
      "<class 'pandas.core.frame.DataFrame'>\n",
      "RangeIndex: 142 entries, 0 to 141\n",
      "Data columns (total 6 columns):\n",
      " #   Column        Non-Null Count  Dtype \n",
      "---  ------        --------------  ----- \n",
      " 0   city          142 non-null    object\n",
      " 1   name          142 non-null    object\n",
      " 2   wyId          142 non-null    int64 \n",
      " 3   officialName  142 non-null    object\n",
      " 4   area          142 non-null    object\n",
      " 5   type          142 non-null    object\n",
      "dtypes: int64(1), object(5)\n",
      "memory usage: 6.8+ KB\n"
     ]
    }
   ],
   "source": [
    "teams_df.info()"
   ]
  },
  {
   "cell_type": "code",
   "execution_count": 51,
   "metadata": {},
   "outputs": [
    {
     "data": {
      "text/plain": [
       "(142, 6)"
      ]
     },
     "execution_count": 51,
     "metadata": {},
     "output_type": "execute_result"
    }
   ],
   "source": [
    "teams_df.shape"
   ]
  },
  {
   "cell_type": "code",
   "execution_count": 52,
   "metadata": {},
   "outputs": [
    {
     "ename": "AttributeError",
     "evalue": "'list' object has no attribute 'iloc'",
     "output_type": "error",
     "traceback": [
      "\u001b[1;31m---------------------------------------------------------------------------\u001b[0m",
      "\u001b[1;31mAttributeError\u001b[0m                            Traceback (most recent call last)",
      "Cell \u001b[1;32mIn[52], line 1\u001b[0m\n\u001b[1;32m----> 1\u001b[0m \u001b[43mteams\u001b[49m\u001b[38;5;241;43m.\u001b[39;49m\u001b[43miloc\u001b[49m[\u001b[38;5;241m10\u001b[39m]\n",
      "\u001b[1;31mAttributeError\u001b[0m: 'list' object has no attribute 'iloc'"
     ]
    }
   ],
   "source": [
    "teams.iloc[10]"
   ]
  },
  {
   "cell_type": "code",
   "execution_count": null,
   "metadata": {},
   "outputs": [
    {
     "data": {
      "text/plain": [
       "array([ 1613,   692,   691,   696,   695,  3795,   698,  2454,  1673,\n",
       "         678,   679,  3766,  3767,   674,   675,   676,   714,   712,\n",
       "        3204, 10531,  3771,  3770,  3775,  3774,  3779,   701,  1659,\n",
       "        1651,  2443,  2446,  2447,  2444,  2445,  2449,  3157,  3799,\n",
       "        3159,  3158,  3315,  1646,  3772,  2455,  3804,  2457,  2451,\n",
       "        2450,  2453,  3166,  3777,  3164,  3165,  3162,  3163,  3161,\n",
       "        1631,  1633,  1639,  3219,  3782,   756,  1644,  2482,  3173,\n",
       "        3172,  3176,  1623,  1627,  1625,  1624,  2481,  1628, 19830,\n",
       "        2460,  3776,  2462,  1619,  2463,  1612,  1610,  1611,  3185,\n",
       "        3187,   677,  2975,  1609,  3783,  3780,  3787,  3785,  3789,\n",
       "        3197,  3194,  3193,   684,   687,   680,   683,   682, 14855,\n",
       "       10451,  4687, 14358,  7047, 16276,  6380,  3148,  8731, 11944,\n",
       "       14622, 16216, 14496, 12430, 17929,  8493, 12274, 10962,  9905,\n",
       "        5629,  7712, 15670, 10682, 16871,  2413, 16129, 12913, 10840,\n",
       "        9109,  7839,  9598, 15473,  8274, 11555, 19314,  3757, 15594,\n",
       "        4418, 16521,  1598, 17322,  6697, 13869, 16823], dtype=int64)"
      ]
     },
     "execution_count": 145,
     "metadata": {},
     "output_type": "execute_result"
    }
   ],
   "source": [
    "teams_df['wyId'].unique()"
   ]
  },
  {
   "cell_type": "code",
   "execution_count": null,
   "metadata": {},
   "outputs": [
    {
     "data": {
      "text/html": [
       "<div>\n",
       "<style scoped>\n",
       "    .dataframe tbody tr th:only-of-type {\n",
       "        vertical-align: middle;\n",
       "    }\n",
       "\n",
       "    .dataframe tbody tr th {\n",
       "        vertical-align: top;\n",
       "    }\n",
       "\n",
       "    .dataframe thead th {\n",
       "        text-align: right;\n",
       "    }\n",
       "</style>\n",
       "<table border=\"1\" class=\"dataframe\">\n",
       "  <thead>\n",
       "    <tr style=\"text-align: right;\">\n",
       "      <th></th>\n",
       "      <th>city</th>\n",
       "      <th>name</th>\n",
       "      <th>wyId</th>\n",
       "      <th>officialName</th>\n",
       "      <th>area</th>\n",
       "      <th>type</th>\n",
       "    </tr>\n",
       "  </thead>\n",
       "  <tbody>\n",
       "    <tr>\n",
       "      <th>22</th>\n",
       "      <td>Nice</td>\n",
       "      <td>Nice</td>\n",
       "      <td>3775</td>\n",
       "      <td>O.G.C. Nice C\\u00f4te d'Azur</td>\n",
       "      <td>{'name': 'France', 'id': '250', 'alpha3code': ...</td>\n",
       "      <td>club</td>\n",
       "    </tr>\n",
       "  </tbody>\n",
       "</table>\n",
       "</div>"
      ],
      "text/plain": [
       "    city  name  wyId                  officialName  \\\n",
       "22  Nice  Nice  3775  O.G.C. Nice C\\u00f4te d'Azur   \n",
       "\n",
       "                                                 area  type  \n",
       "22  {'name': 'France', 'id': '250', 'alpha3code': ...  club  "
      ]
     },
     "execution_count": 156,
     "metadata": {},
     "output_type": "execute_result"
    }
   ],
   "source": [
    "teams_df[teams_df['wyId'] == 3775]"
   ]
  },
  {
   "cell_type": "code",
   "execution_count": null,
   "metadata": {},
   "outputs": [],
   "source": [
    "12072"
   ]
  }
 ],
 "metadata": {
  "kernelspec": {
   "display_name": "gsa2023",
   "language": "python",
   "name": "python3"
  },
  "language_info": {
   "codemirror_mode": {
    "name": "ipython",
    "version": 3
   },
   "file_extension": ".py",
   "mimetype": "text/x-python",
   "name": "python",
   "nbconvert_exporter": "python",
   "pygments_lexer": "ipython3",
   "version": "3.9.18"
  }
 },
 "nbformat": 4,
 "nbformat_minor": 2
}
