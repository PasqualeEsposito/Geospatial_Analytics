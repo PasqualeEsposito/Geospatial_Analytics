{
 "cells": [
  {
   "cell_type": "markdown",
   "metadata": {},
   "source": [
    "# Project 4: Football matches as mobility networks\n",
    "During a football match, players move on the field to attack and defend. This generates a series of movements that can be analyzed to understand the players behavior.<br><br>\n",
    "The student should use the `Wyscout open dataset`, describing the “events” in all matches of seven competitions (e.g., passes, shots, tackles etc.), to analyze pass chains and the mobility of football players. A player’s movement is defined by consecutive events made by that player in the match.<br><br>\n",
    "- Investigate the distances traveled by players during their matches and their distributions. Discuss about the similarity of these distributions with those about mobility trajectories seen during the course.<br><br>\n",
    "- Relate the pass chains made by teams with the probability of making a shot, a goal, and to win a match. Are long chains more likely to lead to a shot/goal? Are short pass chains more successful?<br><br>\n",
    "- <b>Quantify the predictability of pass chains based on some division of the football field (tessellation). To what extent can we predict the next tile (field zone) where the ball will be? Use a next-location predictor to quantify the accuracy to predict the next zone the ball will be.</b>"
   ]
  },
  {
   "cell_type": "code",
   "execution_count": 1,
   "metadata": {},
   "outputs": [],
   "source": [
    "import json\n",
    "import pandas as pd\n",
    "import numpy as np\n",
    "from utils import *\n",
    "from tensorflow.keras.preprocessing.sequence import pad_sequences\n",
    "from tensorflow.keras.utils import to_categorical\n",
    "\n",
    "from keras.wrappers.scikit_learn import KerasClassifier\n",
    "from keras.models import Sequential\n",
    "from keras.layers import Dense, SimpleRNN\n",
    "from sklearn.model_selection import GridSearchCV\n",
    "from keras.callbacks import Callback\n",
    "\n",
    "import warnings\n",
    "warnings.filterwarnings('ignore')"
   ]
  },
  {
   "cell_type": "markdown",
   "metadata": {},
   "source": [
    "### Data load"
   ]
  },
  {
   "cell_type": "code",
   "execution_count": 2,
   "metadata": {},
   "outputs": [],
   "source": [
    "# loading the events data\n",
    "events={}\n",
    "nations = ['Italy','England','Germany','France','Spain','European_Championship','World_Cup']\n",
    "for nation in nations:\n",
    "    with open('./data/events/events_%s.json' %nation) as json_data:\n",
    "        events[nation] = json.load(json_data)"
   ]
  },
  {
   "cell_type": "markdown",
   "metadata": {},
   "source": [
    "### JSON to DataFrame"
   ]
  },
  {
   "cell_type": "code",
   "execution_count": 3,
   "metadata": {},
   "outputs": [],
   "source": [
    "events_df = {\n",
    "    'Italy': pd.DataFrame(events['Italy']),\n",
    "    'England': pd.DataFrame(events['England']),\n",
    "    'Germany': pd.DataFrame(events['Germany']),\n",
    "    'France': pd.DataFrame(events['France']),\n",
    "    'Spain': pd.DataFrame(events['Spain']),\n",
    "    'European_Championship': pd.DataFrame(events['European_Championship']),\n",
    "    'World_Cup': pd.DataFrame(events['World_Cup'])\n",
    "}"
   ]
  },
  {
   "cell_type": "code",
   "execution_count": 4,
   "metadata": {},
   "outputs": [],
   "source": [
    "events = 0"
   ]
  },
  {
   "cell_type": "code",
   "execution_count": 5,
   "metadata": {},
   "outputs": [],
   "source": [
    "for championship in events_df:\n",
    "    if (championship == 'European_Championship') or (championship == 'World_Cup'):\n",
    "        events_df[championship] = events_df[championship][events_df[championship]['matchPeriod'] != 'P']\n",
    "    events_df[championship] = events_df[championship][(events_df[championship]['eventId'] != 1) & (~events_df[championship]['subEventId'].isin([11, 12]))].reset_index(drop=True)\n",
    "    events_df[championship] = events_df[championship][(events_df[championship]['subEventName'] != 'Goal kick')].reset_index(drop=True)\n",
    "    events_df[championship].drop(columns=['tags', 'eventName', 'subEventId', 'id'], inplace=True)"
   ]
  },
  {
   "cell_type": "code",
   "execution_count": 6,
   "metadata": {},
   "outputs": [],
   "source": [
    "for nation in nations:\n",
    "    events_df[nation]['positions'] = events_df[nation]['positions'].apply(lambda x: from_coords_to_tesselation(x))\n",
    "    events_df[nation].rename(columns={'positions': 'tessellation'}, inplace=True)"
   ]
  },
  {
   "cell_type": "code",
   "execution_count": 7,
   "metadata": {},
   "outputs": [
    {
     "data": {
      "image/png": "[encoded data removed]",
      "text/plain": [
       "<Figure size 640x480 with 1 Axes>"
      ]
     },
     "metadata": {},
     "output_type": "display_data"
    }
   ],
   "source": [
    "draw_pitch_tessellation()"
   ]
  },
  {
   "cell_type": "code",
   "execution_count": 8,
   "metadata": {},
   "outputs": [],
   "source": [
    "pass_chains = {}\n",
    "\n",
    "current_team_id = None\n",
    "current_pass_chain = []\n",
    "last_pass_event_index = {}\n",
    "\n",
    "for nation in nations:\n",
    "    for index, row in events_df[nation].iterrows():\n",
    "        if row['eventId'] in [3, 8]:\n",
    "            if row['teamId'] != current_team_id:\n",
    "                if current_pass_chain:\n",
    "                    pass_chains[index] = current_pass_chain\n",
    "                current_team_id = row['teamId']\n",
    "                current_pass_chain = [row['tessellation']]\n",
    "                last_pass_event_index[current_team_id] = index\n",
    "            else:\n",
    "                current_pass_chain.append(row['tessellation'])\n",
    "                last_pass_event_index[current_team_id] = index\n",
    "        else:\n",
    "            if row['teamId'] != current_team_id:\n",
    "                if current_pass_chain:\n",
    "                    pass_chains[last_pass_event_index[current_team_id]] = current_pass_chain\n",
    "                current_team_id = row['teamId']\n",
    "                current_pass_chain = []\n",
    "\n",
    "if current_pass_chain:\n",
    "    pass_chains[last_pass_event_index[current_team_id]] = current_pass_chain"
   ]
  },
  {
   "cell_type": "code",
   "execution_count": 9,
   "metadata": {},
   "outputs": [
    {
     "data": {
      "text/plain": [
       "\"import pickle\\n\\npasses = open('pass_chains.pkl', 'wb') \\npickle.dump(pass_chains, passes)\""
      ]
     },
     "execution_count": 9,
     "metadata": {},
     "output_type": "execute_result"
    }
   ],
   "source": [
    "\"\"\"import pickle\n",
    "\n",
    "passes = open('pass_chains.pkl', 'wb') \n",
    "pickle.dump(pass_chains, passes)\"\"\""
   ]
  },
  {
   "cell_type": "code",
   "execution_count": 10,
   "metadata": {},
   "outputs": [
    {
     "data": {
      "text/plain": [
       "\"with open('pass_chains.pkl', 'rb') as passes:\\n    pass_chains = pickle.load(passes)\""
      ]
     },
     "execution_count": 10,
     "metadata": {},
     "output_type": "execute_result"
    }
   ],
   "source": [
    "\"\"\"with open('pass_chains.pkl', 'rb') as passes:\n",
    "    pass_chains = pickle.load(passes)\"\"\""
   ]
  },
  {
   "cell_type": "code",
   "execution_count": 11,
   "metadata": {},
   "outputs": [],
   "source": [
    "# deletes the passes chains with less than 3 passes\n",
    "pass_chains = [chain for chain in pass_chains.values() if len(chain) > 3]"
   ]
  },
  {
   "cell_type": "markdown",
   "metadata": {},
   "source": [
    "### Recurrent Neural Network"
   ]
  },
  {
   "cell_type": "code",
   "execution_count": 12,
   "metadata": {},
   "outputs": [],
   "source": [
    "# Determine maximum sequence length\n",
    "max_length = max(len(seq) for seq in pass_chains)\n",
    "\n",
    "# Pad sequences\n",
    "padded_data = pad_sequences(pass_chains, maxlen=max_length, padding='pre', value=-1)\n",
    "\n",
    "# One-hot encode if needed (assuming the data is categorical)\n",
    "one_hot_data = to_categorical(padded_data)"
   ]
  },
  {
   "cell_type": "code",
   "execution_count": 13,
   "metadata": {},
   "outputs": [
    {
     "name": "stdout",
     "output_type": "stream",
     "text": [
      "Shape of the training set: (84130, 82, 9)\n",
      "Shape of the test set: (21033, 82, 9)\n",
      "Shape of the training labels: (84130, 9)\n",
      "Shape of the test labels: (21033, 9)\n"
     ]
    }
   ],
   "source": [
    "# Remove the last value (target variable) from each sequence\n",
    "from numpy import shape\n",
    "\n",
    "\n",
    "X = one_hot_data[:, :-1, :]  # Features (input data)\n",
    "y = one_hot_data[:, -1, :]   # Target variable (to be predicted)\n",
    "\n",
    "# Split the data into training, validation, and test sets\n",
    "# For example, you can use an 80-10-10 split\n",
    "num_samples = len(X)\n",
    "train_size = int(0.8 * num_samples)\n",
    "\n",
    "X_train, X_test = X[:train_size], X[train_size:]\n",
    "y_train, y_test = y[:train_size], y[train_size:]\n",
    "\n",
    "print('Shape of the training set:', shape(X_train))\n",
    "print('Shape of the test set:', shape(X_test))\n",
    "print('Shape of the training labels:', shape(y_train))\n",
    "print('Shape of the test labels:', shape(y_test))"
   ]
  },
  {
   "cell_type": "code",
   "execution_count": 14,
   "metadata": {},
   "outputs": [],
   "source": [
    "def create_model(neurons):\n",
    "    model = Sequential()\n",
    "    model.add(SimpleRNN(units=neurons[0], input_shape=(max_length-1, one_hot_data.shape[2]), return_sequences=True))\n",
    "    model.add(SimpleRNN(units=neurons[1], input_shape=(max_length-1, one_hot_data.shape[2]), return_sequences=True))\n",
    "    model.add(SimpleRNN(units=neurons[2], input_shape=(max_length-1, one_hot_data.shape[2])))\n",
    "    model.add(Dense(units=y.shape[1], activation='softmax'))\n",
    "    model.compile(optimizer='adam', loss='categorical_crossentropy', metrics=['accuracy'])\n",
    "    return model"
   ]
  },
  {
   "cell_type": "code",
   "execution_count": 15,
   "metadata": {},
   "outputs": [
    {
     "name": "stdout",
     "output_type": "stream",
     "text": [
      "Fitting 3 folds for each of 8 candidates, totalling 24 fits\n"
     ]
    },
    {
     "name": "stdout",
     "output_type": "stream",
     "text": [
      "Epoch 1/32\n",
      "526/526 [==============================] - 26s 43ms/step - loss: 1.6977 - accuracy: 0.3885\n",
      "Epoch 2/32\n",
      "526/526 [==============================] - 23s 43ms/step - loss: 1.5066 - accuracy: 0.4464\n",
      "Epoch 3/32\n",
      "526/526 [==============================] - 22s 43ms/step - loss: 1.4962 - accuracy: 0.4498\n",
      "Epoch 4/32\n",
      "526/526 [==============================] - 23s 43ms/step - loss: 1.4924 - accuracy: 0.4529\n",
      "Epoch 5/32\n",
      "526/526 [==============================] - 23s 43ms/step - loss: 1.4913 - accuracy: 0.4528\n",
      "Epoch 6/32\n",
      "526/526 [==============================] - 22s 43ms/step - loss: 1.4890 - accuracy: 0.4545\n",
      "Epoch 7/32\n",
      "526/526 [==============================] - 22s 43ms/step - loss: 1.4881 - accuracy: 0.4546\n",
      "Epoch 8/32\n",
      "526/526 [==============================] - 23s 43ms/step - loss: 1.4874 - accuracy: 0.4533\n",
      "Epoch 9/32\n",
      "526/526 [==============================] - 23s 44ms/step - loss: 1.4862 - accuracy: 0.4547\n",
      "Epoch 10/32\n",
      "526/526 [==============================] - 22s 42ms/step - loss: 1.4855 - accuracy: 0.4557\n",
      "Epoch 11/32\n",
      "526/526 [==============================] - 22s 42ms/step - loss: 1.4845 - accuracy: 0.4549\n",
      "Epoch 12/32\n",
      "526/526 [==============================] - 22s 42ms/step - loss: 1.4838 - accuracy: 0.4556\n",
      "Epoch 13/32\n",
      "526/526 [==============================] - 22s 42ms/step - loss: 1.4833 - accuracy: 0.4553\n",
      "Epoch 14/32\n",
      "526/526 [==============================] - 22s 42ms/step - loss: 1.4828 - accuracy: 0.4553\n",
      "Epoch 15/32\n",
      "526/526 [==============================] - 22s 42ms/step - loss: 1.4827 - accuracy: 0.4555\n",
      "Epoch 16/32\n",
      "526/526 [==============================] - 22s 42ms/step - loss: 1.4816 - accuracy: 0.4570\n",
      "Epoch 17/32\n",
      "526/526 [==============================] - 22s 42ms/step - loss: 1.4812 - accuracy: 0.4573\n",
      "Epoch 18/32\n",
      "526/526 [==============================] - 22s 42ms/step - loss: 1.4808 - accuracy: 0.4560\n",
      "Epoch 19/32\n",
      "526/526 [==============================] - 22s 42ms/step - loss: 1.4808 - accuracy: 0.4557\n",
      "Epoch 20/32\n",
      "526/526 [==============================] - 22s 42ms/step - loss: 1.4798 - accuracy: 0.4570\n",
      "Epoch 21/32\n",
      "526/526 [==============================] - 22s 42ms/step - loss: 1.4797 - accuracy: 0.4567\n",
      "Epoch 22/32\n",
      "526/526 [==============================] - 22s 42ms/step - loss: 1.4800 - accuracy: 0.4575\n",
      "Epoch 23/32\n",
      "526/526 [==============================] - 22s 42ms/step - loss: 1.4788 - accuracy: 0.4576\n",
      "Epoch 24/32\n",
      "526/526 [==============================] - 22s 42ms/step - loss: 1.4784 - accuracy: 0.4571\n",
      "Epoch 25/32\n",
      "526/526 [==============================] - 22s 42ms/step - loss: 1.4789 - accuracy: 0.4572\n",
      "Epoch 26/32\n",
      "526/526 [==============================] - 22s 42ms/step - loss: 1.4784 - accuracy: 0.4581\n",
      "Epoch 27/32\n",
      "526/526 [==============================] - 22s 42ms/step - loss: 1.4785 - accuracy: 0.4567\n",
      "Epoch 28/32\n",
      "526/526 [==============================] - 22s 42ms/step - loss: 1.4779 - accuracy: 0.4564\n",
      "Epoch 29/32\n",
      "526/526 [==============================] - 22s 42ms/step - loss: 1.4775 - accuracy: 0.4586\n",
      "Epoch 30/32\n",
      "526/526 [==============================] - 22s 42ms/step - loss: 1.4773 - accuracy: 0.4579\n",
      "Epoch 31/32\n",
      "526/526 [==============================] - 22s 42ms/step - loss: 1.4772 - accuracy: 0.4567\n",
      "Epoch 32/32\n",
      "526/526 [==============================] - 22s 42ms/step - loss: 1.4769 - accuracy: 0.4584\n",
      "Best: 0.454463 using {'batch_size': 160, 'neurons': [20, 15, 20]}\n",
      "0.451218 (0.003071) with: {'batch_size': 160, 'neurons': [5, 10, 10]}\n",
      "0.452621 (0.004304) with: {'batch_size': 160, 'neurons': [10, 15, 15]}\n",
      "0.454463 (0.003112) with: {'batch_size': 160, 'neurons': [20, 15, 20]}\n",
      "0.446832 (0.005347) with: {'batch_size': 160, 'neurons': [30, 30, 50]}\n",
      "0.449911 (0.003692) with: {'batch_size': 180, 'neurons': [5, 10, 10]}\n",
      "0.453025 (0.004380) with: {'batch_size': 180, 'neurons': [10, 15, 15]}\n",
      "0.453501 (0.004428) with: {'batch_size': 180, 'neurons': [20, 15, 20]}\n",
      "0.449317 (0.002644) with: {'batch_size': 180, 'neurons': [30, 30, 50]}\n"
     ]
    }
   ],
   "source": [
    "neurons = [[5, 10, 10], [10, 15, 15], [20, 15, 20], [30, 30, 50]]\n",
    "batch_size = [160, 180]\n",
    "param_grid = dict(neurons=neurons, batch_size=batch_size)\n",
    "\n",
    "model = KerasClassifier(build_fn=create_model, epochs=32)\n",
    "grid = GridSearchCV(estimator=model, param_grid=param_grid, n_jobs=-1, cv=3, verbose=5)\n",
    "grid_result = grid.fit(X_train, y_train)\n",
    "\n",
    "# summarize results\n",
    "print(\"Best: %f using %s\" % (grid_result.best_score_, grid_result.best_params_))\n",
    "means = grid_result.cv_results_['mean_test_score']\n",
    "stds = grid_result.cv_results_['std_test_score']\n",
    "params = grid_result.cv_results_['params']\n",
    "for mean, stdev, param in zip(means, stds, params):\n",
    "    print(\"%f (%f) with: %r\" % (mean, stdev, param))"
   ]
  },
  {
   "cell_type": "code",
   "execution_count": 16,
   "metadata": {},
   "outputs": [],
   "source": [
    "#i parametri migliori sono batch_size 180, neuroni [10, 15, 15], activation_function softmax\n",
    "#aumentando le epoche, il valore resta pressoché uguale\n",
    "model = grid_result.best_estimator_"
   ]
  },
  {
   "cell_type": "code",
   "execution_count": 17,
   "metadata": {},
   "outputs": [],
   "source": [
    "logs = Callback()"
   ]
  },
  {
   "cell_type": "code",
   "execution_count": 18,
   "metadata": {},
   "outputs": [
    {
     "name": "stdout",
     "output_type": "stream",
     "text": [
      "Epoch 1/32\n",
      "468/468 [==============================] - 23s 43ms/step - loss: 1.7088 - accuracy: 0.3864\n",
      "Epoch 2/32\n",
      "468/468 [==============================] - 20s 42ms/step - loss: 1.5066 - accuracy: 0.4464\n",
      "Epoch 3/32\n",
      "468/468 [==============================] - 20s 42ms/step - loss: 1.4972 - accuracy: 0.4497\n",
      "Epoch 4/32\n",
      "468/468 [==============================] - 20s 42ms/step - loss: 1.4935 - accuracy: 0.4513\n",
      "Epoch 5/32\n",
      "468/468 [==============================] - 20s 42ms/step - loss: 1.4914 - accuracy: 0.4523\n",
      "Epoch 6/32\n",
      "468/468 [==============================] - 19s 42ms/step - loss: 1.4904 - accuracy: 0.4517\n",
      "Epoch 7/32\n",
      "468/468 [==============================] - 20s 42ms/step - loss: 1.4889 - accuracy: 0.4528\n",
      "Epoch 8/32\n",
      "468/468 [==============================] - 20s 42ms/step - loss: 1.4882 - accuracy: 0.4532\n",
      "Epoch 9/32\n",
      "468/468 [==============================] - 20s 42ms/step - loss: 1.4875 - accuracy: 0.4545\n",
      "Epoch 10/32\n",
      "468/468 [==============================] - 20s 42ms/step - loss: 1.4868 - accuracy: 0.4524\n",
      "Epoch 11/32\n",
      "468/468 [==============================] - 20s 42ms/step - loss: 1.4864 - accuracy: 0.4542\n",
      "Epoch 12/32\n",
      "468/468 [==============================] - 20s 42ms/step - loss: 1.4857 - accuracy: 0.4532\n",
      "Epoch 13/32\n",
      "468/468 [==============================] - 20s 42ms/step - loss: 1.4853 - accuracy: 0.4539\n",
      "Epoch 14/32\n",
      "468/468 [==============================] - 20s 42ms/step - loss: 1.4838 - accuracy: 0.4544\n",
      "Epoch 15/32\n",
      "468/468 [==============================] - 20s 42ms/step - loss: 1.4841 - accuracy: 0.4543\n",
      "Epoch 16/32\n",
      "468/468 [==============================] - 20s 42ms/step - loss: 1.4838 - accuracy: 0.4549\n",
      "Epoch 17/32\n",
      "468/468 [==============================] - 20s 42ms/step - loss: 1.4833 - accuracy: 0.4552\n",
      "Epoch 18/32\n",
      "468/468 [==============================] - 20s 42ms/step - loss: 1.4827 - accuracy: 0.4545\n",
      "Epoch 19/32\n",
      "468/468 [==============================] - 20s 42ms/step - loss: 1.4825 - accuracy: 0.4560\n",
      "Epoch 20/32\n",
      "468/468 [==============================] - 20s 42ms/step - loss: 1.4826 - accuracy: 0.4547\n",
      "Epoch 21/32\n",
      "468/468 [==============================] - 20s 42ms/step - loss: 1.4824 - accuracy: 0.4550\n",
      "Epoch 22/32\n",
      "468/468 [==============================] - 20s 42ms/step - loss: 1.4814 - accuracy: 0.4560\n",
      "Epoch 23/32\n",
      "468/468 [==============================] - 20s 42ms/step - loss: 1.4815 - accuracy: 0.4554\n",
      "Epoch 24/32\n",
      "468/468 [==============================] - 20s 42ms/step - loss: 1.4811 - accuracy: 0.4559\n",
      "Epoch 25/32\n",
      "468/468 [==============================] - 20s 42ms/step - loss: 1.4807 - accuracy: 0.4555\n",
      "Epoch 26/32\n",
      "468/468 [==============================] - 20s 42ms/step - loss: 1.4805 - accuracy: 0.4559\n",
      "Epoch 27/32\n",
      "468/468 [==============================] - 20s 42ms/step - loss: 1.4802 - accuracy: 0.4569\n",
      "Epoch 28/32\n",
      "468/468 [==============================] - 20s 42ms/step - loss: 1.4801 - accuracy: 0.4574\n",
      "Epoch 29/32\n",
      "468/468 [==============================] - 20s 42ms/step - loss: 1.4792 - accuracy: 0.4576\n",
      "Epoch 30/32\n",
      "468/468 [==============================] - 20s 42ms/step - loss: 1.4795 - accuracy: 0.4570\n",
      "Epoch 31/32\n",
      "468/468 [==============================] - 20s 42ms/step - loss: 1.4792 - accuracy: 0.4565\n",
      "Epoch 32/32\n",
      "468/468 [==============================] - 20s 42ms/step - loss: 1.4790 - accuracy: 0.4578\n"
     ]
    }
   ],
   "source": [
    "history = model.fit(X_train, y_train, epochs=32, batch_size=180, verbose=1, callbacks=[logs])"
   ]
  },
  {
   "cell_type": "code",
   "execution_count": 19,
   "metadata": {},
   "outputs": [
    {
     "data": {
      "image/png": "[encoded data removed]",
      "text/plain": [
       "<Figure size 1000x600 with 1 Axes>"
      ]
     },
     "metadata": {},
     "output_type": "display_data"
    }
   ],
   "source": [
    "plt.figure(figsize=(10, 6))\n",
    "plt.plot(history.history['loss'], label='Training Loss')\n",
    "plt.xlabel('Epoch')\n",
    "plt.ylabel('Loss')\n",
    "plt.yscale('log') #log scale\n",
    "plt.title('Learning Curve - Loss')\n",
    "plt.legend()\n",
    "plt.grid(True)\n",
    "plt.show()"
   ]
  },
  {
   "cell_type": "code",
   "execution_count": 20,
   "metadata": {},
   "outputs": [
    {
     "data": {
      "image/png": "[encoded data removed]",
      "text/plain": [
       "<Figure size 1000x600 with 1 Axes>"
      ]
     },
     "metadata": {},
     "output_type": "display_data"
    }
   ],
   "source": [
    "plt.figure(figsize=(10, 6))\n",
    "plt.plot(history.history['accuracy'], label='Training Accuracy')\n",
    "plt.xlabel('Epoch')\n",
    "plt.ylabel('Accuracy')\n",
    "plt.yscale('log') #log scale\n",
    "plt.title('Learning Curve - Accuracy')\n",
    "plt.legend()\n",
    "plt.grid(True)\n",
    "plt.show()"
   ]
  },
  {
   "cell_type": "code",
   "execution_count": 21,
   "metadata": {},
   "outputs": [
    {
     "name": "stdout",
     "output_type": "stream",
     "text": [
      "132/132 [==============================] - 3s 17ms/step - loss: 1.4643 - accuracy: 0.4618\n",
      "Accuracy on the test set (in percentage): 46.18\n"
     ]
    }
   ],
   "source": [
    "print('Accuracy on the test set (in percentage): %.2f' %(model.score(X_test, y_test)*100))"
   ]
  }
 ],
 "metadata": {
  "kernelspec": {
   "display_name": "gsa2023",
   "language": "python",
   "name": "python3"
  },
  "language_info": {
   "codemirror_mode": {
    "name": "ipython",
    "version": 3
   },
   "file_extension": ".py",
   "mimetype": "text/x-python",
   "name": "python",
   "nbconvert_exporter": "python",
   "pygments_lexer": "ipython3",
   "version": "3.9.13"
  }
 },
 "nbformat": 4,
 "nbformat_minor": 2
}
