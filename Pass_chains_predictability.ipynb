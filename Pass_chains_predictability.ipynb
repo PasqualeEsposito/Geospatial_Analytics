{
 "cells": [
  {
   "cell_type": "markdown",
   "metadata": {},
   "source": [
    "# Project 4: Football matches as mobility networks\n",
    "During a football match, players move on the field to attack and defend. This generates a series of movements that can be analyzed to understand the players behavior.<br><br>\n",
    "The student should use the `Wyscout open dataset`, describing the “events” in all matches of seven competitions (e.g., passes, shots, tackles etc.), to analyze pass chains and the mobility of football players. A player’s movement is defined by consecutive events made by that player in the match.<br><br>\n",
    "- Investigate the distances traveled by players during their matches and their distributions. Discuss about the similarity of these distributions with those about mobility trajectories seen during the course.<br><br>\n",
    "- Relate the pass chains made by teams with the probability of making a shot, a goal, and to win a match. Are long chains more likely to lead to a shot/goal? Are short pass chains more successful?<br><br>\n",
    "- <b>Quantify the predictability of pass chains based on some division of the football field (tessellation). To what extent can we predict the next tile (field zone) where the ball will be? Use a next-location predictor to quantify the accuracy to predict the next zone the ball will be.</b>"
   ]
  },
  {
   "cell_type": "code",
   "execution_count": 1,
   "metadata": {},
   "outputs": [],
   "source": [
    "import json\n",
    "import pandas as pd\n",
    "import numpy as np\n",
    "from hmmlearn.hmm import CategoricalHMM\n",
    "from utils import *\n",
    "\n",
    "import warnings\n",
    "warnings.filterwarnings('ignore')"
   ]
  },
  {
   "cell_type": "markdown",
   "metadata": {},
   "source": [
    "### Data load"
   ]
  },
  {
   "cell_type": "code",
   "execution_count": 2,
   "metadata": {},
   "outputs": [],
   "source": [
    "# loading the events data\n",
    "events={}\n",
    "nations = ['Italy','England','Germany','France','Spain','European_Championship','World_Cup']\n",
    "for nation in nations:\n",
    "    with open('./data/events/events_%s.json' %nation) as json_data:\n",
    "        events[nation] = json.load(json_data)"
   ]
  },
  {
   "cell_type": "markdown",
   "metadata": {},
   "source": [
    "### JSON to DataFrame"
   ]
  },
  {
   "cell_type": "code",
   "execution_count": 3,
   "metadata": {},
   "outputs": [],
   "source": [
    "events_df = {\n",
    "    'Italy': pd.DataFrame(events['Italy']),\n",
    "    'England': pd.DataFrame(events['England']),\n",
    "    'Germany': pd.DataFrame(events['Germany']),\n",
    "    'France': pd.DataFrame(events['France']),\n",
    "    'Spain': pd.DataFrame(events['Spain']),\n",
    "    'European_Championship': pd.DataFrame(events['European_Championship']),\n",
    "    'World_Cup': pd.DataFrame(events['World_Cup'])\n",
    "}"
   ]
  },
  {
   "cell_type": "code",
   "execution_count": 4,
   "metadata": {},
   "outputs": [],
   "source": [
    "for championship in events_df:\n",
    "    if (championship == 'European_Championship') or (championship == 'World_Cup'):\n",
    "        events_df[championship] = events_df[championship][events_df[championship]['matchPeriod'] != 'P']\n",
    "    events_df[championship] = events_df[championship][(events_df[championship]['eventId'] != 1) & (~events_df[championship]['subEventId'].isin([11, 12]))].reset_index(drop=True)\n",
    "    events_df[championship] = events_df[championship][(events_df[championship]['subEventName'] != 'Goal kick')].reset_index(drop=True)\n",
    "    events_df[championship].drop(columns=['tags', 'eventName', 'subEventId', 'id'], inplace=True)"
   ]
  },
  {
   "cell_type": "code",
   "execution_count": 5,
   "metadata": {},
   "outputs": [],
   "source": [
    "for nation in nations:\n",
    "    events_df[nation]['positions'] = events_df[nation]['positions'].apply(lambda x: from_coords_to_tesselation(x))\n",
    "    events_df[nation].rename(columns={'positions': 'tessellation'}, inplace=True)"
   ]
  },
  {
   "cell_type": "code",
   "execution_count": 6,
   "metadata": {},
   "outputs": [
    {
     "data": {
      "image/png": "[encoded data removed]",
      "text/plain": [
       "<Figure size 640x480 with 1 Axes>"
      ]
     },
     "metadata": {},
     "output_type": "display_data"
    }
   ],
   "source": [
    "draw_pitch_tessellation()"
   ]
  },
  {
   "cell_type": "code",
   "execution_count": 7,
   "metadata": {},
   "outputs": [],
   "source": [
    "pass_chains = {}\n",
    "\n",
    "current_team_id = None\n",
    "current_pass_chain = []\n",
    "last_pass_event_index = {}\n",
    "\n",
    "for nation in nations:\n",
    "    for index, row in events_df[nation].iterrows():\n",
    "        if row['eventId'] in [3, 8]:\n",
    "            if row['teamId'] != current_team_id:\n",
    "                if current_pass_chain:\n",
    "                    pass_chains[index] = current_pass_chain\n",
    "                current_team_id = row['teamId']\n",
    "                current_pass_chain = [row['tessellation']]\n",
    "                last_pass_event_index[current_team_id] = index\n",
    "            else:\n",
    "                current_pass_chain.append(row['tessellation'])\n",
    "                last_pass_event_index[current_team_id] = index\n",
    "        else:\n",
    "            if row['teamId'] != current_team_id:\n",
    "                if current_pass_chain:\n",
    "                    pass_chains[last_pass_event_index[current_team_id]] = current_pass_chain\n",
    "                current_team_id = row['teamId']\n",
    "                current_pass_chain = []\n",
    "\n",
    "if current_pass_chain:\n",
    "    pass_chains[last_pass_event_index[current_team_id]] = current_pass_chain"
   ]
  },
  {
   "cell_type": "code",
   "execution_count": 26,
   "metadata": {},
   "outputs": [],
   "source": [
    "# deletes the pairs key-value with a length of the value less than 2\n",
    "pass_chain = [chain for chain in pass_chains.values() if len(chain) > 1]"
   ]
  },
  {
   "cell_type": "code",
   "execution_count": 27,
   "metadata": {},
   "outputs": [
    {
     "data": {
      "text/plain": [
       "202784"
      ]
     },
     "execution_count": 27,
     "metadata": {},
     "output_type": "execute_result"
    }
   ],
   "source": [
    "len(pass_chain)"
   ]
  },
  {
   "cell_type": "code",
   "execution_count": 19,
   "metadata": {},
   "outputs": [],
   "source": [
    "import random"
   ]
  },
  {
   "cell_type": "code",
   "execution_count": 29,
   "metadata": {},
   "outputs": [],
   "source": [
    "random.seed(42)\n",
    "random.shuffle(pass_chain)"
   ]
  },
  {
   "cell_type": "code",
   "execution_count": 34,
   "metadata": {},
   "outputs": [],
   "source": [
    "test_set = pass_chain[:int(len(pass_chain)*0.2)]\n",
    "train_set = pass_chain[int(len(pass_chain)*0.2):]"
   ]
  },
  {
   "cell_type": "code",
   "execution_count": 36,
   "metadata": {},
   "outputs": [
    {
     "data": {
      "text/plain": [
       "202784"
      ]
     },
     "execution_count": 36,
     "metadata": {},
     "output_type": "execute_result"
    }
   ],
   "source": [
    "len(train_set) + len(test_set)"
   ]
  },
  {
   "cell_type": "code",
   "execution_count": 38,
   "metadata": {},
   "outputs": [],
   "source": [
    "merge = []\n",
    "for list in train_set:\n",
    "    merge.extend(list)\n",
    "    merge.append(10)"
   ]
  },
  {
   "cell_type": "code",
   "execution_count": 39,
   "metadata": {},
   "outputs": [],
   "source": [
    "seq_tessellation = []\n",
    "dict_tessellation = {}\n",
    "list_tessellation = []\n",
    "for t in merge:\n",
    "    if t not in dict_tessellation:\n",
    "        dict_tessellation[t] = len(dict_tessellation)\n",
    "        list_tessellation.append(t)\n",
    "    seq_tessellation.append([dict_tessellation[t]])"
   ]
  },
  {
   "cell_type": "code",
   "execution_count": 40,
   "metadata": {},
   "outputs": [],
   "source": [
    "dataset = np.array(seq_tessellation).reshape(-1, 1)"
   ]
  },
  {
   "cell_type": "code",
   "execution_count": 41,
   "metadata": {},
   "outputs": [],
   "source": [
    "# Fit the HMM model\n",
    "model = CategoricalHMM(n_components=9, n_iter=10).fit(dataset)"
   ]
  },
  {
   "cell_type": "code",
   "execution_count": 42,
   "metadata": {},
   "outputs": [
    {
     "name": "stdout",
     "output_type": "stream",
     "text": [
      "Model parameters:\n",
      "Initial state distribution:\n",
      "[9.11946706e-09 1.77804605e-15 1.25748795e-17 2.98187391e-17\n",
      " 3.35880169e-17 9.99999991e-01 1.18624870e-19 3.07704513e-23\n",
      " 1.68491907e-27]\n",
      "Transition matrix:\n",
      "[[6.16251624e-01 6.16023004e-05 3.42914809e-07 8.87054820e-09\n",
      "  2.55579367e-01 1.24465724e-01 6.18412812e-04 2.24585566e-03\n",
      "  7.77061803e-04]\n",
      " [2.43831931e-02 4.49254407e-01 3.41734623e-01 1.57161087e-05\n",
      "  1.47789439e-01 1.50633426e-03 1.73734496e-07 3.53158841e-02\n",
      "  2.29557397e-07]\n",
      " [7.86517005e-11 7.10942295e-02 2.82846769e-06 2.79443232e-08\n",
      "  6.57140310e-01 3.49891752e-04 4.24114531e-05 2.66203999e-01\n",
      "  5.16630220e-03]\n",
      " [8.55222549e-01 7.34506414e-03 4.47223578e-03 8.14352518e-04\n",
      "  7.97814688e-07 4.65132788e-03 6.89441768e-03 3.59316974e-02\n",
      "  8.46675579e-02]\n",
      " [3.08107831e-01 7.07251934e-15 1.33007974e-07 2.00070287e-05\n",
      "  1.82998826e-03 5.16154809e-01 2.30678100e-10 1.21935071e-01\n",
      "  5.19521602e-02]\n",
      " [2.46453786e-08 1.93589182e-01 4.17472810e-05 1.43783691e-01\n",
      "  7.85370985e-10 6.57255504e-01 5.32982539e-03 1.92358286e-09\n",
      "  2.31100129e-08]\n",
      " [9.30411682e-01 1.73042563e-10 2.02091931e-05 4.13426594e-02\n",
      "  1.22337558e-12 1.60461863e-02 9.65110584e-06 1.21696120e-02\n",
      "  1.70683769e-10]\n",
      " [1.19724562e-06 1.31459291e-02 2.48091872e-01 8.88313037e-02\n",
      "  5.82446441e-03 3.87852640e-05 9.91583450e-05 3.57864161e-06\n",
      "  6.43963711e-01]\n",
      " [5.70824049e-08 5.85281914e-09 8.37469810e-02 2.39085639e-03\n",
      "  4.29172710e-01 2.17011052e-13 6.75485181e-07 6.18910992e-02\n",
      "  4.22797615e-01]]\n",
      "Emission probabilities:\n",
      "[[1.00986750e-01 8.72470296e-04 1.66725708e-02 1.45764712e-01\n",
      "  2.46843611e-01 4.53775826e-01 2.10674504e-05 2.29958893e-03\n",
      "  2.86671168e-03 2.98966916e-02]\n",
      " [3.82575576e-03 4.64534820e-03 5.47242627e-02 2.58409044e-01\n",
      "  9.55479552e-04 1.16334556e-02 3.41692854e-01 2.61436220e-01\n",
      "  6.04206380e-02 2.25694233e-03]\n",
      " [1.78486263e-03 2.17676481e-04 1.15006858e-02 1.27787187e-01\n",
      "  3.90905576e-05 1.47211843e-01 3.41417632e-01 3.18479418e-02\n",
      "  2.13654755e-01 1.24538325e-01]\n",
      " [2.65981637e-01 2.52431891e-02 4.05040672e-01 9.49212292e-02\n",
      "  7.38405730e-02 1.33046886e-01 6.14782766e-06 3.93842105e-05\n",
      "  2.19029426e-05 1.85837853e-03]\n",
      " [2.31923067e-03 2.30802806e-04 7.39605605e-01 1.20206814e-01\n",
      "  4.06253504e-03 8.57207071e-02 1.99394689e-03 1.03678964e-02\n",
      "  1.91526813e-02 1.63397804e-02]\n",
      " [1.53108169e-01 2.07894989e-01 9.50295978e-02 7.11370650e-02\n",
      "  1.56345447e-02 1.37863771e-03 8.58583824e-02 3.64763875e-01\n",
      "  5.11736028e-03 7.73794734e-05]\n",
      " [3.77916245e-01 3.80402167e-02 7.66795621e-02 1.46939728e-01\n",
      "  3.27379671e-01 2.10180218e-02 4.18299059e-06 1.18937640e-02\n",
      "  6.87049532e-05 5.99035894e-05]\n",
      " [9.64809984e-04 4.77774732e-04 7.27867422e-02 3.93126805e-02\n",
      "  1.84594886e-03 3.17880621e-01 3.48002859e-02 2.76198620e-03\n",
      "  2.04486334e-01 3.24682816e-01]\n",
      " [1.64204371e-05 3.74184739e-06 1.40770347e-03 1.28811389e-03\n",
      "  5.84842037e-06 2.09475860e-02 1.36373035e-03 6.64038142e-06\n",
      "  8.03941200e-02 8.94566095e-01]]\n"
     ]
    }
   ],
   "source": [
    "# Print the model parameters\n",
    "print(\"Model parameters:\")\n",
    "print(\"Initial state distribution:\")\n",
    "print(model.startprob_)\n",
    "print(\"Transition matrix:\")\n",
    "print(model.transmat_)\n",
    "print(\"Emission probabilities:\")\n",
    "print(model.emissionprob_)"
   ]
  },
  {
   "cell_type": "code",
   "execution_count": 45,
   "metadata": {},
   "outputs": [
    {
     "data": {
      "image/png": "[encoded data removed]",
      "text/plain": [
       "<Figure size 640x480 with 2 Axes>"
      ]
     },
     "metadata": {},
     "output_type": "display_data"
    }
   ],
   "source": [
    "sns.heatmap(pd.DataFrame(model.transmat_*100), square=True, linewidth=.5)\n",
    "plt.show()"
   ]
  },
  {
   "cell_type": "code",
   "execution_count": 65,
   "metadata": {},
   "outputs": [
    {
     "data": {
      "image/png": "[encoded data removed]",
      "text/plain": [
       "<Figure size 640x480 with 1 Axes>"
      ]
     },
     "metadata": {},
     "output_type": "display_data"
    }
   ],
   "source": [
    "draw_pitch_tessellation()"
   ]
  },
  {
   "cell_type": "code",
   "execution_count": 47,
   "metadata": {},
   "outputs": [
    {
     "name": "stdout",
     "output_type": "stream",
     "text": [
      "Likelihood score: -12.838897674734202\n"
     ]
    }
   ],
   "source": [
    "total_score = 0\n",
    "for test in test_set:\n",
    "    test = np.array(test).reshape(-1, 1)\n",
    "    total_score += model.score(test)\n",
    "\n",
    "print(\"Likelihood score:\", total_score/len(test_set))"
   ]
  }
 ],
 "metadata": {
  "kernelspec": {
   "display_name": "gsa2023",
   "language": "python",
   "name": "python3"
  },
  "language_info": {
   "codemirror_mode": {
    "name": "ipython",
    "version": 3
   },
   "file_extension": ".py",
   "mimetype": "text/x-python",
   "name": "python",
   "nbconvert_exporter": "python",
   "pygments_lexer": "ipython3",
   "version": "3.9.18"
  }
 },
 "nbformat": 4,
 "nbformat_minor": 2
}
