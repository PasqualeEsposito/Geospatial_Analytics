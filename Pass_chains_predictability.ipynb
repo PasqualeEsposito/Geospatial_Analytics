{
 "cells": [
  {
   "cell_type": "markdown",
   "metadata": {},
   "source": [
    "# Project 4: Football matches as mobility networks\n",
    "During a football match, players move on the field to attack and defend. This generates a series of movements that can be analyzed to understand the players behavior.<br><br>\n",
    "The student should use the `Wyscout open dataset`, describing the “events” in all matches of seven competitions (e.g., passes, shots, tackles etc.), to analyze pass chains and the mobility of football players. A player’s movement is defined by consecutive events made by that player in the match.<br><br>\n",
    "- Investigate the distances traveled by players during their matches and their distributions. Discuss about the similarity of these distributions with those about mobility trajectories seen during the course.<br><br>\n",
    "- Relate the pass chains made by teams with the probability of making a shot, a goal, and to win a match. Are long chains more likely to lead to a shot/goal? Are short pass chains more successful?<br><br>\n",
    "- <b>Quantify the predictability of pass chains based on some division of the football field (tessellation). To what extent can we predict the next tile (field zone) where the ball will be? Use a next-location predictor to quantify the accuracy to predict the next zone the ball will be.</b>\n",
    "\n",
    "The dataset can be download here: https://figshare.com/collections/Soccer_match_event_dataset/4415000/2."
   ]
  },
  {
   "cell_type": "code",
   "execution_count": 1,
   "metadata": {},
   "outputs": [
    {
     "name": "stderr",
     "output_type": "stream",
     "text": [
      "C:\\Users\\espos\\AppData\\Roaming\\Python\\Python39\\site-packages\\scipy\\__init__.py:177: UserWarning: A NumPy version >=1.18.5 and <1.26.0 is required for this version of SciPy (detected version 1.26.4\n",
      "  warnings.warn(f\"A NumPy version >={np_minversion} and <{np_maxversion}\"\n"
     ]
    }
   ],
   "source": [
    "import json\n",
    "import pandas as pd\n",
    "import numpy as np\n",
    "import pickle\n",
    "\n",
    "from utils import *\n",
    "from numpy import shape\n",
    "from tensorflow import keras\n",
    "from tensorflow.keras.preprocessing.sequence import pad_sequences\n",
    "from tensorflow.keras.utils import to_categorical\n",
    "from keras.wrappers.scikit_learn import KerasClassifier\n",
    "from keras.models import Sequential\n",
    "from keras.layers import Dense, SimpleRNN\n",
    "from sklearn.model_selection import GridSearchCV\n",
    "from keras.callbacks import Callback\n",
    "\n",
    "import warnings\n",
    "warnings.filterwarnings('ignore')"
   ]
  },
  {
   "cell_type": "markdown",
   "metadata": {},
   "source": [
    "### Data load"
   ]
  },
  {
   "cell_type": "code",
   "execution_count": 2,
   "metadata": {},
   "outputs": [],
   "source": [
    "# loading the events data\n",
    "events={}\n",
    "nations = ['Italy','England','Germany','France','Spain','European_Championship','World_Cup']\n",
    "for nation in nations:\n",
    "    with open('./data/events/events_%s.json' %nation) as json_data:\n",
    "        events[nation] = json.load(json_data)"
   ]
  },
  {
   "cell_type": "markdown",
   "metadata": {},
   "source": [
    "### JSON to DataFrame"
   ]
  },
  {
   "cell_type": "code",
   "execution_count": 3,
   "metadata": {},
   "outputs": [],
   "source": [
    "events_df = {\n",
    "    'Italy': pd.DataFrame(events['Italy']),\n",
    "    'England': pd.DataFrame(events['England']),\n",
    "    'Germany': pd.DataFrame(events['Germany']),\n",
    "    'France': pd.DataFrame(events['France']),\n",
    "    'Spain': pd.DataFrame(events['Spain']),\n",
    "    'European_Championship': pd.DataFrame(events['European_Championship']),\n",
    "    'World_Cup': pd.DataFrame(events['World_Cup'])\n",
    "}"
   ]
  },
  {
   "cell_type": "markdown",
   "metadata": {},
   "source": [
    "### Preprocessing"
   ]
  },
  {
   "cell_type": "markdown",
   "metadata": {},
   "source": [
    "The dataset is cleaned, removing the duels that occur during a match, as was done in the previous task."
   ]
  },
  {
   "cell_type": "code",
   "execution_count": 4,
   "metadata": {},
   "outputs": [],
   "source": [
    "for championship in events_df:\n",
    "    if (championship == 'European_Championship') or (championship == 'World_Cup'):\n",
    "        events_df[championship] = events_df[championship][events_df[championship]['matchPeriod'] != 'P']\n",
    "    events_df[championship] = events_df[championship][(events_df[championship]['eventId'] != 1) & (~events_df[championship]['subEventId'].isin([11, 12]))].reset_index(drop=True)\n",
    "    events_df[championship] = events_df[championship][(events_df[championship]['subEventName'] != 'Goal kick')].reset_index(drop=True)\n",
    "    events_df[championship].drop(columns=['tags', 'eventName', 'subEventId', 'id'], inplace=True)"
   ]
  },
  {
   "cell_type": "markdown",
   "metadata": {},
   "source": [
    "Furthermore, each initial position of an event is now transformed into a numerical value between 0 and 8. Each numerical value corresponds to a tile of the football field; the values of the tiles are visible in the graph below:"
   ]
  },
  {
   "cell_type": "code",
   "execution_count": 2,
   "metadata": {},
   "outputs": [
    {
     "data": {
      "image/png": "[encoded data removed]",
      "text/plain": [
       "<Figure size 1040x680 with 1 Axes>"
      ]
     },
     "metadata": {},
     "output_type": "display_data"
    }
   ],
   "source": [
    "draw_tessellation()"
   ]
  },
  {
   "cell_type": "code",
   "execution_count": 6,
   "metadata": {},
   "outputs": [
    {
     "data": {
      "text/html": [
       "<div>\n",
       "<style scoped>\n",
       "    .dataframe tbody tr th:only-of-type {\n",
       "        vertical-align: middle;\n",
       "    }\n",
       "\n",
       "    .dataframe tbody tr th {\n",
       "        vertical-align: top;\n",
       "    }\n",
       "\n",
       "    .dataframe thead th {\n",
       "        text-align: right;\n",
       "    }\n",
       "</style>\n",
       "<table border=\"1\" class=\"dataframe\">\n",
       "  <thead>\n",
       "    <tr style=\"text-align: right;\">\n",
       "      <th></th>\n",
       "      <th>eventId</th>\n",
       "      <th>subEventName</th>\n",
       "      <th>playerId</th>\n",
       "      <th>positions</th>\n",
       "      <th>matchId</th>\n",
       "      <th>teamId</th>\n",
       "      <th>matchPeriod</th>\n",
       "      <th>eventSec</th>\n",
       "    </tr>\n",
       "  </thead>\n",
       "  <tbody>\n",
       "    <tr>\n",
       "      <th>0</th>\n",
       "      <td>8</td>\n",
       "      <td>Simple pass</td>\n",
       "      <td>253784</td>\n",
       "      <td>[{'y': 51, 'x': 50}, {'y': 46, 'x': 31}]</td>\n",
       "      <td>2500686</td>\n",
       "      <td>3799</td>\n",
       "      <td>1H</td>\n",
       "      <td>1.935181</td>\n",
       "    </tr>\n",
       "    <tr>\n",
       "      <th>1</th>\n",
       "      <td>8</td>\n",
       "      <td>High pass</td>\n",
       "      <td>29474</td>\n",
       "      <td>[{'y': 46, 'x': 31}, {'y': 74, 'x': 68}]</td>\n",
       "      <td>2500686</td>\n",
       "      <td>3799</td>\n",
       "      <td>1H</td>\n",
       "      <td>3.599295</td>\n",
       "    </tr>\n",
       "    <tr>\n",
       "      <th>2</th>\n",
       "      <td>7</td>\n",
       "      <td>Touch</td>\n",
       "      <td>26389</td>\n",
       "      <td>[{'y': 38, 'x': 30}, {'y': 40, 'x': 27}]</td>\n",
       "      <td>2500686</td>\n",
       "      <td>3772</td>\n",
       "      <td>1H</td>\n",
       "      <td>12.260977</td>\n",
       "    </tr>\n",
       "    <tr>\n",
       "      <th>3</th>\n",
       "      <td>7</td>\n",
       "      <td>Touch</td>\n",
       "      <td>26265</td>\n",
       "      <td>[{'y': 80, 'x': 67}, {'y': 60, 'x': 73}]</td>\n",
       "      <td>2500686</td>\n",
       "      <td>3799</td>\n",
       "      <td>1H</td>\n",
       "      <td>13.344344</td>\n",
       "    </tr>\n",
       "    <tr>\n",
       "      <th>4</th>\n",
       "      <td>8</td>\n",
       "      <td>Simple pass</td>\n",
       "      <td>56441</td>\n",
       "      <td>[{'y': 40, 'x': 27}, {'y': 40, 'x': 34}]</td>\n",
       "      <td>2500686</td>\n",
       "      <td>3772</td>\n",
       "      <td>1H</td>\n",
       "      <td>13.710413</td>\n",
       "    </tr>\n",
       "  </tbody>\n",
       "</table>\n",
       "</div>"
      ],
      "text/plain": [
       "   eventId subEventName  playerId                                 positions  \\\n",
       "0        8  Simple pass    253784  [{'y': 51, 'x': 50}, {'y': 46, 'x': 31}]   \n",
       "1        8    High pass     29474  [{'y': 46, 'x': 31}, {'y': 74, 'x': 68}]   \n",
       "2        7        Touch     26389  [{'y': 38, 'x': 30}, {'y': 40, 'x': 27}]   \n",
       "3        7        Touch     26265  [{'y': 80, 'x': 67}, {'y': 60, 'x': 73}]   \n",
       "4        8  Simple pass     56441  [{'y': 40, 'x': 27}, {'y': 40, 'x': 34}]   \n",
       "\n",
       "   matchId  teamId matchPeriod   eventSec  \n",
       "0  2500686    3799          1H   1.935181  \n",
       "1  2500686    3799          1H   3.599295  \n",
       "2  2500686    3772          1H  12.260977  \n",
       "3  2500686    3799          1H  13.344344  \n",
       "4  2500686    3772          1H  13.710413  "
      ]
     },
     "execution_count": 6,
     "metadata": {},
     "output_type": "execute_result"
    }
   ],
   "source": [
    "events_df['France'].head()"
   ]
  },
  {
   "cell_type": "code",
   "execution_count": 7,
   "metadata": {},
   "outputs": [],
   "source": [
    "for nation in nations:\n",
    "    events_df[nation]['positions'] = events_df[nation]['positions'].apply(lambda x: from_coords_to_tesselation(x))\n",
    "    events_df[nation].rename(columns={'positions': 'tessellation'}, inplace=True)"
   ]
  },
  {
   "cell_type": "code",
   "execution_count": 8,
   "metadata": {},
   "outputs": [
    {
     "data": {
      "text/html": [
       "<div>\n",
       "<style scoped>\n",
       "    .dataframe tbody tr th:only-of-type {\n",
       "        vertical-align: middle;\n",
       "    }\n",
       "\n",
       "    .dataframe tbody tr th {\n",
       "        vertical-align: top;\n",
       "    }\n",
       "\n",
       "    .dataframe thead th {\n",
       "        text-align: right;\n",
       "    }\n",
       "</style>\n",
       "<table border=\"1\" class=\"dataframe\">\n",
       "  <thead>\n",
       "    <tr style=\"text-align: right;\">\n",
       "      <th></th>\n",
       "      <th>eventId</th>\n",
       "      <th>subEventName</th>\n",
       "      <th>playerId</th>\n",
       "      <th>tessellation</th>\n",
       "      <th>matchId</th>\n",
       "      <th>teamId</th>\n",
       "      <th>matchPeriod</th>\n",
       "      <th>eventSec</th>\n",
       "    </tr>\n",
       "  </thead>\n",
       "  <tbody>\n",
       "    <tr>\n",
       "      <th>0</th>\n",
       "      <td>8</td>\n",
       "      <td>Simple pass</td>\n",
       "      <td>253784</td>\n",
       "      <td>4</td>\n",
       "      <td>2500686</td>\n",
       "      <td>3799</td>\n",
       "      <td>1H</td>\n",
       "      <td>1.935181</td>\n",
       "    </tr>\n",
       "    <tr>\n",
       "      <th>1</th>\n",
       "      <td>8</td>\n",
       "      <td>High pass</td>\n",
       "      <td>29474</td>\n",
       "      <td>1</td>\n",
       "      <td>2500686</td>\n",
       "      <td>3799</td>\n",
       "      <td>1H</td>\n",
       "      <td>3.599295</td>\n",
       "    </tr>\n",
       "    <tr>\n",
       "      <th>2</th>\n",
       "      <td>7</td>\n",
       "      <td>Touch</td>\n",
       "      <td>26389</td>\n",
       "      <td>1</td>\n",
       "      <td>2500686</td>\n",
       "      <td>3772</td>\n",
       "      <td>1H</td>\n",
       "      <td>12.260977</td>\n",
       "    </tr>\n",
       "    <tr>\n",
       "      <th>3</th>\n",
       "      <td>7</td>\n",
       "      <td>Touch</td>\n",
       "      <td>26265</td>\n",
       "      <td>8</td>\n",
       "      <td>2500686</td>\n",
       "      <td>3799</td>\n",
       "      <td>1H</td>\n",
       "      <td>13.344344</td>\n",
       "    </tr>\n",
       "    <tr>\n",
       "      <th>4</th>\n",
       "      <td>8</td>\n",
       "      <td>Simple pass</td>\n",
       "      <td>56441</td>\n",
       "      <td>1</td>\n",
       "      <td>2500686</td>\n",
       "      <td>3772</td>\n",
       "      <td>1H</td>\n",
       "      <td>13.710413</td>\n",
       "    </tr>\n",
       "  </tbody>\n",
       "</table>\n",
       "</div>"
      ],
      "text/plain": [
       "   eventId subEventName  playerId  tessellation  matchId  teamId matchPeriod  \\\n",
       "0        8  Simple pass    253784             4  2500686    3799          1H   \n",
       "1        8    High pass     29474             1  2500686    3799          1H   \n",
       "2        7        Touch     26389             1  2500686    3772          1H   \n",
       "3        7        Touch     26265             8  2500686    3799          1H   \n",
       "4        8  Simple pass     56441             1  2500686    3772          1H   \n",
       "\n",
       "    eventSec  \n",
       "0   1.935181  \n",
       "1   3.599295  \n",
       "2  12.260977  \n",
       "3  13.344344  \n",
       "4  13.710413  "
      ]
     },
     "execution_count": 8,
     "metadata": {},
     "output_type": "execute_result"
    }
   ],
   "source": [
    "events_df['France'].head()"
   ]
  },
  {
   "cell_type": "markdown",
   "metadata": {},
   "source": [
    "The following code snippet calculates all the passing chains present in all the leagues present in the dataset. Subsequently, all passing chains with a length less than 3 will be eliminated from the created dictionary, thus trying to consider only more or less relevant passing chains."
   ]
  },
  {
   "cell_type": "code",
   "execution_count": 9,
   "metadata": {},
   "outputs": [],
   "source": [
    "pass_chains = {}\n",
    "\n",
    "current_team_id = None\n",
    "current_pass_chain = []\n",
    "last_pass_event_index = {}\n",
    "\n",
    "for nation in nations:\n",
    "    for index, row in events_df[nation].iterrows():\n",
    "        if row['eventId'] in [3, 8]:\n",
    "            if row['teamId'] != current_team_id:\n",
    "                if current_pass_chain:\n",
    "                    pass_chains[index] = current_pass_chain\n",
    "                current_team_id = row['teamId']\n",
    "                current_pass_chain = [row['tessellation']]\n",
    "                last_pass_event_index[current_team_id] = index\n",
    "            else:\n",
    "                current_pass_chain.append(row['tessellation'])\n",
    "                last_pass_event_index[current_team_id] = index\n",
    "        else:\n",
    "            if row['teamId'] != current_team_id:\n",
    "                if current_pass_chain:\n",
    "                    pass_chains[last_pass_event_index[current_team_id]] = current_pass_chain\n",
    "                current_team_id = row['teamId']\n",
    "                current_pass_chain = []\n",
    "\n",
    "if current_pass_chain:\n",
    "    pass_chains[last_pass_event_index[current_team_id]] = current_pass_chain"
   ]
  },
  {
   "cell_type": "code",
   "execution_count": 10,
   "metadata": {},
   "outputs": [],
   "source": [
    "# deletes the passes chains with less than 4 passes\n",
    "pass_chains = [chain for chain in pass_chains.values() if len(chain) > 3]"
   ]
  },
  {
   "cell_type": "markdown",
   "metadata": {},
   "source": [
    "### Recurrent Neural Network (RNN)"
   ]
  },
  {
   "cell_type": "markdown",
   "metadata": {},
   "source": [
    "To quantify the predictability of passes made during a football match, it was decided to use a recurrent neural network.\n",
    "\n",
    "Recurrent neural networks (RNNs) are able to learn dependencies between subsequent elements of a sequence and use these dependencies to make predictions or generate new data. RNNs are composed of a series of recurrent units, which are connected to each other in a cyclical manner. This allows the units to \"remember\" information from the previous elements of the sequence and use it to process the subsequent elements."
   ]
  },
  {
   "cell_type": "markdown",
   "metadata": {},
   "source": [
    "To use an RNN, it must first be trained. To train it, the data must be structured in a way that it can be fed into the model. To do this, a dummy value (9) is added to the beginning of each passing chain, so that all passing chains have the same length, equal to the maximum length of a passing chain. Subsequently, one-hot encoding is performed on these sequences that will need to be fed into the model."
   ]
  },
  {
   "cell_type": "code",
   "execution_count": 11,
   "metadata": {},
   "outputs": [],
   "source": [
    "# Determine maximum sequence length\n",
    "max_length = max(len(seq) for seq in pass_chains)\n",
    "\n",
    "# Pad sequences\n",
    "padded_data = pad_sequences(pass_chains, maxlen=max_length, padding='pre', value=9)\n",
    "\n",
    "# One-hot encode if needed (assuming the data is categorical)\n",
    "one_hot_data = to_categorical(padded_data)"
   ]
  },
  {
   "cell_type": "markdown",
   "metadata": {},
   "source": [
    "The entire dataset is then split vertically into two parts:\n",
    "\n",
    "- X contains all the n-1 tiles of a passing chain\n",
    "\n",
    "- y contains the n-th tile, where the ball will be located\n",
    "\n",
    "Additionally, both X and y have been split into training and test sets."
   ]
  },
  {
   "cell_type": "code",
   "execution_count": 12,
   "metadata": {},
   "outputs": [
    {
     "name": "stdout",
     "output_type": "stream",
     "text": [
      "Shape of the training set: (84130, 82, 10)\n",
      "Shape of the test set: (21033, 82, 10)\n",
      "Shape of the training labels: (84130, 10)\n",
      "Shape of the test labels: (21033, 10)\n"
     ]
    }
   ],
   "source": [
    "X = one_hot_data[:, :-1, :]  # Features (input data)\n",
    "y = one_hot_data[:, -1, :]   # Target variable (to be predicted)\n",
    "\n",
    "# Split the data into training and test sets\n",
    "num_samples = len(X)\n",
    "train_size = int(0.8 * num_samples)\n",
    "\n",
    "X_train, X_test = X[:train_size], X[train_size:]\n",
    "y_train, y_test = y[:train_size], y[train_size:]\n",
    "\n",
    "print('Shape of the training set:', shape(X_train))\n",
    "print('Shape of the test set:', shape(X_test))\n",
    "print('Shape of the training labels:', shape(y_train))\n",
    "print('Shape of the test labels:', shape(y_test))"
   ]
  },
  {
   "cell_type": "markdown",
   "metadata": {},
   "source": [
    "To find the best combination of hyperparameters for training the model, a grid search with cross-validation was used. This is why it was not necessary to generate a validation set in the previous step. In addition, the following function was defined to create the model object:"
   ]
  },
  {
   "cell_type": "code",
   "execution_count": 13,
   "metadata": {},
   "outputs": [],
   "source": [
    "def create_model(neurons):\n",
    "    model = Sequential()\n",
    "    model.add(SimpleRNN(units=neurons[0], input_shape=(max_length-1, one_hot_data.shape[2]), return_sequences=True))\n",
    "    model.add(SimpleRNN(units=neurons[1], input_shape=(max_length-1, one_hot_data.shape[2]), return_sequences=True))\n",
    "    model.add(SimpleRNN(units=neurons[2], input_shape=(max_length-1, one_hot_data.shape[2])))\n",
    "    model.add(Dense(units=y.shape[1], activation='softmax'))\n",
    "    model.compile(optimizer='adam', loss='categorical_crossentropy', metrics=['accuracy'])\n",
    "    return model"
   ]
  },
  {
   "cell_type": "markdown",
   "metadata": {},
   "source": [
    "A grid search was performed multiple times to find the most suitable number of epochs, batch size, number of layers, activation function and nodes within each layer to make the RNN model as accurate as possible with good generalization capabilities."
   ]
  },
  {
   "cell_type": "code",
   "execution_count": null,
   "metadata": {},
   "outputs": [],
   "source": [
    "#This is the grid search used to look for the best hyperparameters... it takes a lot of time to run :)\n",
    "#The fine tuned parameters are: neurons and batch_size; however, a previous grid search was performed to find the best number of epochs\n",
    "#and the best activation function for the output layer.\n",
    "\"\"\"neurons = [[5, 10, 10], [10, 15, 15], [20, 15, 20], [30, 30, 50]]\n",
    "batch_size = [160, 180]\n",
    "param_grid = dict(neurons=neurons, batch_size=batch_size)\n",
    "\n",
    "model = KerasClassifier(build_fn=create_model, epochs=32)\n",
    "grid = GridSearchCV(estimator=model, param_grid=param_grid, n_jobs=-1, cv=3, verbose=5)\n",
    "grid_result = grid.fit(X_train, y_train)\n",
    "\n",
    "# summarize results\n",
    "print(\"Best: %f using %s\" % (grid_result.best_score_, grid_result.best_params_))\n",
    "means = grid_result.cv_results_['mean_test_score']\n",
    "stds = grid_result.cv_results_['std_test_score']\n",
    "params = grid_result.cv_results_['params']\n",
    "for mean, stdev, param in zip(means, stds, params):\n",
    "    print(\"%f (%f) with: %r\" % (mean, stdev, param))\"\"\""
   ]
  },
  {
   "cell_type": "code",
   "execution_count": 15,
   "metadata": {},
   "outputs": [],
   "source": [
    "# the best parameters are epochs=32, batch_size=160, neurons=[20, 15, 20], activation_function=softmax\n",
    "#model = grid_result.best_estimator_"
   ]
  },
  {
   "cell_type": "code",
   "execution_count": null,
   "metadata": {},
   "outputs": [],
   "source": [
    "\"\"\"model = KerasClassifier(build_fn=create_model, epochs=32, batch_size=160, neurons=[20, 15, 20])\"\"\""
   ]
  },
  {
   "cell_type": "code",
   "execution_count": null,
   "metadata": {},
   "outputs": [],
   "source": [
    "\"\"\"logs = Callback()\"\"\""
   ]
  },
  {
   "cell_type": "code",
   "execution_count": null,
   "metadata": {},
   "outputs": [],
   "source": [
    "\"\"\"history = model.fit(X_train, y_train, epochs=32, batch_size=180, verbose=0, callbacks=[logs])\"\"\""
   ]
  },
  {
   "cell_type": "code",
   "execution_count": null,
   "metadata": {},
   "outputs": [],
   "source": [
    "\"\"\"plt.figure(figsize=(10, 6))\n",
    "plt.plot(history.history['loss'], label='Training Loss')\n",
    "plt.xlabel('Epoch')\n",
    "plt.ylabel('Loss')\n",
    "plt.yscale('log') #log scale\n",
    "plt.title('Learning Curve - Loss')\n",
    "plt.legend()\n",
    "plt.grid(True)\n",
    "plt.show()\"\"\""
   ]
  },
  {
   "cell_type": "code",
   "execution_count": null,
   "metadata": {},
   "outputs": [],
   "source": [
    "\"\"\"plt.figure(figsize=(10, 6))\n",
    "plt.plot(history.history['accuracy'], label='Training Accuracy')\n",
    "plt.xlabel('Epoch')\n",
    "plt.ylabel('Accuracy')\n",
    "plt.yscale('log') #log scale\n",
    "plt.title('Learning Curve - Accuracy')\n",
    "plt.legend()\n",
    "plt.grid(True)\n",
    "plt.show()\"\"\""
   ]
  },
  {
   "cell_type": "code",
   "execution_count": null,
   "metadata": {},
   "outputs": [],
   "source": [
    "# to store the model\n",
    "\"\"\"model_to_save = model.model\n",
    "model_to_save.save('model.h5')\"\"\""
   ]
  },
  {
   "cell_type": "code",
   "execution_count": 14,
   "metadata": {},
   "outputs": [],
   "source": [
    "# to load the model\n",
    "model = keras.models.load_model('model.h5')"
   ]
  },
  {
   "cell_type": "markdown",
   "metadata": {},
   "source": [
    "#### Total accuracy on the test set"
   ]
  },
  {
   "cell_type": "markdown",
   "metadata": {},
   "source": [
    "After finding the best combination of hyperparameters and training the model using the training set, its accuracy was measured, which recorded a value of 0.46. At first glance, this value might seem low, however there are a few points to discuss:\n",
    "\n",
    "- The first point is that the problem addressed is a multi-class classification, which has a baseline of 1/9, approximately 0.11, and the obtained value from the trained model surpasses it by about 3 times.\n",
    "\n",
    "- The second point is that there are different passing chains. For example, consider the case where a team is in the lead and has possession of the ball: this team will obviously try to keep possession of the ball as much as possible and will tend to keep it more in the defensive areas. On the contrary, a team that is losing and is in the last minutes of the game, will tend to make more long passes and crosses to try to bring the ball into the opponent's penalty area and score. There are different phases of play in football that lead to different situations and different passing chains. Probably, if these additional informations were added to the data of the dataset, the model could reach a higher accuracy value.\n",
    "\n",
    "- The third point is that the model is not given as input, as a feature, whether the team that is making the passes is attacking towards the left or right side of the field. This point is quite important because, if a team attacks towards the right, the passes will tend to be made towards the tiles with the highest values; on the contrary, if the team attacking towards the left is in possession of the ball, then the ball will tend to be passed towards the tiles with the lowest values.\n",
    "\n",
    "- The fourth point to consider is the playing style of each team. Each coach has their own playing philosophy which can drastically modify the passing patterns and ball circulation. In fact, there are coaches who prefer long passes and others who prefer short passes. By giving the RNN the playing style of a team as a feature, it would probably be possible to have a more accurate result on the prediction of the next pass.\n",
    "\n",
    "- The last point is the unpredictability and subjectivity of football. This sport is played by people who know and study the tactics of their team, but they can also act on their own initiative and pass the ball into spaces on the field that are free at that moment, they may not notice movements of teammates who are not marked at that moment, they may make mistakes. How many times, for example, watching a football match, have we tried to predict where the player who has the ball at that moment would pass it in a specific pitch tile to a specific teammate, and it did not happen?\n",
    "\n",
    "Below are some graphs that show how, even if the model does not correctly predict the next tile (therefore not assigning the highest probability to the actual tile, y), it usually assigns the second highest probability to the actual tile, which confirms that the model is able, more or less, to provide in order good probabilities and percentages on which will be the next tile in which the ball will be after a pass."
   ]
  },
  {
   "cell_type": "code",
   "execution_count": 15,
   "metadata": {},
   "outputs": [
    {
     "name": "stdout",
     "output_type": "stream",
     "text": [
      "658/658 [==============================] - 12s 16ms/step - loss: 1.4641 - accuracy: 0.4645\n",
      "Accuracy on the test set (in percentage): 46.45\n"
     ]
    }
   ],
   "source": [
    "#in case you load the model, execute this line...\n",
    "print('Accuracy on the test set (in percentage): %.2f' %(model.evaluate(X_test, y_test)[1]*100))\n",
    "\n",
    "#otherwise this one!\n",
    "#print('Accuracy on the training set (in percentage): %.2f' %(model.score(X_train, y_train)*100))"
   ]
  },
  {
   "cell_type": "markdown",
   "metadata": {},
   "source": [
    "#### Further analysis"
   ]
  },
  {
   "cell_type": "markdown",
   "metadata": {},
   "source": [
    "##### Case 1"
   ]
  },
  {
   "cell_type": "markdown",
   "metadata": {},
   "source": [
    "The first example shows how a prediction is made. In particular, the model is given a sequence of tiles as input, in this case 5 5 5 5 5 2, and it should predict that the next tile where the ball will be after a pass is 1. Indeed, as can be seen in the soccer field, the highest percentage is that of tile 1. In this case, therefore, the model has correctly predicted where the ball will be at the next pass."
   ]
  },
  {
   "cell_type": "code",
   "execution_count": 16,
   "metadata": {},
   "outputs": [
    {
     "name": "stdout",
     "output_type": "stream",
     "text": [
      "Pass chain: [5 5 5 5 5 2]\n"
     ]
    }
   ],
   "source": [
    "decoded_indices = np.argmax(X_test[2], axis=1)\n",
    "\n",
    "decoded_indices = decoded_indices[decoded_indices != 9]\n",
    "print(\"Pass chain:\", decoded_indices)"
   ]
  },
  {
   "cell_type": "code",
   "execution_count": 17,
   "metadata": {},
   "outputs": [
    {
     "name": "stdout",
     "output_type": "stream",
     "text": [
      "Expected result: [1]\n"
     ]
    }
   ],
   "source": [
    "decoded_index = np.argmax(y_test[2], axis=0)\n",
    "\n",
    "decoded_index = decoded_index[decoded_index != 9]\n",
    "print(\"Expected result:\", decoded_index)"
   ]
  },
  {
   "cell_type": "code",
   "execution_count": 18,
   "metadata": {},
   "outputs": [
    {
     "name": "stdout",
     "output_type": "stream",
     "text": [
      "1/1 [==============================] - 1s 713ms/step\n"
     ]
    }
   ],
   "source": [
    "# in case you are using the loaded model, do not change the method, otherwise change it to \"predict_probab\"\n",
    "predictions = model.predict(np.expand_dims(X_test[2], axis=0))\n",
    "\n",
    "predictions = np.delete(predictions, -1)\n",
    "\n",
    "prob = predictions.tolist()\n",
    "prob = [round(x, 2) for x in prob]"
   ]
  },
  {
   "cell_type": "code",
   "execution_count": 19,
   "metadata": {},
   "outputs": [
    {
     "data": {
      "image/png": "[encoded data removed]",
      "text/plain": [
       "<Figure size 1040x680 with 1 Axes>"
      ]
     },
     "metadata": {},
     "output_type": "display_data"
    }
   ],
   "source": [
    "draw_pitch(\"white\", \"black\", prob, decoded_indices[-1])"
   ]
  },
  {
   "cell_type": "markdown",
   "metadata": {},
   "source": [
    "##### Case 2"
   ]
  },
  {
   "cell_type": "markdown",
   "metadata": {},
   "source": [
    "This is another example of a correct prediction:"
   ]
  },
  {
   "cell_type": "code",
   "execution_count": 20,
   "metadata": {},
   "outputs": [
    {
     "name": "stdout",
     "output_type": "stream",
     "text": [
      "Pass chain: [0 3 3 3 0 1 2 5 2 2 1 3]\n"
     ]
    }
   ],
   "source": [
    "decoded_indices = np.argmax(X_test[9], axis=1)\n",
    "\n",
    "decoded_indices = decoded_indices[decoded_indices != 9]\n",
    "print(\"Pass chain:\", decoded_indices)"
   ]
  },
  {
   "cell_type": "code",
   "execution_count": 21,
   "metadata": {},
   "outputs": [
    {
     "name": "stdout",
     "output_type": "stream",
     "text": [
      "Expected result: [3]\n"
     ]
    }
   ],
   "source": [
    "# Find the index of the maximum value in each one-hot encoded vector (representing the original class)\n",
    "decoded_index = np.argmax(y_test[9], axis=0)\n",
    "\n",
    "decoded_index = decoded_index[decoded_index != 9]\n",
    "print(\"Expected result:\", decoded_index)"
   ]
  },
  {
   "cell_type": "code",
   "execution_count": 22,
   "metadata": {},
   "outputs": [
    {
     "name": "stdout",
     "output_type": "stream",
     "text": [
      "1/1 [==============================] - 0s 57ms/step\n"
     ]
    }
   ],
   "source": [
    "# in case you are using the loaded model, do not change the method, otherwise change it to \"predict_probab\"\n",
    "predictions = model.predict(np.expand_dims(X_test[9], axis=0))\n",
    "\n",
    "predictions = np.delete(predictions, -1)\n",
    "\n",
    "prob = predictions.tolist()\n",
    "prob = [round(x, 2) for x in prob]"
   ]
  },
  {
   "cell_type": "code",
   "execution_count": 23,
   "metadata": {},
   "outputs": [
    {
     "data": {
      "image/png": "[encoded data removed]",
      "text/plain": [
       "<Figure size 1040x680 with 1 Axes>"
      ]
     },
     "metadata": {},
     "output_type": "display_data"
    }
   ],
   "source": [
    "draw_pitch(\"white\", \"black\", prob, decoded_indices[-1])"
   ]
  },
  {
   "cell_type": "markdown",
   "metadata": {},
   "source": [
    "##### Case 3"
   ]
  },
  {
   "cell_type": "markdown",
   "metadata": {},
   "source": [
    "This is an example of an incorrect prediction.\n",
    "\n",
    "As can be seen from the graph, the model outputs box 6 as the next tile where the ball will be, however, in reality, the ball will remain in tile 7.\n",
    "\n",
    "As mentioned before, however, the model is still able to output the actual tile as the second alternative; in fact, the actual tile where the ball will be is only 8 percentage points away from the label with the highest value (tile 6)."
   ]
  },
  {
   "cell_type": "code",
   "execution_count": 24,
   "metadata": {},
   "outputs": [
    {
     "name": "stdout",
     "output_type": "stream",
     "text": [
      "Pass chain: [0 5 1 4 2 5 5 3 7]\n"
     ]
    }
   ],
   "source": [
    "decoded_indices = np.argmax(X_test[45], axis=1)\n",
    "\n",
    "decoded_indices = decoded_indices[decoded_indices != 9]\n",
    "print(\"Pass chain:\", decoded_indices)"
   ]
  },
  {
   "cell_type": "code",
   "execution_count": 25,
   "metadata": {},
   "outputs": [
    {
     "name": "stdout",
     "output_type": "stream",
     "text": [
      "Expected result: [7]\n"
     ]
    }
   ],
   "source": [
    "# Find the index of the maximum value in each one-hot encoded vector (representing the original class)\n",
    "decoded_index = np.argmax(y_test[45], axis=0)\n",
    "\n",
    "decoded_index = decoded_index[decoded_index != 9]\n",
    "print(\"Expected result:\", decoded_index)"
   ]
  },
  {
   "cell_type": "code",
   "execution_count": 26,
   "metadata": {},
   "outputs": [
    {
     "name": "stdout",
     "output_type": "stream",
     "text": [
      "1/1 [==============================] - 0s 64ms/step\n"
     ]
    }
   ],
   "source": [
    "# in case you are using the loaded model, do not change the method, otherwise change it to \"predict_probab\"\n",
    "predictions = model.predict(np.expand_dims(X_test[45], axis=0))\n",
    "predictions = np.delete(predictions, -1)\n",
    "\n",
    "prob = predictions.tolist()\n",
    "prob = [round(x, 2) for x in prob]"
   ]
  },
  {
   "cell_type": "code",
   "execution_count": 27,
   "metadata": {},
   "outputs": [
    {
     "data": {
      "image/png": "[encoded data removed]",
      "text/plain": [
       "<Figure size 1040x680 with 1 Axes>"
      ]
     },
     "metadata": {},
     "output_type": "display_data"
    }
   ],
   "source": [
    "draw_pitch(\"white\", \"black\", prob, decoded_indices[-1])"
   ]
  }
 ],
 "metadata": {
  "kernelspec": {
   "display_name": "gsa2023",
   "language": "python",
   "name": "python3"
  },
  "language_info": {
   "codemirror_mode": {
    "name": "ipython",
    "version": 3
   },
   "file_extension": ".py",
   "mimetype": "text/x-python",
   "name": "python",
   "nbconvert_exporter": "python",
   "pygments_lexer": "ipython3",
   "version": "3.9.18"
  }
 },
 "nbformat": 4,
 "nbformat_minor": 2
}
