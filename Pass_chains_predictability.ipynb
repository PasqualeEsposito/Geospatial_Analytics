{
 "cells": [
  {
   "cell_type": "markdown",
   "metadata": {},
   "source": [
    "# Project 4: Football matches as mobility networks\n",
    "During a football match, players move on the field to attack and defend. This generates a series of movements that can be analyzed to understand the players behavior.<br><br>\n",
    "The student should use the `Wyscout open dataset`, describing the “events” in all matches of seven competitions (e.g., passes, shots, tackles etc.), to analyze pass chains and the mobility of football players. A player’s movement is defined by consecutive events made by that player in the match.<br><br>\n",
    "- Investigate the distances traveled by players during their matches and their distributions. Discuss about the similarity of these distributions with those about mobility trajectories seen during the course.<br><br>\n",
    "- Relate the pass chains made by teams with the probability of making a shot, a goal, and to win a match. Are long chains more likely to lead to a shot/goal? Are short pass chains more successful?<br><br>\n",
    "- <b>Quantify the predictability of pass chains based on some division of the football field (tessellation). To what extent can we predict the next tile (field zone) where the ball will be? Use a next-location predictor to quantify the accuracy to predict the next zone the ball will be.</b>"
   ]
  },
  {
   "cell_type": "code",
   "execution_count": 1,
   "metadata": {},
   "outputs": [],
   "source": [
    "import json\n",
    "import pandas as pd\n",
    "import numpy as np\n",
    "from utils import *\n",
    "from tensorflow import keras\n",
    "from tensorflow.keras.preprocessing.sequence import pad_sequences\n",
    "from tensorflow.keras.utils import to_categorical\n",
    "\n",
    "from keras.wrappers.scikit_learn import KerasClassifier\n",
    "from keras.models import Sequential\n",
    "from keras.layers import Dense, SimpleRNN\n",
    "from sklearn.model_selection import GridSearchCV\n",
    "from keras.callbacks import Callback\n",
    "\n",
    "import warnings\n",
    "warnings.filterwarnings('ignore')"
   ]
  },
  {
   "cell_type": "markdown",
   "metadata": {},
   "source": [
    "### Data load"
   ]
  },
  {
   "cell_type": "code",
   "execution_count": 2,
   "metadata": {},
   "outputs": [],
   "source": [
    "# loading the events data\n",
    "events={}\n",
    "nations = ['Italy','England','Germany','France','Spain','European_Championship','World_Cup']\n",
    "for nation in nations:\n",
    "    with open('./data/events/events_%s.json' %nation) as json_data:\n",
    "        events[nation] = json.load(json_data)"
   ]
  },
  {
   "cell_type": "markdown",
   "metadata": {},
   "source": [
    "### JSON to DataFrame"
   ]
  },
  {
   "cell_type": "code",
   "execution_count": 3,
   "metadata": {},
   "outputs": [],
   "source": [
    "events_df = {\n",
    "    'Italy': pd.DataFrame(events['Italy']),\n",
    "    'England': pd.DataFrame(events['England']),\n",
    "    'Germany': pd.DataFrame(events['Germany']),\n",
    "    'France': pd.DataFrame(events['France']),\n",
    "    'Spain': pd.DataFrame(events['Spain']),\n",
    "    'European_Championship': pd.DataFrame(events['European_Championship']),\n",
    "    'World_Cup': pd.DataFrame(events['World_Cup'])\n",
    "}"
   ]
  },
  {
   "cell_type": "code",
   "execution_count": 4,
   "metadata": {},
   "outputs": [],
   "source": [
    "for championship in events_df:\n",
    "    if (championship == 'European_Championship') or (championship == 'World_Cup'):\n",
    "        events_df[championship] = events_df[championship][events_df[championship]['matchPeriod'] != 'P']\n",
    "    events_df[championship] = events_df[championship][(events_df[championship]['eventId'] != 1) & (~events_df[championship]['subEventId'].isin([11, 12]))].reset_index(drop=True)\n",
    "    events_df[championship] = events_df[championship][(events_df[championship]['subEventName'] != 'Goal kick')].reset_index(drop=True)\n",
    "    events_df[championship].drop(columns=['tags', 'eventName', 'subEventId', 'id'], inplace=True)"
   ]
  },
  {
   "cell_type": "code",
   "execution_count": 5,
   "metadata": {},
   "outputs": [],
   "source": [
    "for nation in nations:\n",
    "    events_df[nation]['positions'] = events_df[nation]['positions'].apply(lambda x: from_coords_to_tesselation(x))\n",
    "    events_df[nation].rename(columns={'positions': 'tessellation'}, inplace=True)"
   ]
  },
  {
   "cell_type": "code",
   "execution_count": 6,
   "metadata": {},
   "outputs": [],
   "source": [
    "pass_chains = {}\n",
    "\n",
    "current_team_id = None\n",
    "current_pass_chain = []\n",
    "last_pass_event_index = {}\n",
    "\n",
    "for nation in nations:\n",
    "    for index, row in events_df[nation].iterrows():\n",
    "        if row['eventId'] in [3, 8]:\n",
    "            if row['teamId'] != current_team_id:\n",
    "                if current_pass_chain:\n",
    "                    pass_chains[index] = current_pass_chain\n",
    "                current_team_id = row['teamId']\n",
    "                current_pass_chain = [row['tessellation']]\n",
    "                last_pass_event_index[current_team_id] = index\n",
    "            else:\n",
    "                current_pass_chain.append(row['tessellation'])\n",
    "                last_pass_event_index[current_team_id] = index\n",
    "        else:\n",
    "            if row['teamId'] != current_team_id:\n",
    "                if current_pass_chain:\n",
    "                    pass_chains[last_pass_event_index[current_team_id]] = current_pass_chain\n",
    "                current_team_id = row['teamId']\n",
    "                current_pass_chain = []\n",
    "\n",
    "if current_pass_chain:\n",
    "    pass_chains[last_pass_event_index[current_team_id]] = current_pass_chain"
   ]
  },
  {
   "cell_type": "code",
   "execution_count": null,
   "metadata": {},
   "outputs": [],
   "source": [
    "# deletes the passes chains with less than 3 passes\n",
    "pass_chains = [chain for chain in pass_chains.values() if len(chain) > 3]"
   ]
  },
  {
   "cell_type": "markdown",
   "metadata": {},
   "source": [
    "### Recurrent Neural Network"
   ]
  },
  {
   "cell_type": "code",
   "execution_count": 14,
   "metadata": {},
   "outputs": [],
   "source": [
    "# Determine maximum sequence length\n",
    "max_length = max(len(seq) for seq in pass_chains)\n",
    "\n",
    "# Pad sequences\n",
    "padded_data = pad_sequences(pass_chains, maxlen=max_length, padding='pre', value=9)\n",
    "\n",
    "# One-hot encode if needed (assuming the data is categorical)\n",
    "one_hot_data = to_categorical(padded_data)"
   ]
  },
  {
   "cell_type": "code",
   "execution_count": 15,
   "metadata": {},
   "outputs": [
    {
     "name": "stdout",
     "output_type": "stream",
     "text": [
      "Shape of the training set: (84130, 82, 10)\n",
      "Shape of the test set: (21033, 82, 10)\n",
      "Shape of the training labels: (84130, 10)\n",
      "Shape of the test labels: (21033, 10)\n"
     ]
    }
   ],
   "source": [
    "# Remove the last value (target variable) from each sequence\n",
    "from numpy import shape\n",
    "\n",
    "\n",
    "X = one_hot_data[:, :-1, :]  # Features (input data)\n",
    "y = one_hot_data[:, -1, :]   # Target variable (to be predicted)\n",
    "\n",
    "# Split the data into training, validation, and test sets\n",
    "# For example, you can use an 80-10-10 split\n",
    "num_samples = len(X)\n",
    "train_size = int(0.8 * num_samples)\n",
    "\n",
    "X_train, X_test = X[:train_size], X[train_size:]\n",
    "y_train, y_test = y[:train_size], y[train_size:]\n",
    "\n",
    "print('Shape of the training set:', shape(X_train))\n",
    "print('Shape of the test set:', shape(X_test))\n",
    "print('Shape of the training labels:', shape(y_train))\n",
    "print('Shape of the test labels:', shape(y_test))"
   ]
  },
  {
   "cell_type": "code",
   "execution_count": 16,
   "metadata": {},
   "outputs": [],
   "source": [
    "def create_model(neurons):\n",
    "    model = Sequential()\n",
    "    model.add(SimpleRNN(units=neurons[0], input_shape=(max_length-1, one_hot_data.shape[2]), return_sequences=True))\n",
    "    model.add(SimpleRNN(units=neurons[1], input_shape=(max_length-1, one_hot_data.shape[2]), return_sequences=True))\n",
    "    model.add(SimpleRNN(units=neurons[2], input_shape=(max_length-1, one_hot_data.shape[2])))\n",
    "    model.add(Dense(units=y.shape[1], activation='softmax'))\n",
    "    model.compile(optimizer='adam', loss='categorical_crossentropy', metrics=['accuracy'])\n",
    "    return model"
   ]
  },
  {
   "cell_type": "code",
   "execution_count": 11,
   "metadata": {},
   "outputs": [
    {
     "data": {
      "text/plain": [
       "'neurons = [[5, 10, 10], [10, 15, 15], [20, 15, 20], [30, 30, 50]]\\nbatch_size = [160, 180]\\nparam_grid = dict(neurons=neurons, batch_size=batch_size)\\n\\nmodel = KerasClassifier(build_fn=create_model, epochs=32)\\ngrid = GridSearchCV(estimator=model, param_grid=param_grid, n_jobs=-1, cv=3, verbose=5)\\ngrid_result = grid.fit(X_train, y_train)\\n\\n# summarize results\\nprint(\"Best: %f using %s\" % (grid_result.best_score_, grid_result.best_params_))\\nmeans = grid_result.cv_results_[\\'mean_test_score\\']\\nstds = grid_result.cv_results_[\\'std_test_score\\']\\nparams = grid_result.cv_results_[\\'params\\']\\nfor mean, stdev, param in zip(means, stds, params):\\n    print(\"%f (%f) with: %r\" % (mean, stdev, param))'"
      ]
     },
     "execution_count": 11,
     "metadata": {},
     "output_type": "execute_result"
    }
   ],
   "source": [
    "#This is the grid search used to look for the best hyperparameters... it takes a lot of time to run :)\n",
    "#The fine tuned parameters are: neurons and batch_size; however, a previous grid search was performed to find the best number of epochs\n",
    "#and the best activation function for the output layer.\n",
    "\"\"\"neurons = [[5, 10, 10], [10, 15, 15], [20, 15, 20], [30, 30, 50]]\n",
    "batch_size = [160, 180]\n",
    "param_grid = dict(neurons=neurons, batch_size=batch_size)\n",
    "\n",
    "model = KerasClassifier(build_fn=create_model, epochs=32)\n",
    "grid = GridSearchCV(estimator=model, param_grid=param_grid, n_jobs=-1, cv=3, verbose=5)\n",
    "grid_result = grid.fit(X_train, y_train)\n",
    "\n",
    "# summarize results\n",
    "print(\"Best: %f using %s\" % (grid_result.best_score_, grid_result.best_params_))\n",
    "means = grid_result.cv_results_['mean_test_score']\n",
    "stds = grid_result.cv_results_['std_test_score']\n",
    "params = grid_result.cv_results_['params']\n",
    "for mean, stdev, param in zip(means, stds, params):\n",
    "    print(\"%f (%f) with: %r\" % (mean, stdev, param))\"\"\""
   ]
  },
  {
   "cell_type": "code",
   "execution_count": 12,
   "metadata": {},
   "outputs": [],
   "source": [
    "# the best parameters are epochs=32 batch_size 160, neurons [20, 15, 20], activation_function softmax\n",
    "#model = grid_result.best_estimator_"
   ]
  },
  {
   "cell_type": "code",
   "execution_count": 17,
   "metadata": {},
   "outputs": [],
   "source": [
    "\"\"\"model = KerasClassifier(build_fn=create_model, epochs=32, batch_size=160, neurons=[20, 15, 20])\"\"\""
   ]
  },
  {
   "cell_type": "code",
   "execution_count": 18,
   "metadata": {},
   "outputs": [],
   "source": [
    "\"\"\"logs = Callback()\"\"\""
   ]
  },
  {
   "cell_type": "code",
   "execution_count": 30,
   "metadata": {},
   "outputs": [
    {
     "data": {
      "text/plain": [
       "'history = model.fit(X_train, y_train, epochs=32, batch_size=180, verbose=0, callbacks=[logs])'"
      ]
     },
     "execution_count": 30,
     "metadata": {},
     "output_type": "execute_result"
    }
   ],
   "source": [
    "\"\"\"history = model.fit(X_train, y_train, epochs=32, batch_size=180, verbose=0, callbacks=[logs])\"\"\""
   ]
  },
  {
   "cell_type": "code",
   "execution_count": 31,
   "metadata": {},
   "outputs": [
    {
     "data": {
      "text/plain": [
       "\"plt.figure(figsize=(10, 6))\\nplt.plot(history.history['loss'], label='Training Loss')\\nplt.xlabel('Epoch')\\nplt.ylabel('Loss')\\nplt.yscale('log') #log scale\\nplt.title('Learning Curve - Loss')\\nplt.legend()\\nplt.grid(True)\\nplt.show()\""
      ]
     },
     "execution_count": 31,
     "metadata": {},
     "output_type": "execute_result"
    }
   ],
   "source": [
    "\"\"\"plt.figure(figsize=(10, 6))\n",
    "plt.plot(history.history['loss'], label='Training Loss')\n",
    "plt.xlabel('Epoch')\n",
    "plt.ylabel('Loss')\n",
    "plt.yscale('log') #log scale\n",
    "plt.title('Learning Curve - Loss')\n",
    "plt.legend()\n",
    "plt.grid(True)\n",
    "plt.show()\"\"\""
   ]
  },
  {
   "cell_type": "code",
   "execution_count": 32,
   "metadata": {},
   "outputs": [
    {
     "data": {
      "text/plain": [
       "\"plt.figure(figsize=(10, 6))\\nplt.plot(history.history['accuracy'], label='Training Accuracy')\\nplt.xlabel('Epoch')\\nplt.ylabel('Accuracy')\\nplt.yscale('log') #log scale\\nplt.title('Learning Curve - Accuracy')\\nplt.legend()\\nplt.grid(True)\\nplt.show()\""
      ]
     },
     "execution_count": 32,
     "metadata": {},
     "output_type": "execute_result"
    }
   ],
   "source": [
    "\"\"\"plt.figure(figsize=(10, 6))\n",
    "plt.plot(history.history['accuracy'], label='Training Accuracy')\n",
    "plt.xlabel('Epoch')\n",
    "plt.ylabel('Accuracy')\n",
    "plt.yscale('log') #log scale\n",
    "plt.title('Learning Curve - Accuracy')\n",
    "plt.legend()\n",
    "plt.grid(True)\n",
    "plt.show()\"\"\""
   ]
  },
  {
   "cell_type": "code",
   "execution_count": 33,
   "metadata": {},
   "outputs": [
    {
     "data": {
      "text/plain": [
       "\"model_to_save = model.model\\nmodel_to_save.save('model.h5')\""
      ]
     },
     "execution_count": 33,
     "metadata": {},
     "output_type": "execute_result"
    }
   ],
   "source": [
    "# to store the model\n",
    "\"\"\"model_to_save = model.model\n",
    "model_to_save.save('model.h5')\"\"\""
   ]
  },
  {
   "cell_type": "code",
   "execution_count": 17,
   "metadata": {},
   "outputs": [],
   "source": [
    "# to load the model\n",
    "model = keras.models.load_model('model.h5')"
   ]
  },
  {
   "cell_type": "markdown",
   "metadata": {},
   "source": [
    "#### Total accuracy on the test set"
   ]
  },
  {
   "cell_type": "code",
   "execution_count": 18,
   "metadata": {},
   "outputs": [
    {
     "name": "stdout",
     "output_type": "stream",
     "text": [
      "658/658 [==============================] - 8s 11ms/step - loss: 1.4641 - accuracy: 0.4645\n",
      "Accuracy on the test set (in percentage): 46.45\n"
     ]
    }
   ],
   "source": [
    "#in case you load the model, execute this line, otherwise change the 'evaluate' method into 'score'\n",
    "print('Accuracy on the test set (in percentage): %.2f' %(model.evaluate(X_test, y_test)[1]*100))"
   ]
  },
  {
   "cell_type": "markdown",
   "metadata": {},
   "source": [
    "#### Further analysis"
   ]
  },
  {
   "cell_type": "code",
   "execution_count": 35,
   "metadata": {},
   "outputs": [
    {
     "data": {
      "image/png": "[encoded data removed]",
      "text/plain": [
       "<Figure size 640x480 with 1 Axes>"
      ]
     },
     "metadata": {},
     "output_type": "display_data"
    }
   ],
   "source": [
    "draw_pitch_tessellation()"
   ]
  },
  {
   "cell_type": "markdown",
   "metadata": {},
   "source": [
    "##### Case 1"
   ]
  },
  {
   "cell_type": "code",
   "execution_count": 19,
   "metadata": {},
   "outputs": [
    {
     "name": "stdout",
     "output_type": "stream",
     "text": [
      "[5 5 5 5 5 2]\n"
     ]
    }
   ],
   "source": [
    "decoded_indices = np.argmax(X_test[2], axis=1)\n",
    "\n",
    "decoded_indices = decoded_indices[decoded_indices != 9]\n",
    "print(decoded_indices)"
   ]
  },
  {
   "cell_type": "code",
   "execution_count": 20,
   "metadata": {},
   "outputs": [
    {
     "name": "stdout",
     "output_type": "stream",
     "text": [
      "[1]\n"
     ]
    }
   ],
   "source": [
    "decoded_indices = np.argmax(y_test[2], axis=0)\n",
    "\n",
    "decoded_indices = decoded_indices[decoded_indices != 9]\n",
    "print(decoded_indices)"
   ]
  },
  {
   "cell_type": "code",
   "execution_count": 21,
   "metadata": {},
   "outputs": [
    {
     "name": "stdout",
     "output_type": "stream",
     "text": [
      "1/1 [==============================] - 1s 644ms/step\n"
     ]
    }
   ],
   "source": [
    "# in case you are using the loaded model, execute this line, otherwise change the 'predict' method into 'predict_proba'\n",
    "predictions = model.predict(np.expand_dims(X_test[2], axis=0))\n",
    "predictions = np.delete(predictions, -1)\n",
    "\n",
    "prob = predictions.tolist()\n",
    "prob = [round(x, 2) for x in prob]"
   ]
  },
  {
   "cell_type": "code",
   "execution_count": 22,
   "metadata": {},
   "outputs": [
    {
     "data": {
      "image/png": "[encoded data removed]",
      "text/plain": [
       "<Figure size 1040x680 with 1 Axes>"
      ]
     },
     "metadata": {},
     "output_type": "display_data"
    }
   ],
   "source": [
    "draw_pitch(\"white\", \"black\", prob, decoded_indices[-1])"
   ]
  },
  {
   "cell_type": "markdown",
   "metadata": {},
   "source": [
    "##### Case 2"
   ]
  },
  {
   "cell_type": "code",
   "execution_count": 23,
   "metadata": {},
   "outputs": [
    {
     "name": "stdout",
     "output_type": "stream",
     "text": [
      "[0 3 3 3 0 1 2 5 2 2 1 3]\n"
     ]
    }
   ],
   "source": [
    "decoded_indices = np.argmax(X_test[9], axis=1)\n",
    "\n",
    "decoded_indices = decoded_indices[decoded_indices != 9]\n",
    "print(decoded_indices)"
   ]
  },
  {
   "cell_type": "code",
   "execution_count": 24,
   "metadata": {},
   "outputs": [
    {
     "name": "stdout",
     "output_type": "stream",
     "text": [
      "[3]\n"
     ]
    }
   ],
   "source": [
    "# Find the index of the maximum value in each one-hot encoded vector (representing the original class)\n",
    "decoded_indices = np.argmax(y_test[9], axis=0)\n",
    "\n",
    "decoded_indices = decoded_indices[decoded_indices != 9]\n",
    "print(decoded_indices)"
   ]
  },
  {
   "cell_type": "code",
   "execution_count": 25,
   "metadata": {},
   "outputs": [
    {
     "name": "stdout",
     "output_type": "stream",
     "text": [
      "1/1 [==============================] - 0s 45ms/step\n"
     ]
    }
   ],
   "source": [
    "predictions = model.predict(np.expand_dims(X_test[9], axis=0))\n",
    "predictions = np.delete(predictions, -1)\n",
    "\n",
    "prob = predictions.tolist()\n",
    "prob = [round(x, 2) for x in prob]"
   ]
  },
  {
   "cell_type": "code",
   "execution_count": 26,
   "metadata": {},
   "outputs": [
    {
     "data": {
      "image/png": "[encoded data removed]",
      "text/plain": [
       "<Figure size 1040x680 with 1 Axes>"
      ]
     },
     "metadata": {},
     "output_type": "display_data"
    }
   ],
   "source": [
    "draw_pitch(\"white\", \"black\", prob, decoded_indices[-1])"
   ]
  },
  {
   "cell_type": "markdown",
   "metadata": {},
   "source": [
    "##### Case 3"
   ]
  },
  {
   "cell_type": "code",
   "execution_count": 27,
   "metadata": {},
   "outputs": [
    {
     "name": "stdout",
     "output_type": "stream",
     "text": [
      "[4 3 6 3]\n"
     ]
    }
   ],
   "source": [
    "decoded_indices = np.argmax(X_test[26], axis=1)\n",
    "\n",
    "decoded_indices = decoded_indices[decoded_indices != 9]\n",
    "print(decoded_indices)"
   ]
  },
  {
   "cell_type": "code",
   "execution_count": 28,
   "metadata": {},
   "outputs": [
    {
     "name": "stdout",
     "output_type": "stream",
     "text": [
      "[6]\n"
     ]
    }
   ],
   "source": [
    "# Find the index of the maximum value in each one-hot encoded vector (representing the original class)\n",
    "decoded_indices = np.argmax(y_test[26], axis=0)\n",
    "\n",
    "decoded_indices = decoded_indices[decoded_indices != 9]\n",
    "print(decoded_indices)"
   ]
  },
  {
   "cell_type": "code",
   "execution_count": 29,
   "metadata": {},
   "outputs": [
    {
     "name": "stdout",
     "output_type": "stream",
     "text": [
      "1/1 [==============================] - 0s 45ms/step\n"
     ]
    }
   ],
   "source": [
    "predictions = model.predict(np.expand_dims(X_test[26], axis=0))\n",
    "predictions = np.delete(predictions, -1)\n",
    "\n",
    "prob = predictions.tolist()\n",
    "prob = [round(x, 2) for x in prob]"
   ]
  },
  {
   "cell_type": "code",
   "execution_count": 30,
   "metadata": {},
   "outputs": [
    {
     "data": {
      "image/png": "[encoded data removed]",
      "text/plain": [
       "<Figure size 1040x680 with 1 Axes>"
      ]
     },
     "metadata": {},
     "output_type": "display_data"
    }
   ],
   "source": [
    "draw_pitch(\"white\", \"black\", prob, decoded_indices[-1])"
   ]
  },
  {
   "cell_type": "markdown",
   "metadata": {},
   "source": [
    "##### Case 4"
   ]
  },
  {
   "cell_type": "code",
   "execution_count": 31,
   "metadata": {},
   "outputs": [
    {
     "name": "stdout",
     "output_type": "stream",
     "text": [
      "[0 5 1 4 2 5 5 3 7]\n"
     ]
    }
   ],
   "source": [
    "decoded_indices = np.argmax(X_test[45], axis=1)\n",
    "\n",
    "decoded_indices = decoded_indices[decoded_indices != 9]\n",
    "print(decoded_indices)"
   ]
  },
  {
   "cell_type": "code",
   "execution_count": 32,
   "metadata": {},
   "outputs": [
    {
     "name": "stdout",
     "output_type": "stream",
     "text": [
      "[7]\n"
     ]
    }
   ],
   "source": [
    "# Find the index of the maximum value in each one-hot encoded vector (representing the original class)\n",
    "decoded_indices = np.argmax(y_test[45], axis=0)\n",
    "\n",
    "decoded_indices = decoded_indices[decoded_indices != 9]\n",
    "print(decoded_indices)"
   ]
  },
  {
   "cell_type": "code",
   "execution_count": 33,
   "metadata": {},
   "outputs": [
    {
     "name": "stdout",
     "output_type": "stream",
     "text": [
      "1/1 [==============================] - 0s 40ms/step\n"
     ]
    }
   ],
   "source": [
    "predictions = model.predict(np.expand_dims(X_test[45], axis=0))\n",
    "predictions = np.delete(predictions, -1)\n",
    "\n",
    "prob = predictions.tolist()\n",
    "prob = [round(x, 2) for x in prob]"
   ]
  },
  {
   "cell_type": "code",
   "execution_count": 34,
   "metadata": {},
   "outputs": [
    {
     "data": {
      "image/png": "[encoded data removed]",
      "text/plain": [
       "<Figure size 1040x680 with 1 Axes>"
      ]
     },
     "metadata": {},
     "output_type": "display_data"
    }
   ],
   "source": [
    "draw_pitch(\"white\", \"black\", prob, decoded_indices[-1])"
   ]
  }
 ],
 "metadata": {
  "kernelspec": {
   "display_name": "gsa2023",
   "language": "python",
   "name": "python3"
  },
  "language_info": {
   "codemirror_mode": {
    "name": "ipython",
    "version": 3
   },
   "file_extension": ".py",
   "mimetype": "text/x-python",
   "name": "python",
   "nbconvert_exporter": "python",
   "pygments_lexer": "ipython3",
   "version": "3.9.13"
  }
 },
 "nbformat": 4,
 "nbformat_minor": 2
}
