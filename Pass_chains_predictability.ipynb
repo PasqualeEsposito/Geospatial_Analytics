{
 "cells": [
  {
   "cell_type": "markdown",
   "metadata": {},
   "source": [
    "# Project 4: Football matches as mobility networks\n",
    "During a football match, players move on the field to attack and defend. This generates a series of movements that can be analyzed to understand the players behavior.<br><br>\n",
    "The student should use the `Wyscout open dataset`, describing the “events” in all matches of seven competitions (e.g., passes, shots, tackles etc.), to analyze pass chains and the mobility of football players. A player’s movement is defined by consecutive events made by that player in the match.<br><br>\n",
    "- Investigate the distances traveled by players during their matches and their distributions. Discuss about the similarity of these distributions with those about mobility trajectories seen during the course.<br><br>\n",
    "- Relate the pass chains made by teams with the probability of making a shot, a goal, and to win a match. Are long chains more likely to lead to a shot/goal? Are short pass chains more successful?<br><br>\n",
    "- <b>Quantify the predictability of pass chains based on some division of the football field (tessellation). To what extent can we predict the next tile (field zone) where the ball will be? Use a next-location predictor to quantify the accuracy to predict the next zone the ball will be.</b>"
   ]
  },
  {
   "cell_type": "code",
   "execution_count": 1,
   "metadata": {},
   "outputs": [],
   "source": [
    "import json\n",
    "import pandas as pd\n",
    "import numpy as np\n",
    "import random\n",
    "from utils import *\n",
    "from tensorflow.keras.preprocessing.sequence import pad_sequences\n",
    "from tensorflow.keras.utils import to_categorical\n",
    "\n",
    "from keras.wrappers.scikit_learn import KerasClassifier\n",
    "from keras.models import Sequential\n",
    "from keras.layers import Dense, SimpleRNN\n",
    "from sklearn.model_selection import GridSearchCV\n",
    "\n",
    "import warnings\n",
    "warnings.filterwarnings('ignore')"
   ]
  },
  {
   "cell_type": "markdown",
   "metadata": {},
   "source": [
    "### Data load"
   ]
  },
  {
   "cell_type": "code",
   "execution_count": 2,
   "metadata": {},
   "outputs": [
    {
     "data": {
      "text/plain": [
       "\" # loading the events data\\nevents={}\\nnations = ['Italy','England','Germany','France','Spain','European_Championship','World_Cup']\\nfor nation in nations:\\n    with open('./data/events/events_%s.json' %nation) as json_data:\\n        events[nation] = json.load(json_data) \""
      ]
     },
     "execution_count": 2,
     "metadata": {},
     "output_type": "execute_result"
    }
   ],
   "source": [
    "\"\"\" # loading the events data\n",
    "events={}\n",
    "nations = ['Italy','England','Germany','France','Spain','European_Championship','World_Cup']\n",
    "for nation in nations:\n",
    "    with open('./data/events/events_%s.json' %nation) as json_data:\n",
    "        events[nation] = json.load(json_data) \"\"\""
   ]
  },
  {
   "cell_type": "markdown",
   "metadata": {},
   "source": [
    "### JSON to DataFrame"
   ]
  },
  {
   "cell_type": "code",
   "execution_count": 3,
   "metadata": {},
   "outputs": [
    {
     "data": {
      "text/plain": [
       "\" events_df = {\\n    'Italy': pd.DataFrame(events['Italy']),\\n    'England': pd.DataFrame(events['England']),\\n    'Germany': pd.DataFrame(events['Germany']),\\n    'France': pd.DataFrame(events['France']),\\n    'Spain': pd.DataFrame(events['Spain']),\\n    'European_Championship': pd.DataFrame(events['European_Championship']),\\n    'World_Cup': pd.DataFrame(events['World_Cup'])\\n} \""
      ]
     },
     "execution_count": 3,
     "metadata": {},
     "output_type": "execute_result"
    }
   ],
   "source": [
    "\"\"\" events_df = {\n",
    "    'Italy': pd.DataFrame(events['Italy']),\n",
    "    'England': pd.DataFrame(events['England']),\n",
    "    'Germany': pd.DataFrame(events['Germany']),\n",
    "    'France': pd.DataFrame(events['France']),\n",
    "    'Spain': pd.DataFrame(events['Spain']),\n",
    "    'European_Championship': pd.DataFrame(events['European_Championship']),\n",
    "    'World_Cup': pd.DataFrame(events['World_Cup'])\n",
    "} \"\"\""
   ]
  },
  {
   "cell_type": "code",
   "execution_count": 4,
   "metadata": {},
   "outputs": [
    {
     "data": {
      "text/plain": [
       "\" for championship in events_df:\\n    if (championship == 'European_Championship') or (championship == 'World_Cup'):\\n        events_df[championship] = events_df[championship][events_df[championship]['matchPeriod'] != 'P']\\n    events_df[championship] = events_df[championship][(events_df[championship]['eventId'] != 1) & (~events_df[championship]['subEventId'].isin([11, 12]))].reset_index(drop=True)\\n    events_df[championship] = events_df[championship][(events_df[championship]['subEventName'] != 'Goal kick')].reset_index(drop=True)\\n    events_df[championship].drop(columns=['tags', 'eventName', 'subEventId', 'id'], inplace=True) \""
      ]
     },
     "execution_count": 4,
     "metadata": {},
     "output_type": "execute_result"
    }
   ],
   "source": [
    "\"\"\" for championship in events_df:\n",
    "    if (championship == 'European_Championship') or (championship == 'World_Cup'):\n",
    "        events_df[championship] = events_df[championship][events_df[championship]['matchPeriod'] != 'P']\n",
    "    events_df[championship] = events_df[championship][(events_df[championship]['eventId'] != 1) & (~events_df[championship]['subEventId'].isin([11, 12]))].reset_index(drop=True)\n",
    "    events_df[championship] = events_df[championship][(events_df[championship]['subEventName'] != 'Goal kick')].reset_index(drop=True)\n",
    "    events_df[championship].drop(columns=['tags', 'eventName', 'subEventId', 'id'], inplace=True) \"\"\""
   ]
  },
  {
   "cell_type": "code",
   "execution_count": 5,
   "metadata": {},
   "outputs": [
    {
     "data": {
      "text/plain": [
       "\" for nation in nations:\\n    events_df[nation]['positions'] = events_df[nation]['positions'].apply(lambda x: from_coords_to_tesselation(x))\\n    events_df[nation].rename(columns={'positions': 'tessellation'}, inplace=True) \""
      ]
     },
     "execution_count": 5,
     "metadata": {},
     "output_type": "execute_result"
    }
   ],
   "source": [
    "\"\"\" for nation in nations:\n",
    "    events_df[nation]['positions'] = events_df[nation]['positions'].apply(lambda x: from_coords_to_tesselation(x))\n",
    "    events_df[nation].rename(columns={'positions': 'tessellation'}, inplace=True) \"\"\""
   ]
  },
  {
   "cell_type": "code",
   "execution_count": 6,
   "metadata": {},
   "outputs": [
    {
     "data": {
      "image/png": "[encoded data removed]",
      "text/plain": [
       "<Figure size 640x480 with 1 Axes>"
      ]
     },
     "metadata": {},
     "output_type": "display_data"
    }
   ],
   "source": [
    "draw_pitch_tessellation()"
   ]
  },
  {
   "cell_type": "code",
   "execution_count": 7,
   "metadata": {},
   "outputs": [
    {
     "data": {
      "text/plain": [
       "\" pass_chains = {}\\n\\ncurrent_team_id = None\\ncurrent_pass_chain = []\\nlast_pass_event_index = {}\\n\\nfor nation in nations:\\n    for index, row in events_df[nation].iterrows():\\n        if row['eventId'] in [3, 8]:\\n            if row['teamId'] != current_team_id:\\n                if current_pass_chain:\\n                    pass_chains[index] = current_pass_chain\\n                current_team_id = row['teamId']\\n                current_pass_chain = [row['tessellation']]\\n                last_pass_event_index[current_team_id] = index\\n            else:\\n                current_pass_chain.append(row['tessellation'])\\n                last_pass_event_index[current_team_id] = index\\n        else:\\n            if row['teamId'] != current_team_id:\\n                if current_pass_chain:\\n                    pass_chains[last_pass_event_index[current_team_id]] = current_pass_chain\\n                current_team_id = row['teamId']\\n                current_pass_chain = []\\n\\nif current_pass_chain:\\n    pass_chains[last_pass_event_index[current_team_id]] = current_pass_chain \""
      ]
     },
     "execution_count": 7,
     "metadata": {},
     "output_type": "execute_result"
    }
   ],
   "source": [
    "\"\"\" pass_chains = {}\n",
    "\n",
    "current_team_id = None\n",
    "current_pass_chain = []\n",
    "last_pass_event_index = {}\n",
    "\n",
    "for nation in nations:\n",
    "    for index, row in events_df[nation].iterrows():\n",
    "        if row['eventId'] in [3, 8]:\n",
    "            if row['teamId'] != current_team_id:\n",
    "                if current_pass_chain:\n",
    "                    pass_chains[index] = current_pass_chain\n",
    "                current_team_id = row['teamId']\n",
    "                current_pass_chain = [row['tessellation']]\n",
    "                last_pass_event_index[current_team_id] = index\n",
    "            else:\n",
    "                current_pass_chain.append(row['tessellation'])\n",
    "                last_pass_event_index[current_team_id] = index\n",
    "        else:\n",
    "            if row['teamId'] != current_team_id:\n",
    "                if current_pass_chain:\n",
    "                    pass_chains[last_pass_event_index[current_team_id]] = current_pass_chain\n",
    "                current_team_id = row['teamId']\n",
    "                current_pass_chain = []\n",
    "\n",
    "if current_pass_chain:\n",
    "    pass_chains[last_pass_event_index[current_team_id]] = current_pass_chain \"\"\""
   ]
  },
  {
   "cell_type": "code",
   "execution_count": 8,
   "metadata": {},
   "outputs": [
    {
     "data": {
      "text/plain": [
       "\" passes = open('pass_chains.pkl', 'wb') \\npickle.dump(pass_chains, passes) \""
      ]
     },
     "execution_count": 8,
     "metadata": {},
     "output_type": "execute_result"
    }
   ],
   "source": [
    "import pickle\n",
    "\n",
    "\"\"\" passes = open('pass_chains.pkl', 'wb') \n",
    "pickle.dump(pass_chains, passes) \"\"\""
   ]
  },
  {
   "cell_type": "code",
   "execution_count": 9,
   "metadata": {},
   "outputs": [],
   "source": [
    "with open('pass_chains.pkl', 'rb') as passes:\n",
    "    pass_chains = pickle.load(passes)"
   ]
  },
  {
   "cell_type": "code",
   "execution_count": 10,
   "metadata": {},
   "outputs": [],
   "source": [
    "# deletes the pairs key-value with a length of the value less than 2\n",
    "pass_chains = [chain for chain in pass_chains.values() if len(chain) > 1]"
   ]
  },
  {
   "cell_type": "markdown",
   "metadata": {},
   "source": [
    "### Recurrent Neural Network"
   ]
  },
  {
   "cell_type": "code",
   "execution_count": 11,
   "metadata": {},
   "outputs": [],
   "source": [
    "# Determine maximum sequence length\n",
    "max_length = max(len(seq) for seq in pass_chains)\n",
    "\n",
    "# Pad sequences\n",
    "padded_data = pad_sequences(pass_chains, maxlen=max_length, padding='post', value=0)\n",
    "\n",
    "# One-hot encode if needed (assuming the data is categorical)\n",
    "one_hot_data = to_categorical(padded_data)"
   ]
  },
  {
   "cell_type": "code",
   "execution_count": 15,
   "metadata": {},
   "outputs": [
    {
     "name": "stdout",
     "output_type": "stream",
     "text": [
      "Lunghezza massima di una sequenza: 83\n"
     ]
    }
   ],
   "source": [
    "print('Lunghezza massima di una sequenza:', max_length)"
   ]
  },
  {
   "cell_type": "code",
   "execution_count": 16,
   "metadata": {},
   "outputs": [
    {
     "name": "stdout",
     "output_type": "stream",
     "text": [
      "Shape of the training set: (121670, 82, 9)\n",
      "Shape of the validation set: (40556, 82, 9)\n",
      "Shape of the test set: (40558, 82, 9)\n",
      "Shape of the training labels: (121670, 9)\n",
      "Shape of the validation labels: (40556, 9)\n",
      "Shape of the test labels: (40558, 9)\n"
     ]
    }
   ],
   "source": [
    "# Remove the last value (target variable) from each sequence\n",
    "from numpy import shape\n",
    "\n",
    "\n",
    "X = one_hot_data[:, :-1, :]  # Features (input data)\n",
    "y = one_hot_data[:, -1, :]   # Target variable (to be predicted)\n",
    "\n",
    "# Split the data into training, validation, and test sets\n",
    "# For example, you can use an 80-10-10 split\n",
    "num_samples = len(X)\n",
    "train_size = int(0.6 * num_samples)\n",
    "val_size = int(0.2 * num_samples)\n",
    "\n",
    "X_train, X_val, X_test = X[:train_size], X[train_size:train_size+val_size], X[train_size+val_size:]\n",
    "y_train, y_val, y_test = y[:train_size], y[train_size:train_size+val_size], y[train_size+val_size:]\n",
    "\n",
    "print('Shape of the training set:', shape(X_train))\n",
    "print('Shape of the validation set:', shape(X_val))\n",
    "print('Shape of the test set:', shape(X_test))\n",
    "print('Shape of the training labels:', shape(y_train))\n",
    "print('Shape of the validation labels:', shape(y_val))\n",
    "print('Shape of the test labels:', shape(y_test))"
   ]
  },
  {
   "cell_type": "code",
   "execution_count": 13,
   "metadata": {},
   "outputs": [],
   "source": [
    "def create_model(units=64, optimizer='adam', model__neurons=16):\n",
    "    model = Sequential()\n",
    "    if(type(model__neurons) == tuple):\n",
    "        for num in model__neurons:\n",
    "            model.add(SimpleRNN(units=num, input_shape=(max_length-1, one_hot_data.shape[2])))\n",
    "    else:\n",
    "        model.add(SimpleRNN(units=model__neurons, input_shape=(max_length-1, one_hot_data.shape[2])))\n",
    "    model.add(Dense(units=y.shape[1], activation='softmax'))\n",
    "    model.compile(optimizer=optimizer, loss='categorical_crossentropy', metrics=['accuracy'])\n",
    "    return model"
   ]
  },
  {
   "cell_type": "code",
   "execution_count": 14,
   "metadata": {},
   "outputs": [
    {
     "name": "stdout",
     "output_type": "stream",
     "text": [
      "Fitting 3 folds for each of 45 candidates, totalling 135 fits\n"
     ]
    }
   ],
   "source": [
    "#Dovrei fare anche la grid search sul learning rate, momentum e altro? Su quali parametri fare la grid search?\n",
    "batch_size = [10, 50, 100]\n",
    "epochs = [10, 50, 100]\n",
    "neurons = [5, 10, (5, 5), (5, 10), (10, 5)]\n",
    "param_grid = dict(batch_size=batch_size, epochs=epochs, model__neurons=neurons)\n",
    "\n",
    "model = KerasClassifier(build_fn=create_model, verbose=1)\n",
    "grid = GridSearchCV(estimator=model, param_grid=param_grid, n_jobs=-1, cv=3, verbose=3)\n",
    "grid_result = grid.fit(X_train, y_train)\n",
    "\n",
    "# summarize results\n",
    "print(\"Best: %f using %s\" % (grid_result.best_score_, grid_result.best_params_))\n",
    "means = grid_result.cv_results_['mean_test_score']\n",
    "stds = grid_result.cv_results_['std_test_score']\n",
    "params = grid_result.cv_results_['params']\n",
    "for mean, stdev, param in zip(means, stds, params):\n",
    "    print(\"%f (%f) with: %r\" % (mean, stdev, param))"
   ]
  }
 ],
 "metadata": {
  "kernelspec": {
   "display_name": "gsa2023",
   "language": "python",
   "name": "python3"
  },
  "language_info": {
   "codemirror_mode": {
    "name": "ipython",
    "version": 3
   },
   "file_extension": ".py",
   "mimetype": "text/x-python",
   "name": "python",
   "nbconvert_exporter": "python",
   "pygments_lexer": "ipython3",
   "version": "3.9.13"
  }
 },
 "nbformat": 4,
 "nbformat_minor": 2
}
